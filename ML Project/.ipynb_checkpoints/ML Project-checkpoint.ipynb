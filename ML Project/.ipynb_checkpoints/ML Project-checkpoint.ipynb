{
 "cells": [
  {
   "cell_type": "markdown",
   "id": "47b31c0f",
   "metadata": {},
   "source": [
    "# Machine Learning in Python"
   ]
  },
  {
   "cell_type": "markdown",
   "id": "cd5f39bd",
   "metadata": {},
   "source": [
    "## Name: Juan Villegas "
   ]
  },
  {
   "cell_type": "markdown",
   "id": "e69ebafa",
   "metadata": {},
   "source": [
    "### 1. Find and load a dataset to analyze (required). Possible datasets include the following:"
   ]
  },
  {
   "cell_type": "code",
   "execution_count": 1,
   "id": "0f5f7ea1",
   "metadata": {},
   "outputs": [
    {
     "data": {
      "text/plain": [
       "array([0, 1, 2])"
      ]
     },
     "execution_count": 1,
     "metadata": {},
     "output_type": "execute_result"
    }
   ],
   "source": [
    "from sklearn.datasets import load_wine\n",
    "data = load_wine()\n",
    "data.target[[10, 80, 140]]"
   ]
  },
  {
   "cell_type": "code",
   "execution_count": 2,
   "id": "8ab372dd",
   "metadata": {},
   "outputs": [
    {
     "data": {
      "text/plain": [
       "['class_0', 'class_1', 'class_2']"
      ]
     },
     "execution_count": 2,
     "metadata": {},
     "output_type": "execute_result"
    }
   ],
   "source": [
    "list(data.target_names)"
   ]
  },
  {
   "cell_type": "markdown",
   "id": "2e247599",
   "metadata": {},
   "source": [
    "## Loading and understanding the data"
   ]
  },
  {
   "cell_type": "code",
   "execution_count": 3,
   "id": "97e7049b",
   "metadata": {},
   "outputs": [
    {
     "name": "stdout",
     "output_type": "stream",
     "text": [
      ".. _wine_dataset:\n",
      "\n",
      "Wine recognition dataset\n",
      "------------------------\n",
      "\n",
      "**Data Set Characteristics:**\n",
      "\n",
      "    :Number of Instances: 178 (50 in each of three classes)\n",
      "    :Number of Attributes: 13 numeric, predictive attributes and the class\n",
      "    :Attribute Information:\n",
      " \t\t- Alcohol\n",
      " \t\t- Malic acid\n",
      " \t\t- Ash\n",
      "\t\t- Alcalinity of ash  \n",
      " \t\t- Magnesium\n",
      "\t\t- Total phenols\n",
      " \t\t- Flavanoids\n",
      " \t\t- Nonflavanoid phenols\n",
      " \t\t- Proanthocyanins\n",
      "\t\t- Color intensity\n",
      " \t\t- Hue\n",
      " \t\t- OD280/OD315 of diluted wines\n",
      " \t\t- Proline\n",
      "\n",
      "    - class:\n",
      "            - class_0\n",
      "            - class_1\n",
      "            - class_2\n",
      "\t\t\n",
      "    :Summary Statistics:\n",
      "    \n",
      "    ============================= ==== ===== ======= =====\n",
      "                                   Min   Max   Mean     SD\n",
      "    ============================= ==== ===== ======= =====\n",
      "    Alcohol:                      11.0  14.8    13.0   0.8\n",
      "    Malic Acid:                   0.74  5.80    2.34  1.12\n",
      "    Ash:                          1.36  3.23    2.36  0.27\n",
      "    Alcalinity of Ash:            10.6  30.0    19.5   3.3\n",
      "    Magnesium:                    70.0 162.0    99.7  14.3\n",
      "    Total Phenols:                0.98  3.88    2.29  0.63\n",
      "    Flavanoids:                   0.34  5.08    2.03  1.00\n",
      "    Nonflavanoid Phenols:         0.13  0.66    0.36  0.12\n",
      "    Proanthocyanins:              0.41  3.58    1.59  0.57\n",
      "    Colour Intensity:              1.3  13.0     5.1   2.3\n",
      "    Hue:                          0.48  1.71    0.96  0.23\n",
      "    OD280/OD315 of diluted wines: 1.27  4.00    2.61  0.71\n",
      "    Proline:                       278  1680     746   315\n",
      "    ============================= ==== ===== ======= =====\n",
      "\n",
      "    :Missing Attribute Values: None\n",
      "    :Class Distribution: class_0 (59), class_1 (71), class_2 (48)\n",
      "    :Creator: R.A. Fisher\n",
      "    :Donor: Michael Marshall (MARSHALL%PLU@io.arc.nasa.gov)\n",
      "    :Date: July, 1988\n",
      "\n",
      "This is a copy of UCI ML Wine recognition datasets.\n",
      "https://archive.ics.uci.edu/ml/machine-learning-databases/wine/wine.data\n",
      "\n",
      "The data is the results of a chemical analysis of wines grown in the same\n",
      "region in Italy by three different cultivators. There are thirteen different\n",
      "measurements taken for different constituents found in the three types of\n",
      "wine.\n",
      "\n",
      "Original Owners: \n",
      "\n",
      "Forina, M. et al, PARVUS - \n",
      "An Extendible Package for Data Exploration, Classification and Correlation. \n",
      "Institute of Pharmaceutical and Food Analysis and Technologies,\n",
      "Via Brigata Salerno, 16147 Genoa, Italy.\n",
      "\n",
      "Citation:\n",
      "\n",
      "Lichman, M. (2013). UCI Machine Learning Repository\n",
      "[https://archive.ics.uci.edu/ml]. Irvine, CA: University of California,\n",
      "School of Information and Computer Science. \n",
      "\n",
      ".. topic:: References\n",
      "\n",
      "  (1) S. Aeberhard, D. Coomans and O. de Vel, \n",
      "  Comparison of Classifiers in High Dimensional Settings, \n",
      "  Tech. Rep. no. 92-02, (1992), Dept. of Computer Science and Dept. of  \n",
      "  Mathematics and Statistics, James Cook University of North Queensland. \n",
      "  (Also submitted to Technometrics). \n",
      "\n",
      "  The data was used with many others for comparing various \n",
      "  classifiers. The classes are separable, though only RDA \n",
      "  has achieved 100% correct classification. \n",
      "  (RDA : 100%, QDA 99.4%, LDA 98.9%, 1NN 96.1% (z-transformed data)) \n",
      "  (All results using the leave-one-out technique) \n",
      "\n",
      "  (2) S. Aeberhard, D. Coomans and O. de Vel, \n",
      "  \"THE CLASSIFICATION PERFORMANCE OF RDA\" \n",
      "  Tech. Rep. no. 92-01, (1992), Dept. of Computer Science and Dept. of \n",
      "  Mathematics and Statistics, James Cook University of North Queensland. \n",
      "  (Also submitted to Journal of Chemometrics).\n",
      "\n"
     ]
    }
   ],
   "source": [
    "print(data.DESCR)"
   ]
  },
  {
   "cell_type": "markdown",
   "id": "17b55391",
   "metadata": {},
   "source": [
    "### 2. For both the training and testing sets, use Python to output the number of features and the number of samples, which documentation or output that clearly indicates which number is which. This should generally be accomplished by looking at the shape of the data. [5 points]"
   ]
  },
  {
   "cell_type": "code",
   "execution_count": 4,
   "id": "4562317d",
   "metadata": {},
   "outputs": [],
   "source": [
    "X = data.data\n",
    "y = data.target"
   ]
  },
  {
   "cell_type": "code",
   "execution_count": 5,
   "id": "8665ae77",
   "metadata": {},
   "outputs": [
    {
     "data": {
      "text/plain": [
       "(178, 13)"
      ]
     },
     "execution_count": 5,
     "metadata": {},
     "output_type": "execute_result"
    }
   ],
   "source": [
    "X.shape"
   ]
  },
  {
   "cell_type": "code",
   "execution_count": 6,
   "id": "8d7ec5fb",
   "metadata": {},
   "outputs": [
    {
     "name": "stdout",
     "output_type": "stream",
     "text": [
      " X has 178 rows/records/tuples and 13 columns/independent variable/predictor variables\n"
     ]
    }
   ],
   "source": [
    "print(' X has 178 rows/records/tuples and 13 columns/independent variable/predictor variables')"
   ]
  },
  {
   "cell_type": "code",
   "execution_count": 7,
   "id": "a39419b2",
   "metadata": {},
   "outputs": [
    {
     "data": {
      "text/plain": [
       "(178,)"
      ]
     },
     "execution_count": 7,
     "metadata": {},
     "output_type": "execute_result"
    }
   ],
   "source": [
    "y.shape"
   ]
  },
  {
   "cell_type": "code",
   "execution_count": 8,
   "id": "ab9be5e3",
   "metadata": {},
   "outputs": [
    {
     "name": "stdout",
     "output_type": "stream",
     "text": [
      " y has 178 rows/records/tuples \n"
     ]
    }
   ],
   "source": [
    "print(' y has 178 rows/records/tuples ')"
   ]
  },
  {
   "cell_type": "markdown",
   "id": "80b053b2",
   "metadata": {},
   "source": [
    "### 3. construct two separate scatterplots showing the relationship between 2 different pairs of variables, with points color-coded by target values. [15 points]"
   ]
  },
  {
   "cell_type": "code",
   "execution_count": 9,
   "id": "274a2049",
   "metadata": {},
   "outputs": [
    {
     "data": {
      "text/html": [
       "<div>\n",
       "<style scoped>\n",
       "    .dataframe tbody tr th:only-of-type {\n",
       "        vertical-align: middle;\n",
       "    }\n",
       "\n",
       "    .dataframe tbody tr th {\n",
       "        vertical-align: top;\n",
       "    }\n",
       "\n",
       "    .dataframe thead th {\n",
       "        text-align: right;\n",
       "    }\n",
       "</style>\n",
       "<table border=\"1\" class=\"dataframe\">\n",
       "  <thead>\n",
       "    <tr style=\"text-align: right;\">\n",
       "      <th></th>\n",
       "      <th>alcohol</th>\n",
       "      <th>malic_acid</th>\n",
       "      <th>ash</th>\n",
       "      <th>alcalinity_of_ash</th>\n",
       "      <th>magnesium</th>\n",
       "      <th>total_phenols</th>\n",
       "      <th>flavanoids</th>\n",
       "      <th>nonflavanoid_phenols</th>\n",
       "      <th>proanthocyanins</th>\n",
       "      <th>color_intensity</th>\n",
       "      <th>hue</th>\n",
       "      <th>od280/od315_of_diluted_wines</th>\n",
       "      <th>proline</th>\n",
       "    </tr>\n",
       "  </thead>\n",
       "  <tbody>\n",
       "    <tr>\n",
       "      <th>0</th>\n",
       "      <td>14.23</td>\n",
       "      <td>1.71</td>\n",
       "      <td>2.43</td>\n",
       "      <td>15.6</td>\n",
       "      <td>127.0</td>\n",
       "      <td>2.80</td>\n",
       "      <td>3.06</td>\n",
       "      <td>0.28</td>\n",
       "      <td>2.29</td>\n",
       "      <td>5.64</td>\n",
       "      <td>1.04</td>\n",
       "      <td>3.92</td>\n",
       "      <td>1065.0</td>\n",
       "    </tr>\n",
       "    <tr>\n",
       "      <th>1</th>\n",
       "      <td>13.20</td>\n",
       "      <td>1.78</td>\n",
       "      <td>2.14</td>\n",
       "      <td>11.2</td>\n",
       "      <td>100.0</td>\n",
       "      <td>2.65</td>\n",
       "      <td>2.76</td>\n",
       "      <td>0.26</td>\n",
       "      <td>1.28</td>\n",
       "      <td>4.38</td>\n",
       "      <td>1.05</td>\n",
       "      <td>3.40</td>\n",
       "      <td>1050.0</td>\n",
       "    </tr>\n",
       "    <tr>\n",
       "      <th>2</th>\n",
       "      <td>13.16</td>\n",
       "      <td>2.36</td>\n",
       "      <td>2.67</td>\n",
       "      <td>18.6</td>\n",
       "      <td>101.0</td>\n",
       "      <td>2.80</td>\n",
       "      <td>3.24</td>\n",
       "      <td>0.30</td>\n",
       "      <td>2.81</td>\n",
       "      <td>5.68</td>\n",
       "      <td>1.03</td>\n",
       "      <td>3.17</td>\n",
       "      <td>1185.0</td>\n",
       "    </tr>\n",
       "    <tr>\n",
       "      <th>3</th>\n",
       "      <td>14.37</td>\n",
       "      <td>1.95</td>\n",
       "      <td>2.50</td>\n",
       "      <td>16.8</td>\n",
       "      <td>113.0</td>\n",
       "      <td>3.85</td>\n",
       "      <td>3.49</td>\n",
       "      <td>0.24</td>\n",
       "      <td>2.18</td>\n",
       "      <td>7.80</td>\n",
       "      <td>0.86</td>\n",
       "      <td>3.45</td>\n",
       "      <td>1480.0</td>\n",
       "    </tr>\n",
       "    <tr>\n",
       "      <th>4</th>\n",
       "      <td>13.24</td>\n",
       "      <td>2.59</td>\n",
       "      <td>2.87</td>\n",
       "      <td>21.0</td>\n",
       "      <td>118.0</td>\n",
       "      <td>2.80</td>\n",
       "      <td>2.69</td>\n",
       "      <td>0.39</td>\n",
       "      <td>1.82</td>\n",
       "      <td>4.32</td>\n",
       "      <td>1.04</td>\n",
       "      <td>2.93</td>\n",
       "      <td>735.0</td>\n",
       "    </tr>\n",
       "    <tr>\n",
       "      <th>...</th>\n",
       "      <td>...</td>\n",
       "      <td>...</td>\n",
       "      <td>...</td>\n",
       "      <td>...</td>\n",
       "      <td>...</td>\n",
       "      <td>...</td>\n",
       "      <td>...</td>\n",
       "      <td>...</td>\n",
       "      <td>...</td>\n",
       "      <td>...</td>\n",
       "      <td>...</td>\n",
       "      <td>...</td>\n",
       "      <td>...</td>\n",
       "    </tr>\n",
       "    <tr>\n",
       "      <th>173</th>\n",
       "      <td>13.71</td>\n",
       "      <td>5.65</td>\n",
       "      <td>2.45</td>\n",
       "      <td>20.5</td>\n",
       "      <td>95.0</td>\n",
       "      <td>1.68</td>\n",
       "      <td>0.61</td>\n",
       "      <td>0.52</td>\n",
       "      <td>1.06</td>\n",
       "      <td>7.70</td>\n",
       "      <td>0.64</td>\n",
       "      <td>1.74</td>\n",
       "      <td>740.0</td>\n",
       "    </tr>\n",
       "    <tr>\n",
       "      <th>174</th>\n",
       "      <td>13.40</td>\n",
       "      <td>3.91</td>\n",
       "      <td>2.48</td>\n",
       "      <td>23.0</td>\n",
       "      <td>102.0</td>\n",
       "      <td>1.80</td>\n",
       "      <td>0.75</td>\n",
       "      <td>0.43</td>\n",
       "      <td>1.41</td>\n",
       "      <td>7.30</td>\n",
       "      <td>0.70</td>\n",
       "      <td>1.56</td>\n",
       "      <td>750.0</td>\n",
       "    </tr>\n",
       "    <tr>\n",
       "      <th>175</th>\n",
       "      <td>13.27</td>\n",
       "      <td>4.28</td>\n",
       "      <td>2.26</td>\n",
       "      <td>20.0</td>\n",
       "      <td>120.0</td>\n",
       "      <td>1.59</td>\n",
       "      <td>0.69</td>\n",
       "      <td>0.43</td>\n",
       "      <td>1.35</td>\n",
       "      <td>10.20</td>\n",
       "      <td>0.59</td>\n",
       "      <td>1.56</td>\n",
       "      <td>835.0</td>\n",
       "    </tr>\n",
       "    <tr>\n",
       "      <th>176</th>\n",
       "      <td>13.17</td>\n",
       "      <td>2.59</td>\n",
       "      <td>2.37</td>\n",
       "      <td>20.0</td>\n",
       "      <td>120.0</td>\n",
       "      <td>1.65</td>\n",
       "      <td>0.68</td>\n",
       "      <td>0.53</td>\n",
       "      <td>1.46</td>\n",
       "      <td>9.30</td>\n",
       "      <td>0.60</td>\n",
       "      <td>1.62</td>\n",
       "      <td>840.0</td>\n",
       "    </tr>\n",
       "    <tr>\n",
       "      <th>177</th>\n",
       "      <td>14.13</td>\n",
       "      <td>4.10</td>\n",
       "      <td>2.74</td>\n",
       "      <td>24.5</td>\n",
       "      <td>96.0</td>\n",
       "      <td>2.05</td>\n",
       "      <td>0.76</td>\n",
       "      <td>0.56</td>\n",
       "      <td>1.35</td>\n",
       "      <td>9.20</td>\n",
       "      <td>0.61</td>\n",
       "      <td>1.60</td>\n",
       "      <td>560.0</td>\n",
       "    </tr>\n",
       "  </tbody>\n",
       "</table>\n",
       "<p>178 rows × 13 columns</p>\n",
       "</div>"
      ],
      "text/plain": [
       "     alcohol  malic_acid   ash  alcalinity_of_ash  magnesium  total_phenols  \\\n",
       "0      14.23        1.71  2.43               15.6      127.0           2.80   \n",
       "1      13.20        1.78  2.14               11.2      100.0           2.65   \n",
       "2      13.16        2.36  2.67               18.6      101.0           2.80   \n",
       "3      14.37        1.95  2.50               16.8      113.0           3.85   \n",
       "4      13.24        2.59  2.87               21.0      118.0           2.80   \n",
       "..       ...         ...   ...                ...        ...            ...   \n",
       "173    13.71        5.65  2.45               20.5       95.0           1.68   \n",
       "174    13.40        3.91  2.48               23.0      102.0           1.80   \n",
       "175    13.27        4.28  2.26               20.0      120.0           1.59   \n",
       "176    13.17        2.59  2.37               20.0      120.0           1.65   \n",
       "177    14.13        4.10  2.74               24.5       96.0           2.05   \n",
       "\n",
       "     flavanoids  nonflavanoid_phenols  proanthocyanins  color_intensity   hue  \\\n",
       "0          3.06                  0.28             2.29             5.64  1.04   \n",
       "1          2.76                  0.26             1.28             4.38  1.05   \n",
       "2          3.24                  0.30             2.81             5.68  1.03   \n",
       "3          3.49                  0.24             2.18             7.80  0.86   \n",
       "4          2.69                  0.39             1.82             4.32  1.04   \n",
       "..          ...                   ...              ...              ...   ...   \n",
       "173        0.61                  0.52             1.06             7.70  0.64   \n",
       "174        0.75                  0.43             1.41             7.30  0.70   \n",
       "175        0.69                  0.43             1.35            10.20  0.59   \n",
       "176        0.68                  0.53             1.46             9.30  0.60   \n",
       "177        0.76                  0.56             1.35             9.20  0.61   \n",
       "\n",
       "     od280/od315_of_diluted_wines  proline  \n",
       "0                            3.92   1065.0  \n",
       "1                            3.40   1050.0  \n",
       "2                            3.17   1185.0  \n",
       "3                            3.45   1480.0  \n",
       "4                            2.93    735.0  \n",
       "..                            ...      ...  \n",
       "173                          1.74    740.0  \n",
       "174                          1.56    750.0  \n",
       "175                          1.56    835.0  \n",
       "176                          1.62    840.0  \n",
       "177                          1.60    560.0  \n",
       "\n",
       "[178 rows x 13 columns]"
      ]
     },
     "execution_count": 9,
     "metadata": {},
     "output_type": "execute_result"
    }
   ],
   "source": [
    "import pandas as pd\n",
    "wine_df = pd.DataFrame(X, columns=data.feature_names)\n",
    "wine_df"
   ]
  },
  {
   "cell_type": "code",
   "execution_count": 10,
   "id": "20494aa1",
   "metadata": {},
   "outputs": [
    {
     "data": {
      "text/html": [
       "<div>\n",
       "<style scoped>\n",
       "    .dataframe tbody tr th:only-of-type {\n",
       "        vertical-align: middle;\n",
       "    }\n",
       "\n",
       "    .dataframe tbody tr th {\n",
       "        vertical-align: top;\n",
       "    }\n",
       "\n",
       "    .dataframe thead th {\n",
       "        text-align: right;\n",
       "    }\n",
       "</style>\n",
       "<table border=\"1\" class=\"dataframe\">\n",
       "  <thead>\n",
       "    <tr style=\"text-align: right;\">\n",
       "      <th></th>\n",
       "      <th>alcohol</th>\n",
       "      <th>malic_acid</th>\n",
       "      <th>ash</th>\n",
       "      <th>alcalinity_of_ash</th>\n",
       "      <th>magnesium</th>\n",
       "      <th>total_phenols</th>\n",
       "      <th>flavanoids</th>\n",
       "      <th>nonflavanoid_phenols</th>\n",
       "      <th>proanthocyanins</th>\n",
       "      <th>color_intensity</th>\n",
       "      <th>hue</th>\n",
       "      <th>od280/od315_of_diluted_wines</th>\n",
       "      <th>proline</th>\n",
       "      <th>category of wine</th>\n",
       "    </tr>\n",
       "  </thead>\n",
       "  <tbody>\n",
       "    <tr>\n",
       "      <th>0</th>\n",
       "      <td>14.23</td>\n",
       "      <td>1.71</td>\n",
       "      <td>2.43</td>\n",
       "      <td>15.6</td>\n",
       "      <td>127.0</td>\n",
       "      <td>2.80</td>\n",
       "      <td>3.06</td>\n",
       "      <td>0.28</td>\n",
       "      <td>2.29</td>\n",
       "      <td>5.64</td>\n",
       "      <td>1.04</td>\n",
       "      <td>3.92</td>\n",
       "      <td>1065.0</td>\n",
       "      <td>0</td>\n",
       "    </tr>\n",
       "    <tr>\n",
       "      <th>1</th>\n",
       "      <td>13.20</td>\n",
       "      <td>1.78</td>\n",
       "      <td>2.14</td>\n",
       "      <td>11.2</td>\n",
       "      <td>100.0</td>\n",
       "      <td>2.65</td>\n",
       "      <td>2.76</td>\n",
       "      <td>0.26</td>\n",
       "      <td>1.28</td>\n",
       "      <td>4.38</td>\n",
       "      <td>1.05</td>\n",
       "      <td>3.40</td>\n",
       "      <td>1050.0</td>\n",
       "      <td>0</td>\n",
       "    </tr>\n",
       "    <tr>\n",
       "      <th>2</th>\n",
       "      <td>13.16</td>\n",
       "      <td>2.36</td>\n",
       "      <td>2.67</td>\n",
       "      <td>18.6</td>\n",
       "      <td>101.0</td>\n",
       "      <td>2.80</td>\n",
       "      <td>3.24</td>\n",
       "      <td>0.30</td>\n",
       "      <td>2.81</td>\n",
       "      <td>5.68</td>\n",
       "      <td>1.03</td>\n",
       "      <td>3.17</td>\n",
       "      <td>1185.0</td>\n",
       "      <td>0</td>\n",
       "    </tr>\n",
       "    <tr>\n",
       "      <th>3</th>\n",
       "      <td>14.37</td>\n",
       "      <td>1.95</td>\n",
       "      <td>2.50</td>\n",
       "      <td>16.8</td>\n",
       "      <td>113.0</td>\n",
       "      <td>3.85</td>\n",
       "      <td>3.49</td>\n",
       "      <td>0.24</td>\n",
       "      <td>2.18</td>\n",
       "      <td>7.80</td>\n",
       "      <td>0.86</td>\n",
       "      <td>3.45</td>\n",
       "      <td>1480.0</td>\n",
       "      <td>0</td>\n",
       "    </tr>\n",
       "    <tr>\n",
       "      <th>4</th>\n",
       "      <td>13.24</td>\n",
       "      <td>2.59</td>\n",
       "      <td>2.87</td>\n",
       "      <td>21.0</td>\n",
       "      <td>118.0</td>\n",
       "      <td>2.80</td>\n",
       "      <td>2.69</td>\n",
       "      <td>0.39</td>\n",
       "      <td>1.82</td>\n",
       "      <td>4.32</td>\n",
       "      <td>1.04</td>\n",
       "      <td>2.93</td>\n",
       "      <td>735.0</td>\n",
       "      <td>0</td>\n",
       "    </tr>\n",
       "    <tr>\n",
       "      <th>...</th>\n",
       "      <td>...</td>\n",
       "      <td>...</td>\n",
       "      <td>...</td>\n",
       "      <td>...</td>\n",
       "      <td>...</td>\n",
       "      <td>...</td>\n",
       "      <td>...</td>\n",
       "      <td>...</td>\n",
       "      <td>...</td>\n",
       "      <td>...</td>\n",
       "      <td>...</td>\n",
       "      <td>...</td>\n",
       "      <td>...</td>\n",
       "      <td>...</td>\n",
       "    </tr>\n",
       "    <tr>\n",
       "      <th>173</th>\n",
       "      <td>13.71</td>\n",
       "      <td>5.65</td>\n",
       "      <td>2.45</td>\n",
       "      <td>20.5</td>\n",
       "      <td>95.0</td>\n",
       "      <td>1.68</td>\n",
       "      <td>0.61</td>\n",
       "      <td>0.52</td>\n",
       "      <td>1.06</td>\n",
       "      <td>7.70</td>\n",
       "      <td>0.64</td>\n",
       "      <td>1.74</td>\n",
       "      <td>740.0</td>\n",
       "      <td>2</td>\n",
       "    </tr>\n",
       "    <tr>\n",
       "      <th>174</th>\n",
       "      <td>13.40</td>\n",
       "      <td>3.91</td>\n",
       "      <td>2.48</td>\n",
       "      <td>23.0</td>\n",
       "      <td>102.0</td>\n",
       "      <td>1.80</td>\n",
       "      <td>0.75</td>\n",
       "      <td>0.43</td>\n",
       "      <td>1.41</td>\n",
       "      <td>7.30</td>\n",
       "      <td>0.70</td>\n",
       "      <td>1.56</td>\n",
       "      <td>750.0</td>\n",
       "      <td>2</td>\n",
       "    </tr>\n",
       "    <tr>\n",
       "      <th>175</th>\n",
       "      <td>13.27</td>\n",
       "      <td>4.28</td>\n",
       "      <td>2.26</td>\n",
       "      <td>20.0</td>\n",
       "      <td>120.0</td>\n",
       "      <td>1.59</td>\n",
       "      <td>0.69</td>\n",
       "      <td>0.43</td>\n",
       "      <td>1.35</td>\n",
       "      <td>10.20</td>\n",
       "      <td>0.59</td>\n",
       "      <td>1.56</td>\n",
       "      <td>835.0</td>\n",
       "      <td>2</td>\n",
       "    </tr>\n",
       "    <tr>\n",
       "      <th>176</th>\n",
       "      <td>13.17</td>\n",
       "      <td>2.59</td>\n",
       "      <td>2.37</td>\n",
       "      <td>20.0</td>\n",
       "      <td>120.0</td>\n",
       "      <td>1.65</td>\n",
       "      <td>0.68</td>\n",
       "      <td>0.53</td>\n",
       "      <td>1.46</td>\n",
       "      <td>9.30</td>\n",
       "      <td>0.60</td>\n",
       "      <td>1.62</td>\n",
       "      <td>840.0</td>\n",
       "      <td>2</td>\n",
       "    </tr>\n",
       "    <tr>\n",
       "      <th>177</th>\n",
       "      <td>14.13</td>\n",
       "      <td>4.10</td>\n",
       "      <td>2.74</td>\n",
       "      <td>24.5</td>\n",
       "      <td>96.0</td>\n",
       "      <td>2.05</td>\n",
       "      <td>0.76</td>\n",
       "      <td>0.56</td>\n",
       "      <td>1.35</td>\n",
       "      <td>9.20</td>\n",
       "      <td>0.61</td>\n",
       "      <td>1.60</td>\n",
       "      <td>560.0</td>\n",
       "      <td>2</td>\n",
       "    </tr>\n",
       "  </tbody>\n",
       "</table>\n",
       "<p>178 rows × 14 columns</p>\n",
       "</div>"
      ],
      "text/plain": [
       "     alcohol  malic_acid   ash  alcalinity_of_ash  magnesium  total_phenols  \\\n",
       "0      14.23        1.71  2.43               15.6      127.0           2.80   \n",
       "1      13.20        1.78  2.14               11.2      100.0           2.65   \n",
       "2      13.16        2.36  2.67               18.6      101.0           2.80   \n",
       "3      14.37        1.95  2.50               16.8      113.0           3.85   \n",
       "4      13.24        2.59  2.87               21.0      118.0           2.80   \n",
       "..       ...         ...   ...                ...        ...            ...   \n",
       "173    13.71        5.65  2.45               20.5       95.0           1.68   \n",
       "174    13.40        3.91  2.48               23.0      102.0           1.80   \n",
       "175    13.27        4.28  2.26               20.0      120.0           1.59   \n",
       "176    13.17        2.59  2.37               20.0      120.0           1.65   \n",
       "177    14.13        4.10  2.74               24.5       96.0           2.05   \n",
       "\n",
       "     flavanoids  nonflavanoid_phenols  proanthocyanins  color_intensity   hue  \\\n",
       "0          3.06                  0.28             2.29             5.64  1.04   \n",
       "1          2.76                  0.26             1.28             4.38  1.05   \n",
       "2          3.24                  0.30             2.81             5.68  1.03   \n",
       "3          3.49                  0.24             2.18             7.80  0.86   \n",
       "4          2.69                  0.39             1.82             4.32  1.04   \n",
       "..          ...                   ...              ...              ...   ...   \n",
       "173        0.61                  0.52             1.06             7.70  0.64   \n",
       "174        0.75                  0.43             1.41             7.30  0.70   \n",
       "175        0.69                  0.43             1.35            10.20  0.59   \n",
       "176        0.68                  0.53             1.46             9.30  0.60   \n",
       "177        0.76                  0.56             1.35             9.20  0.61   \n",
       "\n",
       "     od280/od315_of_diluted_wines  proline  category of wine  \n",
       "0                            3.92   1065.0                 0  \n",
       "1                            3.40   1050.0                 0  \n",
       "2                            3.17   1185.0                 0  \n",
       "3                            3.45   1480.0                 0  \n",
       "4                            2.93    735.0                 0  \n",
       "..                            ...      ...               ...  \n",
       "173                          1.74    740.0                 2  \n",
       "174                          1.56    750.0                 2  \n",
       "175                          1.56    835.0                 2  \n",
       "176                          1.62    840.0                 2  \n",
       "177                          1.60    560.0                 2  \n",
       "\n",
       "[178 rows x 14 columns]"
      ]
     },
     "execution_count": 10,
     "metadata": {},
     "output_type": "execute_result"
    }
   ],
   "source": [
    "wine_df['category of wine'] = y\n",
    "wine_df"
   ]
  },
  {
   "cell_type": "code",
   "execution_count": 11,
   "id": "78fc4a12",
   "metadata": {},
   "outputs": [
    {
     "data": {
      "image/png": "[encoded data removed]",
      "text/plain": [
       "<Figure size 432x288 with 1 Axes>"
      ]
     },
     "metadata": {
      "needs_background": "light"
     },
     "output_type": "display_data"
    }
   ],
   "source": [
    "import seaborn as sns\n",
    "s = sns.scatterplot(x = X[:,0], y = X[:,1], hue = y)\n",
    "s.set(xlabel = data.feature_names[0], ylabel = data.feature_names[1], title = 'classifying how good alcohol is from Alcohol % vs the amount of malic acid it has')\n",
    "None"
   ]
  },
  {
   "cell_type": "code",
   "execution_count": 12,
   "id": "ffcaf61e",
   "metadata": {},
   "outputs": [
    {
     "data": {
      "image/png": "[encoded data removed]",
      "text/plain": [
       "<Figure size 432x288 with 1 Axes>"
      ]
     },
     "metadata": {
      "needs_background": "light"
     },
     "output_type": "display_data"
    }
   ],
   "source": [
    "import seaborn as sns\n",
    "s = sns.scatterplot(x = X[:,0], y = X[:,4], hue = y)\n",
    "s.set(xlabel = data.feature_names[0], ylabel = data.feature_names[4], title = 'classifying how good alcohol is from Alcohol % vs the amount of magnesium it has')\n",
    "None"
   ]
  },
  {
   "cell_type": "markdown",
   "id": "d86e4e78",
   "metadata": {},
   "source": [
    "### 4. Split the data into training and testing samples if not already done for you. Output the number of samples in each class for both the training and testing sets. Use Python to determine and output the number of unique target values that you have? [10 points]"
   ]
  },
  {
   "cell_type": "code",
   "execution_count": 13,
   "id": "b1c829a3",
   "metadata": {},
   "outputs": [],
   "source": [
    "from sklearn.model_selection import train_test_split\n",
    "X_train, X_test, y_train, y_test = train_test_split(X, y, test_size=0.25, random_state=99, stratify = y)"
   ]
  },
  {
   "cell_type": "code",
   "execution_count": 14,
   "id": "b946aa1e",
   "metadata": {},
   "outputs": [
    {
     "data": {
      "text/plain": [
       "(133, 13)"
      ]
     },
     "execution_count": 14,
     "metadata": {},
     "output_type": "execute_result"
    }
   ],
   "source": [
    "X_train.shape"
   ]
  },
  {
   "cell_type": "code",
   "execution_count": 15,
   "id": "ac087622",
   "metadata": {},
   "outputs": [
    {
     "data": {
      "text/plain": [
       "(45, 13)"
      ]
     },
     "execution_count": 15,
     "metadata": {},
     "output_type": "execute_result"
    }
   ],
   "source": [
    "X_test.shape"
   ]
  },
  {
   "cell_type": "code",
   "execution_count": 16,
   "id": "ec5eb431",
   "metadata": {},
   "outputs": [
    {
     "data": {
      "text/plain": [
       "(133,)"
      ]
     },
     "execution_count": 16,
     "metadata": {},
     "output_type": "execute_result"
    }
   ],
   "source": [
    "y_train.shape"
   ]
  },
  {
   "cell_type": "code",
   "execution_count": 17,
   "id": "6c1d42cc",
   "metadata": {},
   "outputs": [
    {
     "data": {
      "text/plain": [
       "(45,)"
      ]
     },
     "execution_count": 17,
     "metadata": {},
     "output_type": "execute_result"
    }
   ],
   "source": [
    "y_test.shape"
   ]
  },
  {
   "cell_type": "code",
   "execution_count": 18,
   "id": "e7f5be84",
   "metadata": {},
   "outputs": [
    {
     "name": "stdout",
     "output_type": "stream",
     "text": [
      " Because I partitioned my data with a 75-25 split, my training data set has 75% (133) of my data data values/rows/records and my testing data has 25% (45) of my data values/rows/records \n"
     ]
    }
   ],
   "source": [
    "print(' Because I partitioned my data with a 75-25 split, my training data set has 75% (133) of my data data values/rows/records and my testing data has 25% (45) of my data values/rows/records ')"
   ]
  },
  {
   "cell_type": "markdown",
   "id": "b35c8a05",
   "metadata": {},
   "source": [
    "### 5.  Implement a knn classifier or neural network that predicts the target value from the feature data. [10 points]"
   ]
  },
  {
   "cell_type": "code",
   "execution_count": 19,
   "id": "899686b1",
   "metadata": {},
   "outputs": [
    {
     "data": {
      "text/plain": [
       "KNeighborsClassifier(n_neighbors=3)"
      ]
     },
     "execution_count": 19,
     "metadata": {},
     "output_type": "execute_result"
    }
   ],
   "source": [
    "from sklearn.neighbors import KNeighborsClassifier\n",
    "knn = KNeighborsClassifier(n_neighbors=3)\n",
    "knn"
   ]
  },
  {
   "cell_type": "code",
   "execution_count": 20,
   "id": "0fb9b126",
   "metadata": {},
   "outputs": [
    {
     "data": {
      "text/plain": [
       "KNeighborsClassifier(n_neighbors=3)"
      ]
     },
     "execution_count": 20,
     "metadata": {},
     "output_type": "execute_result"
    }
   ],
   "source": [
    "knn.fit(X_train,y_train)"
   ]
  },
  {
   "cell_type": "code",
   "execution_count": 21,
   "id": "3d061c38",
   "metadata": {},
   "outputs": [
    {
     "name": "stdout",
     "output_type": "stream",
     "text": [
      "Balance of training set:  Counter({1: 53, 0: 44, 2: 36})\n",
      "Balance of testing set:  Counter({1: 18, 0: 15, 2: 12})\n"
     ]
    }
   ],
   "source": [
    "from collections import Counter\n",
    "print('Balance of training set: ', Counter(y_train))\n",
    "print('Balance of testing set: ', Counter(y_test))"
   ]
  },
  {
   "cell_type": "code",
   "execution_count": 22,
   "id": "3464282b",
   "metadata": {},
   "outputs": [],
   "source": [
    "pred = knn.predict(X_test)"
   ]
  },
  {
   "cell_type": "code",
   "execution_count": 23,
   "id": "23b136dd",
   "metadata": {},
   "outputs": [
    {
     "data": {
      "text/plain": [
       "array([0, 1, 0, 2, 1, 2, 0, 1, 0, 2, 1, 1, 0, 2, 2, 1, 0, 1, 1, 2, 2, 0,\n",
       "       2, 2, 2, 1, 0, 1, 1, 1, 2, 0, 1, 0, 0, 1, 1, 0, 0, 0, 1, 1, 0, 0,\n",
       "       0])"
      ]
     },
     "execution_count": 23,
     "metadata": {},
     "output_type": "execute_result"
    }
   ],
   "source": [
    "pred"
   ]
  },
  {
   "cell_type": "markdown",
   "id": "566f09db",
   "metadata": {},
   "source": [
    "###  6. For knn, evaluate the balanced accuracy using values of k = 1,2,5,and 7. Generate a scatterplot of the results, and comment on the optimal value of k.  Knn is trivial to train, but can take a long time to make predictions. [10 points]\n"
   ]
  },
  {
   "cell_type": "code",
   "execution_count": 24,
   "id": "dc678a52",
   "metadata": {},
   "outputs": [
    {
     "name": "stdout",
     "output_type": "stream",
     "text": [
      "mean balanced accuracy with k = 1: 0.7594525844525845\n",
      "mean balanced accuracy with k = 2: 0.6688135938135937\n",
      "mean balanced accuracy with k = 3: 0.7489234839234841\n",
      "mean balanced accuracy with k = 4: 0.6661548636548636\n",
      "mean balanced accuracy with k = 5: 0.7151628001628001\n",
      "mean balanced accuracy with k = 6: 0.6986416361416362\n",
      "mean balanced accuracy with k = 7: 0.6753367928367928\n",
      "mean balanced accuracy with k = 8: 0.6616330891330892\n",
      "mean balanced accuracy with k = 9: 0.6836833536833538\n"
     ]
    }
   ],
   "source": [
    "from sklearn.model_selection import KFold\n",
    "from sklearn.model_selection import cross_val_score\n",
    "\n",
    "# create an empty list to store accuracies\n",
    "acc = []\n",
    "\n",
    "# values of 'k' to iterate through\n",
    "kvals = list(range(1,10,1))\n",
    "#1 (first) = number we start with\n",
    "#10 = number we finish with\n",
    "#1 (last) = we're going by 1's (1,2,3) if i did 2 we'd go by 2's (2,4,6) \n",
    "\n",
    "# for each value of 'k', create a knn estimator and find the mean balanced accuracy using 10-fold cross validation\n",
    "for k in kvals :\n",
    "\n",
    "    # create kNN model (estimator)\n",
    "    knn = KNeighborsClassifier(n_neighbors=k)\n",
    "    \n",
    "    # create the k = 10 folds\n",
    "    kfold = KFold(n_splits=10, random_state=99, shuffle = True)\n",
    "    \n",
    "    # return an array of scores that contains the balanced accuracy for each fold\n",
    "    scores = cross_val_score(estimator = knn, X = data.data, y = data.target, cv = kfold, scoring = \"balanced_accuracy\" )\n",
    "    print('mean balanced accuracy with k = ', k, ': ', scores.mean(), sep = '')\n",
    "\n",
    "    # add the mean balanced accuracy for the current fold to the list\n",
    "    acc.append(scores.mean())"
   ]
  },
  {
   "cell_type": "code",
   "execution_count": 25,
   "id": "5d0e78ba",
   "metadata": {},
   "outputs": [
    {
     "data": {
      "image/png": "[encoded data removed]",
      "text/plain": [
       "<Figure size 432x288 with 1 Axes>"
      ]
     },
     "metadata": {
      "needs_background": "light"
     },
     "output_type": "display_data"
    }
   ],
   "source": [
    "s = sns.pointplot(x=kvals, y=acc)\n",
    "s.set_xlabel('k')\n",
    "s.set_ylabel('balanced accuracy')\n",
    "s.set_title('Balanced accuracy for 10-fold cross-validation using kNN in Wine dataset')\n",
    "None"
   ]
  },
  {
   "cell_type": "code",
   "execution_count": 26,
   "id": "b9247c90",
   "metadata": {},
   "outputs": [
    {
     "name": "stdout",
     "output_type": "stream",
     "text": [
      "The optimal k-value is 1\n"
     ]
    }
   ],
   "source": [
    "print('The optimal k-value is 1')"
   ]
  },
  {
   "cell_type": "markdown",
   "id": "c3f59d7a",
   "metadata": {},
   "source": [
    "### 7. Make predictions in the test dataset, and generate the following, using class labels and not numeric ones [15 points]\n",
    "\n",
    "### a. A Heatmap of the confusion matrix\n",
    "### b. A Classification report that shows the recall and precision for each class "
   ]
  },
  {
   "cell_type": "code",
   "execution_count": 29,
   "id": "4b50622a",
   "metadata": {},
   "outputs": [
    {
     "data": {
      "text/plain": [
       "array([[13,  1,  1],\n",
       "       [ 1, 13,  4],\n",
       "       [ 3,  3,  6]])"
      ]
     },
     "execution_count": 29,
     "metadata": {},
     "output_type": "execute_result"
    }
   ],
   "source": [
    "from sklearn.metrics import confusion_matrix\n",
    "confusion = confusion_matrix(y_true = y_test, y_pred = pred)\n",
    "confusion"
   ]
  },
  {
   "cell_type": "code",
   "execution_count": 30,
   "id": "755295d4",
   "metadata": {},
   "outputs": [
    {
     "data": {
      "text/html": [
       "<div>\n",
       "<style scoped>\n",
       "    .dataframe tbody tr th:only-of-type {\n",
       "        vertical-align: middle;\n",
       "    }\n",
       "\n",
       "    .dataframe tbody tr th {\n",
       "        vertical-align: top;\n",
       "    }\n",
       "\n",
       "    .dataframe thead th {\n",
       "        text-align: right;\n",
       "    }\n",
       "</style>\n",
       "<table border=\"1\" class=\"dataframe\">\n",
       "  <thead>\n",
       "    <tr style=\"text-align: right;\">\n",
       "      <th></th>\n",
       "      <th>class_0</th>\n",
       "      <th>class_1</th>\n",
       "      <th>class_2</th>\n",
       "    </tr>\n",
       "  </thead>\n",
       "  <tbody>\n",
       "    <tr>\n",
       "      <th>class_0</th>\n",
       "      <td>13</td>\n",
       "      <td>1</td>\n",
       "      <td>1</td>\n",
       "    </tr>\n",
       "    <tr>\n",
       "      <th>class_1</th>\n",
       "      <td>1</td>\n",
       "      <td>13</td>\n",
       "      <td>4</td>\n",
       "    </tr>\n",
       "    <tr>\n",
       "      <th>class_2</th>\n",
       "      <td>3</td>\n",
       "      <td>3</td>\n",
       "      <td>6</td>\n",
       "    </tr>\n",
       "  </tbody>\n",
       "</table>\n",
       "</div>"
      ],
      "text/plain": [
       "         class_0  class_1  class_2\n",
       "class_0       13        1        1\n",
       "class_1        1       13        4\n",
       "class_2        3        3        6"
      ]
     },
     "execution_count": 30,
     "metadata": {},
     "output_type": "execute_result"
    }
   ],
   "source": [
    "import pandas as pd\n",
    "confusion_df = pd.DataFrame(confusion, columns=data.target_names, index=data.target_names)\n",
    "confusion_df"
   ]
  },
  {
   "cell_type": "code",
   "execution_count": 31,
   "id": "2210ae44",
   "metadata": {},
   "outputs": [
    {
     "data": {
      "image/png": "[encoded data removed]",
      "text/plain": [
       "<Figure size 432x288 with 2 Axes>"
      ]
     },
     "metadata": {
      "needs_background": "light"
     },
     "output_type": "display_data"
    }
   ],
   "source": [
    "import matplotlib.pyplot as plt\n",
    "sns.heatmap(confusion_df, annot = True, cmap = 'nipy_spectral_r')\n",
    "plt.ylabel('True Value')\n",
    "plt.xlabel('Predicted Value')\n",
    "None"
   ]
  },
  {
   "cell_type": "code",
   "execution_count": 32,
   "id": "b974dc18",
   "metadata": {},
   "outputs": [
    {
     "data": {
      "text/plain": [
       "0.7111111111111111"
      ]
     },
     "execution_count": 32,
     "metadata": {},
     "output_type": "execute_result"
    }
   ],
   "source": [
    "accuracy = (13 + 13 + 6) / (32 + 2 + 4 +7)\n",
    "accuracy"
   ]
  },
  {
   "cell_type": "code",
   "execution_count": 33,
   "id": "bf87a4e3",
   "metadata": {},
   "outputs": [
    {
     "data": {
      "text/plain": [
       "0.8666666666666667"
      ]
     },
     "execution_count": 33,
     "metadata": {},
     "output_type": "execute_result"
    }
   ],
   "source": [
    "class0_recall = 13/ 15\n",
    "class0_recall"
   ]
  },
  {
   "cell_type": "code",
   "execution_count": 34,
   "id": "5dc5430f",
   "metadata": {},
   "outputs": [
    {
     "data": {
      "text/plain": [
       "0.7647058823529411"
      ]
     },
     "execution_count": 34,
     "metadata": {},
     "output_type": "execute_result"
    }
   ],
   "source": [
    "class0_precision = 13/ 17\n",
    "class0_precision"
   ]
  },
  {
   "cell_type": "code",
   "execution_count": 35,
   "id": "f6c5b3b7",
   "metadata": {},
   "outputs": [
    {
     "data": {
      "text/plain": [
       "0.7222222222222222"
      ]
     },
     "execution_count": 35,
     "metadata": {},
     "output_type": "execute_result"
    }
   ],
   "source": [
    "class1_recall = 13/ 18\n",
    "class1_recall"
   ]
  },
  {
   "cell_type": "code",
   "execution_count": 36,
   "id": "36ceb538",
   "metadata": {},
   "outputs": [
    {
     "data": {
      "text/plain": [
       "0.7647058823529411"
      ]
     },
     "execution_count": 36,
     "metadata": {},
     "output_type": "execute_result"
    }
   ],
   "source": [
    "class1_precision = 13/ 17\n",
    "class1_precision"
   ]
  },
  {
   "cell_type": "code",
   "execution_count": 37,
   "id": "8101ca6d",
   "metadata": {},
   "outputs": [
    {
     "data": {
      "text/plain": [
       "0.5"
      ]
     },
     "execution_count": 37,
     "metadata": {},
     "output_type": "execute_result"
    }
   ],
   "source": [
    "class2_recall = 6/12\n",
    "class2_recall"
   ]
  },
  {
   "cell_type": "code",
   "execution_count": 38,
   "id": "c5c05db4",
   "metadata": {},
   "outputs": [
    {
     "data": {
      "text/plain": [
       "0.5454545454545454"
      ]
     },
     "execution_count": 38,
     "metadata": {},
     "output_type": "execute_result"
    }
   ],
   "source": [
    "class2_precision = 6/11\n",
    "class2_precision"
   ]
  },
  {
   "cell_type": "code",
   "execution_count": 39,
   "id": "43ecb8dd",
   "metadata": {},
   "outputs": [
    {
     "name": "stdout",
     "output_type": "stream",
     "text": [
      "The accuracy of our model is 71.11%.\n"
     ]
    }
   ],
   "source": [
    "print(f'The accuracy of our model is {accuracy*100:.2f}%.')"
   ]
  },
  {
   "cell_type": "code",
   "execution_count": 40,
   "id": "3e851e68",
   "metadata": {},
   "outputs": [
    {
     "name": "stdout",
     "output_type": "stream",
     "text": [
      "The recall of class 0 is 86.67%.\n"
     ]
    }
   ],
   "source": [
    "print(f'The recall of class 0 is {class0_recall*100:.2f}%.')"
   ]
  },
  {
   "cell_type": "code",
   "execution_count": 41,
   "id": "8b532981",
   "metadata": {},
   "outputs": [
    {
     "name": "stdout",
     "output_type": "stream",
     "text": [
      "The recall of class 1 is 72.22%.\n"
     ]
    }
   ],
   "source": [
    "print(f'The recall of class 1 is {class1_recall*100:.2f}%.')"
   ]
  },
  {
   "cell_type": "code",
   "execution_count": 42,
   "id": "680119f6",
   "metadata": {},
   "outputs": [
    {
     "name": "stdout",
     "output_type": "stream",
     "text": [
      "The recall of class 2 is 50.00%.\n"
     ]
    }
   ],
   "source": [
    "print(f'The recall of class 2 is {class2_recall*100:.2f}%.')"
   ]
  },
  {
   "cell_type": "code",
   "execution_count": 43,
   "id": "9153d2c2",
   "metadata": {},
   "outputs": [
    {
     "name": "stdout",
     "output_type": "stream",
     "text": [
      "The precission of class 0 is 76.47%.\n"
     ]
    }
   ],
   "source": [
    "print(f'The precission of class 0 is {class0_precision*100:.2f}%.')"
   ]
  },
  {
   "cell_type": "code",
   "execution_count": 44,
   "id": "f34a20cd",
   "metadata": {},
   "outputs": [
    {
     "name": "stdout",
     "output_type": "stream",
     "text": [
      "The precission of class 1 is 76.47%.\n"
     ]
    }
   ],
   "source": [
    "print(f'The precission of class 1 is {class1_precision*100:.2f}%.')"
   ]
  },
  {
   "cell_type": "code",
   "execution_count": 45,
   "id": "f93403dc",
   "metadata": {},
   "outputs": [
    {
     "name": "stdout",
     "output_type": "stream",
     "text": [
      "The precission of class 2 is 54.55%.\n"
     ]
    }
   ],
   "source": [
    "print(f'The precission of class 2 is {class2_precision*100:.2f}%.')"
   ]
  },
  {
   "cell_type": "code",
   "execution_count": 46,
   "id": "d639682e",
   "metadata": {},
   "outputs": [
    {
     "name": "stdout",
     "output_type": "stream",
     "text": [
      "              precision    recall  f1-score   support\n",
      "\n",
      "     class_0       0.76      0.87      0.81        15\n",
      "     class_1       0.76      0.72      0.74        18\n",
      "     class_2       0.55      0.50      0.52        12\n",
      "\n",
      "    accuracy                           0.71        45\n",
      "   macro avg       0.69      0.70      0.69        45\n",
      "weighted avg       0.71      0.71      0.71        45\n",
      "\n"
     ]
    }
   ],
   "source": [
    "from sklearn.metrics import classification_report\n",
    "report = classification_report(y_test, pred, target_names = data.target_names)\n",
    "print(report)"
   ]
  },
  {
   "cell_type": "code",
   "execution_count": 57,
   "id": "c86729aa",
   "metadata": {},
   "outputs": [
    {
     "name": "stdout",
     "output_type": "stream",
     "text": [
      "Im in idiot... The classifcation report calculated everything I just calculated lol\n"
     ]
    }
   ],
   "source": [
    "print('Im in idiot... The classifcation report calculated everything I just calculated lol')"
   ]
  },
  {
   "cell_type": "code",
   "execution_count": 58,
   "id": "550b33be",
   "metadata": {},
   "outputs": [
    {
     "name": "stdout",
     "output_type": "stream",
     "text": [
      "Below is scatterplot of the predicted classifcations from my data using alcohol % and malc_alcid\n"
     ]
    }
   ],
   "source": [
    "print('Below is scatterplot of the predicted classifcations from my data using alcohol % and malc_alcid')"
   ]
  },
  {
   "cell_type": "code",
   "execution_count": 59,
   "id": "307e5a96",
   "metadata": {},
   "outputs": [
    {
     "data": {
      "image/png": "[encoded data removed]",
      "text/plain": [
       "<Figure size 432x288 with 2 Axes>"
      ]
     },
     "metadata": {
      "needs_background": "light"
     },
     "output_type": "display_data"
    }
   ],
   "source": [
    "cmap = sns.cubehelix_palette(as_cmap=True)\n",
    "f, ax = plt.subplots()\n",
    "points = ax.scatter( X_test[:, 0], X_test[:, 1], c=y_test, s=50, cmap=cmap)\n",
    "f.colorbar(points)\n",
    "plt.show()"
   ]
  },
  {
   "cell_type": "markdown",
   "id": "0f0bbd17",
   "metadata": {},
   "source": [
    "### 8. Create a list containing the test features and target values that were predicted correctly, and another list where the test features and target values are predicted incorrectly."
   ]
  },
  {
   "cell_type": "code",
   "execution_count": 69,
   "id": "2c218dde",
   "metadata": {},
   "outputs": [],
   "source": [
    "pred_df=pd.DataFrame(pred)\n",
    "test_df=pd.DataFrame(y_test)\n",
    "final_df=pd.concat([pred_df,test_df],axis=1)\n",
    "final_df.columns=['Predicted_y','Actual_y']"
   ]
  },
  {
   "cell_type": "code",
   "execution_count": 70,
   "id": "c0d1fb88",
   "metadata": {},
   "outputs": [
    {
     "name": "stdout",
     "output_type": "stream",
     "text": [
      "Below is my Predicted correctly list within a dataframe\n"
     ]
    }
   ],
   "source": [
    "print('Below is my Predicted correctly list within a dataframe')"
   ]
  },
  {
   "cell_type": "code",
   "execution_count": 62,
   "id": "98cac5ce",
   "metadata": {},
   "outputs": [
    {
     "data": {
      "text/html": [
       "<style type=\"text/css\">\n",
       "</style>\n",
       "<table id=\"T_4be07_\">\n",
       "  <caption>Predicted correctly list</caption>\n",
       "  <thead>\n",
       "    <tr>\n",
       "      <th class=\"blank level0\" >&nbsp;</th>\n",
       "      <th class=\"col_heading level0 col0\" >Predicted_y</th>\n",
       "      <th class=\"col_heading level0 col1\" >Actual_y</th>\n",
       "    </tr>\n",
       "  </thead>\n",
       "  <tbody>\n",
       "    <tr>\n",
       "      <th id=\"T_4be07_level0_row0\" class=\"row_heading level0 row0\" >0</th>\n",
       "      <td id=\"T_4be07_row0_col0\" class=\"data row0 col0\" >0</td>\n",
       "      <td id=\"T_4be07_row0_col1\" class=\"data row0 col1\" >2</td>\n",
       "    </tr>\n",
       "    <tr>\n",
       "      <th id=\"T_4be07_level0_row1\" class=\"row_heading level0 row1\" >1</th>\n",
       "      <td id=\"T_4be07_row1_col0\" class=\"data row1 col0\" >1</td>\n",
       "      <td id=\"T_4be07_row1_col1\" class=\"data row1 col1\" >1</td>\n",
       "    </tr>\n",
       "    <tr>\n",
       "      <th id=\"T_4be07_level0_row2\" class=\"row_heading level0 row2\" >2</th>\n",
       "      <td id=\"T_4be07_row2_col0\" class=\"data row2 col0\" >0</td>\n",
       "      <td id=\"T_4be07_row2_col1\" class=\"data row2 col1\" >0</td>\n",
       "    </tr>\n",
       "    <tr>\n",
       "      <th id=\"T_4be07_level0_row3\" class=\"row_heading level0 row3\" >3</th>\n",
       "      <td id=\"T_4be07_row3_col0\" class=\"data row3 col0\" >2</td>\n",
       "      <td id=\"T_4be07_row3_col1\" class=\"data row3 col1\" >1</td>\n",
       "    </tr>\n",
       "    <tr>\n",
       "      <th id=\"T_4be07_level0_row4\" class=\"row_heading level0 row4\" >4</th>\n",
       "      <td id=\"T_4be07_row4_col0\" class=\"data row4 col0\" >1</td>\n",
       "      <td id=\"T_4be07_row4_col1\" class=\"data row4 col1\" >0</td>\n",
       "    </tr>\n",
       "    <tr>\n",
       "      <th id=\"T_4be07_level0_row5\" class=\"row_heading level0 row5\" >5</th>\n",
       "      <td id=\"T_4be07_row5_col0\" class=\"data row5 col0\" >2</td>\n",
       "      <td id=\"T_4be07_row5_col1\" class=\"data row5 col1\" >2</td>\n",
       "    </tr>\n",
       "    <tr>\n",
       "      <th id=\"T_4be07_level0_row6\" class=\"row_heading level0 row6\" >6</th>\n",
       "      <td id=\"T_4be07_row6_col0\" class=\"data row6 col0\" >0</td>\n",
       "      <td id=\"T_4be07_row6_col1\" class=\"data row6 col1\" >0</td>\n",
       "    </tr>\n",
       "    <tr>\n",
       "      <th id=\"T_4be07_level0_row7\" class=\"row_heading level0 row7\" >7</th>\n",
       "      <td id=\"T_4be07_row7_col0\" class=\"data row7 col0\" >1</td>\n",
       "      <td id=\"T_4be07_row7_col1\" class=\"data row7 col1\" >2</td>\n",
       "    </tr>\n",
       "    <tr>\n",
       "      <th id=\"T_4be07_level0_row8\" class=\"row_heading level0 row8\" >8</th>\n",
       "      <td id=\"T_4be07_row8_col0\" class=\"data row8 col0\" >0</td>\n",
       "      <td id=\"T_4be07_row8_col1\" class=\"data row8 col1\" >0</td>\n",
       "    </tr>\n",
       "    <tr>\n",
       "      <th id=\"T_4be07_level0_row9\" class=\"row_heading level0 row9\" >9</th>\n",
       "      <td id=\"T_4be07_row9_col0\" class=\"data row9 col0\" >2</td>\n",
       "      <td id=\"T_4be07_row9_col1\" class=\"data row9 col1\" >1</td>\n",
       "    </tr>\n",
       "    <tr>\n",
       "      <th id=\"T_4be07_level0_row10\" class=\"row_heading level0 row10\" >10</th>\n",
       "      <td id=\"T_4be07_row10_col0\" class=\"data row10 col0\" >1</td>\n",
       "      <td id=\"T_4be07_row10_col1\" class=\"data row10 col1\" >1</td>\n",
       "    </tr>\n",
       "    <tr>\n",
       "      <th id=\"T_4be07_level0_row11\" class=\"row_heading level0 row11\" >11</th>\n",
       "      <td id=\"T_4be07_row11_col0\" class=\"data row11 col0\" >1</td>\n",
       "      <td id=\"T_4be07_row11_col1\" class=\"data row11 col1\" >1</td>\n",
       "    </tr>\n",
       "    <tr>\n",
       "      <th id=\"T_4be07_level0_row12\" class=\"row_heading level0 row12\" >12</th>\n",
       "      <td id=\"T_4be07_row12_col0\" class=\"data row12 col0\" >0</td>\n",
       "      <td id=\"T_4be07_row12_col1\" class=\"data row12 col1\" >0</td>\n",
       "    </tr>\n",
       "    <tr>\n",
       "      <th id=\"T_4be07_level0_row13\" class=\"row_heading level0 row13\" >13</th>\n",
       "      <td id=\"T_4be07_row13_col0\" class=\"data row13 col0\" >2</td>\n",
       "      <td id=\"T_4be07_row13_col1\" class=\"data row13 col1\" >2</td>\n",
       "    </tr>\n",
       "    <tr>\n",
       "      <th id=\"T_4be07_level0_row14\" class=\"row_heading level0 row14\" >14</th>\n",
       "      <td id=\"T_4be07_row14_col0\" class=\"data row14 col0\" >2</td>\n",
       "      <td id=\"T_4be07_row14_col1\" class=\"data row14 col1\" >0</td>\n",
       "    </tr>\n",
       "    <tr>\n",
       "      <th id=\"T_4be07_level0_row15\" class=\"row_heading level0 row15\" >15</th>\n",
       "      <td id=\"T_4be07_row15_col0\" class=\"data row15 col0\" >1</td>\n",
       "      <td id=\"T_4be07_row15_col1\" class=\"data row15 col1\" >1</td>\n",
       "    </tr>\n",
       "    <tr>\n",
       "      <th id=\"T_4be07_level0_row16\" class=\"row_heading level0 row16\" >16</th>\n",
       "      <td id=\"T_4be07_row16_col0\" class=\"data row16 col0\" >0</td>\n",
       "      <td id=\"T_4be07_row16_col1\" class=\"data row16 col1\" >0</td>\n",
       "    </tr>\n",
       "    <tr>\n",
       "      <th id=\"T_4be07_level0_row17\" class=\"row_heading level0 row17\" >17</th>\n",
       "      <td id=\"T_4be07_row17_col0\" class=\"data row17 col0\" >1</td>\n",
       "      <td id=\"T_4be07_row17_col1\" class=\"data row17 col1\" >2</td>\n",
       "    </tr>\n",
       "    <tr>\n",
       "      <th id=\"T_4be07_level0_row18\" class=\"row_heading level0 row18\" >18</th>\n",
       "      <td id=\"T_4be07_row18_col0\" class=\"data row18 col0\" >1</td>\n",
       "      <td id=\"T_4be07_row18_col1\" class=\"data row18 col1\" >1</td>\n",
       "    </tr>\n",
       "    <tr>\n",
       "      <th id=\"T_4be07_level0_row19\" class=\"row_heading level0 row19\" >19</th>\n",
       "      <td id=\"T_4be07_row19_col0\" class=\"data row19 col0\" >2</td>\n",
       "      <td id=\"T_4be07_row19_col1\" class=\"data row19 col1\" >2</td>\n",
       "    </tr>\n",
       "    <tr>\n",
       "      <th id=\"T_4be07_level0_row20\" class=\"row_heading level0 row20\" >20</th>\n",
       "      <td id=\"T_4be07_row20_col0\" class=\"data row20 col0\" >2</td>\n",
       "      <td id=\"T_4be07_row20_col1\" class=\"data row20 col1\" >2</td>\n",
       "    </tr>\n",
       "    <tr>\n",
       "      <th id=\"T_4be07_level0_row21\" class=\"row_heading level0 row21\" >21</th>\n",
       "      <td id=\"T_4be07_row21_col0\" class=\"data row21 col0\" >0</td>\n",
       "      <td id=\"T_4be07_row21_col1\" class=\"data row21 col1\" >0</td>\n",
       "    </tr>\n",
       "    <tr>\n",
       "      <th id=\"T_4be07_level0_row22\" class=\"row_heading level0 row22\" >22</th>\n",
       "      <td id=\"T_4be07_row22_col0\" class=\"data row22 col0\" >2</td>\n",
       "      <td id=\"T_4be07_row22_col1\" class=\"data row22 col1\" >2</td>\n",
       "    </tr>\n",
       "    <tr>\n",
       "      <th id=\"T_4be07_level0_row23\" class=\"row_heading level0 row23\" >23</th>\n",
       "      <td id=\"T_4be07_row23_col0\" class=\"data row23 col0\" >2</td>\n",
       "      <td id=\"T_4be07_row23_col1\" class=\"data row23 col1\" >1</td>\n",
       "    </tr>\n",
       "    <tr>\n",
       "      <th id=\"T_4be07_level0_row24\" class=\"row_heading level0 row24\" >24</th>\n",
       "      <td id=\"T_4be07_row24_col0\" class=\"data row24 col0\" >2</td>\n",
       "      <td id=\"T_4be07_row24_col1\" class=\"data row24 col1\" >2</td>\n",
       "    </tr>\n",
       "    <tr>\n",
       "      <th id=\"T_4be07_level0_row25\" class=\"row_heading level0 row25\" >25</th>\n",
       "      <td id=\"T_4be07_row25_col0\" class=\"data row25 col0\" >1</td>\n",
       "      <td id=\"T_4be07_row25_col1\" class=\"data row25 col1\" >1</td>\n",
       "    </tr>\n",
       "    <tr>\n",
       "      <th id=\"T_4be07_level0_row26\" class=\"row_heading level0 row26\" >26</th>\n",
       "      <td id=\"T_4be07_row26_col0\" class=\"data row26 col0\" >0</td>\n",
       "      <td id=\"T_4be07_row26_col1\" class=\"data row26 col1\" >0</td>\n",
       "    </tr>\n",
       "    <tr>\n",
       "      <th id=\"T_4be07_level0_row27\" class=\"row_heading level0 row27\" >27</th>\n",
       "      <td id=\"T_4be07_row27_col0\" class=\"data row27 col0\" >1</td>\n",
       "      <td id=\"T_4be07_row27_col1\" class=\"data row27 col1\" >1</td>\n",
       "    </tr>\n",
       "    <tr>\n",
       "      <th id=\"T_4be07_level0_row28\" class=\"row_heading level0 row28\" >28</th>\n",
       "      <td id=\"T_4be07_row28_col0\" class=\"data row28 col0\" >1</td>\n",
       "      <td id=\"T_4be07_row28_col1\" class=\"data row28 col1\" >2</td>\n",
       "    </tr>\n",
       "    <tr>\n",
       "      <th id=\"T_4be07_level0_row29\" class=\"row_heading level0 row29\" >29</th>\n",
       "      <td id=\"T_4be07_row29_col0\" class=\"data row29 col0\" >1</td>\n",
       "      <td id=\"T_4be07_row29_col1\" class=\"data row29 col1\" >1</td>\n",
       "    </tr>\n",
       "    <tr>\n",
       "      <th id=\"T_4be07_level0_row30\" class=\"row_heading level0 row30\" >30</th>\n",
       "      <td id=\"T_4be07_row30_col0\" class=\"data row30 col0\" >2</td>\n",
       "      <td id=\"T_4be07_row30_col1\" class=\"data row30 col1\" >1</td>\n",
       "    </tr>\n",
       "    <tr>\n",
       "      <th id=\"T_4be07_level0_row31\" class=\"row_heading level0 row31\" >31</th>\n",
       "      <td id=\"T_4be07_row31_col0\" class=\"data row31 col0\" >0</td>\n",
       "      <td id=\"T_4be07_row31_col1\" class=\"data row31 col1\" >0</td>\n",
       "    </tr>\n",
       "    <tr>\n",
       "      <th id=\"T_4be07_level0_row32\" class=\"row_heading level0 row32\" >32</th>\n",
       "      <td id=\"T_4be07_row32_col0\" class=\"data row32 col0\" >1</td>\n",
       "      <td id=\"T_4be07_row32_col1\" class=\"data row32 col1\" >1</td>\n",
       "    </tr>\n",
       "    <tr>\n",
       "      <th id=\"T_4be07_level0_row33\" class=\"row_heading level0 row33\" >33</th>\n",
       "      <td id=\"T_4be07_row33_col0\" class=\"data row33 col0\" >0</td>\n",
       "      <td id=\"T_4be07_row33_col1\" class=\"data row33 col1\" >0</td>\n",
       "    </tr>\n",
       "    <tr>\n",
       "      <th id=\"T_4be07_level0_row34\" class=\"row_heading level0 row34\" >34</th>\n",
       "      <td id=\"T_4be07_row34_col0\" class=\"data row34 col0\" >0</td>\n",
       "      <td id=\"T_4be07_row34_col1\" class=\"data row34 col1\" >0</td>\n",
       "    </tr>\n",
       "    <tr>\n",
       "      <th id=\"T_4be07_level0_row35\" class=\"row_heading level0 row35\" >35</th>\n",
       "      <td id=\"T_4be07_row35_col0\" class=\"data row35 col0\" >1</td>\n",
       "      <td id=\"T_4be07_row35_col1\" class=\"data row35 col1\" >1</td>\n",
       "    </tr>\n",
       "    <tr>\n",
       "      <th id=\"T_4be07_level0_row36\" class=\"row_heading level0 row36\" >36</th>\n",
       "      <td id=\"T_4be07_row36_col0\" class=\"data row36 col0\" >1</td>\n",
       "      <td id=\"T_4be07_row36_col1\" class=\"data row36 col1\" >1</td>\n",
       "    </tr>\n",
       "    <tr>\n",
       "      <th id=\"T_4be07_level0_row37\" class=\"row_heading level0 row37\" >37</th>\n",
       "      <td id=\"T_4be07_row37_col0\" class=\"data row37 col0\" >0</td>\n",
       "      <td id=\"T_4be07_row37_col1\" class=\"data row37 col1\" >0</td>\n",
       "    </tr>\n",
       "    <tr>\n",
       "      <th id=\"T_4be07_level0_row38\" class=\"row_heading level0 row38\" >38</th>\n",
       "      <td id=\"T_4be07_row38_col0\" class=\"data row38 col0\" >0</td>\n",
       "      <td id=\"T_4be07_row38_col1\" class=\"data row38 col1\" >1</td>\n",
       "    </tr>\n",
       "    <tr>\n",
       "      <th id=\"T_4be07_level0_row39\" class=\"row_heading level0 row39\" >39</th>\n",
       "      <td id=\"T_4be07_row39_col0\" class=\"data row39 col0\" >0</td>\n",
       "      <td id=\"T_4be07_row39_col1\" class=\"data row39 col1\" >2</td>\n",
       "    </tr>\n",
       "    <tr>\n",
       "      <th id=\"T_4be07_level0_row40\" class=\"row_heading level0 row40\" >40</th>\n",
       "      <td id=\"T_4be07_row40_col0\" class=\"data row40 col0\" >1</td>\n",
       "      <td id=\"T_4be07_row40_col1\" class=\"data row40 col1\" >1</td>\n",
       "    </tr>\n",
       "    <tr>\n",
       "      <th id=\"T_4be07_level0_row41\" class=\"row_heading level0 row41\" >41</th>\n",
       "      <td id=\"T_4be07_row41_col0\" class=\"data row41 col0\" >1</td>\n",
       "      <td id=\"T_4be07_row41_col1\" class=\"data row41 col1\" >1</td>\n",
       "    </tr>\n",
       "    <tr>\n",
       "      <th id=\"T_4be07_level0_row42\" class=\"row_heading level0 row42\" >42</th>\n",
       "      <td id=\"T_4be07_row42_col0\" class=\"data row42 col0\" >0</td>\n",
       "      <td id=\"T_4be07_row42_col1\" class=\"data row42 col1\" >0</td>\n",
       "    </tr>\n",
       "    <tr>\n",
       "      <th id=\"T_4be07_level0_row43\" class=\"row_heading level0 row43\" >43</th>\n",
       "      <td id=\"T_4be07_row43_col0\" class=\"data row43 col0\" >0</td>\n",
       "      <td id=\"T_4be07_row43_col1\" class=\"data row43 col1\" >2</td>\n",
       "    </tr>\n",
       "    <tr>\n",
       "      <th id=\"T_4be07_level0_row44\" class=\"row_heading level0 row44\" >44</th>\n",
       "      <td id=\"T_4be07_row44_col0\" class=\"data row44 col0\" >0</td>\n",
       "      <td id=\"T_4be07_row44_col1\" class=\"data row44 col1\" >0</td>\n",
       "    </tr>\n",
       "  </tbody>\n",
       "</table>\n"
      ],
      "text/plain": [
       "<pandas.io.formats.style.Styler at 0x7fdab1161d00>"
      ]
     },
     "execution_count": 62,
     "metadata": {},
     "output_type": "execute_result"
    }
   ],
   "source": [
    "correct_df=final_df.loc[(final_df['Predicted_y']==final_df['Actual_y'])]\n",
    "correct_df\n",
    "correct_df1 = final_df.style.set_caption('Predicted correctly list')\n",
    "correct_df1"
   ]
  },
  {
   "cell_type": "code",
   "execution_count": 71,
   "id": "fd197f2f",
   "metadata": {},
   "outputs": [
    {
     "data": {
      "text/plain": [
       "Predicted_y  Actual_y\n",
       "0            0           13\n",
       "1            1           13\n",
       "2            2            6\n",
       "dtype: int64"
      ]
     },
     "execution_count": 71,
     "metadata": {},
     "output_type": "execute_result"
    }
   ],
   "source": [
    "correct_df.value_counts()"
   ]
  },
  {
   "cell_type": "code",
   "execution_count": 72,
   "id": "1a95db18",
   "metadata": {},
   "outputs": [
    {
     "name": "stdout",
     "output_type": "stream",
     "text": [
      "Below is my Predicted incorrectly list within a dataframe\n"
     ]
    }
   ],
   "source": [
    "print('Below is my Predicted incorrectly list within a dataframe')"
   ]
  },
  {
   "cell_type": "code",
   "execution_count": 73,
   "id": "d6ebffa2",
   "metadata": {},
   "outputs": [
    {
     "data": {
      "text/html": [
       "<div>\n",
       "<style scoped>\n",
       "    .dataframe tbody tr th:only-of-type {\n",
       "        vertical-align: middle;\n",
       "    }\n",
       "\n",
       "    .dataframe tbody tr th {\n",
       "        vertical-align: top;\n",
       "    }\n",
       "\n",
       "    .dataframe thead th {\n",
       "        text-align: right;\n",
       "    }\n",
       "</style>\n",
       "<table border=\"1\" class=\"dataframe\">\n",
       "  <thead>\n",
       "    <tr style=\"text-align: right;\">\n",
       "      <th></th>\n",
       "      <th>Predicted_y</th>\n",
       "      <th>Actual_y</th>\n",
       "    </tr>\n",
       "  </thead>\n",
       "  <tbody>\n",
       "    <tr>\n",
       "      <th>0</th>\n",
       "      <td>0</td>\n",
       "      <td>2</td>\n",
       "    </tr>\n",
       "    <tr>\n",
       "      <th>3</th>\n",
       "      <td>2</td>\n",
       "      <td>1</td>\n",
       "    </tr>\n",
       "    <tr>\n",
       "      <th>4</th>\n",
       "      <td>1</td>\n",
       "      <td>0</td>\n",
       "    </tr>\n",
       "    <tr>\n",
       "      <th>7</th>\n",
       "      <td>1</td>\n",
       "      <td>2</td>\n",
       "    </tr>\n",
       "    <tr>\n",
       "      <th>9</th>\n",
       "      <td>2</td>\n",
       "      <td>1</td>\n",
       "    </tr>\n",
       "    <tr>\n",
       "      <th>14</th>\n",
       "      <td>2</td>\n",
       "      <td>0</td>\n",
       "    </tr>\n",
       "    <tr>\n",
       "      <th>17</th>\n",
       "      <td>1</td>\n",
       "      <td>2</td>\n",
       "    </tr>\n",
       "    <tr>\n",
       "      <th>23</th>\n",
       "      <td>2</td>\n",
       "      <td>1</td>\n",
       "    </tr>\n",
       "    <tr>\n",
       "      <th>28</th>\n",
       "      <td>1</td>\n",
       "      <td>2</td>\n",
       "    </tr>\n",
       "    <tr>\n",
       "      <th>30</th>\n",
       "      <td>2</td>\n",
       "      <td>1</td>\n",
       "    </tr>\n",
       "    <tr>\n",
       "      <th>38</th>\n",
       "      <td>0</td>\n",
       "      <td>1</td>\n",
       "    </tr>\n",
       "    <tr>\n",
       "      <th>39</th>\n",
       "      <td>0</td>\n",
       "      <td>2</td>\n",
       "    </tr>\n",
       "    <tr>\n",
       "      <th>43</th>\n",
       "      <td>0</td>\n",
       "      <td>2</td>\n",
       "    </tr>\n",
       "  </tbody>\n",
       "</table>\n",
       "</div>"
      ],
      "text/plain": [
       "    Predicted_y  Actual_y\n",
       "0             0         2\n",
       "3             2         1\n",
       "4             1         0\n",
       "7             1         2\n",
       "9             2         1\n",
       "14            2         0\n",
       "17            1         2\n",
       "23            2         1\n",
       "28            1         2\n",
       "30            2         1\n",
       "38            0         1\n",
       "39            0         2\n",
       "43            0         2"
      ]
     },
     "execution_count": 73,
     "metadata": {},
     "output_type": "execute_result"
    }
   ],
   "source": [
    "incorrect_df=final_df.loc[(final_df['Predicted_y']!=final_df['Actual_y'])]\n",
    "incorrect_df"
   ]
  },
  {
   "cell_type": "code",
   "execution_count": 53,
   "id": "8f344746",
   "metadata": {},
   "outputs": [
    {
     "data": {
      "text/plain": [
       "Predicted_y  Actual_y\n",
       "2            1           4\n",
       "0            2           3\n",
       "1            2           3\n",
       "0            1           1\n",
       "1            0           1\n",
       "2            0           1\n",
       "dtype: int64"
      ]
     },
     "execution_count": 53,
     "metadata": {},
     "output_type": "execute_result"
    }
   ],
   "source": [
    "incorrect_df.value_counts()"
   ]
  },
  {
   "cell_type": "code",
   "execution_count": null,
   "id": "b3d4bc8e",
   "metadata": {},
   "outputs": [],
   "source": []
  }
 ],
 "metadata": {
  "kernelspec": {
   "display_name": "Python 3 (ipykernel)",
   "language": "python",
   "name": "python3"
  },
  "language_info": {
   "codemirror_mode": {
    "name": "ipython",
    "version": 3
   },
   "file_extension": ".py",
   "mimetype": "text/x-python",
   "name": "python",
   "nbconvert_exporter": "python",
   "pygments_lexer": "ipython3",
   "version": "3.9.7"
  }
 },
 "nbformat": 4,
 "nbformat_minor": 5
}
