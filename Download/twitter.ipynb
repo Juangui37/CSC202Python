{
 "cells": [
  {
   "cell_type": "markdown",
   "metadata": {
    "deletable": false,
    "editable": false
   },
   "source": [
    "# Accessing Twitter with Python/Tweepy\n",
    "\n",
    "*Tweepy* (https://www.tweepy.org/) is a Python package for accessing Twitter's API.\n",
    "\n",
    "In order to use this Notebook, you must set up your *credentials* file as described previously. The file *credentials.py* must be in the same directory as this Notebook."
   ]
  },
  {
   "cell_type": "code",
   "execution_count": 2,
   "metadata": {
    "deletable": false,
    "editable": false
   },
   "outputs": [],
   "source": [
    "import tweepy\n",
    "import credentials\n",
    "\n",
    "client = tweepy.client.Client(bearer_token = credentials.BEARER_TOKEN, consumer_key = credentials.API_KEY, consumer_secret = credentials.API_KEY_SECRET)"
   ]
  },
  {
   "cell_type": "markdown",
   "metadata": {
    "deletable": false,
    "editable": false
   },
   "source": [
    "### Search recent tweets\n",
    "\n",
    "The *search_recent_tweets* method will retrieve a sample of tweets from the last 7 days. Let's get recent English language tweets mentioning \"spring break\". By default, 10 tweets are returned. Note that you are limited to retreiving 500,000 tweets a month. Note also that filters are embedded in the search string. To generate an advanced search string, you can use https://twitter.com/search-advanced."
   ]
  },
  {
   "cell_type": "code",
   "execution_count": 3,
   "metadata": {
    "deletable": false,
    "editable": false
   },
   "outputs": [
    {
     "data": {
      "text/plain": [
       "Response(data=[<Tweet id=1508552199202349058 text='RT @Jessi_Taylor21: 5 days, 33 miles walked, and 2 VERY swollen ankles. What started as a spring break plan ended up being the best Babymoo…'>, <Tweet id=1508552188619939844 text='I can’t waitttttttt to sleep all of spring break😍'>, <Tweet id=1508552184396406785 text='Just a Monday reminder that you are loved and cared for ❤️ …. Oh, and to stay positive, we have 3 weeks until spring break! You got this! #theheartteacher https://t.co/BPQS60ZlKx'>, <Tweet id=1508552144617570306 text='Professors love to assign homework over spring break as if I’m not going to just vomit on a piece of paper and call it a day'>, <Tweet id=1508552133435658246 text='@MysterySolvent Checking Ritz Carlton rates for Spring Break.'>, <Tweet id=1508552130507988993 text='RT @BlareWolfPrject: Spring break YCH raffle!!\\n\\nGot a lil footjob sketch for this raffle\\n\\n-follow AND retweet to enter\\n\\n-winner gets a full…'>, <Tweet id=1508552125395001348 text='Surf, sand, and semiautomatic weapons.\\n\\nFlorida officials seized a staggering 75 guns from rampaging partiers in a spring break beach town this past weekend alone — calling it enough firepower...... https://t.co/4C6fmqcUwM'>, <Tweet id=1508552097897213954 text=\"RT @Mythical: |￣￣￣￣￣￣￣￣￣￣￣￣￣￣￣|\\n      WE'RE ON SPRING BREAK!\\n       NEW VIDEOS ON M, W, F!\\n|＿＿＿＿＿＿＿＿＿＿＿＿＿＿＿|\\n                   (\\\\__/) ||…\">, <Tweet id=1508552079878631426 text='why is it cold during my spring break what is this shit THE 63 ON WEDNESDAY AND THEN HIT W FUCKING SNOW ON THURSDAY? https://t.co/wZoTlJnp2a'>, <Tweet id=1508552018578792450 text='RT @MrsHayesfam: Kids ❤️ this activity after our long #SpringBreak Shared 1 sentence abt  Spring Break, wrote exact event they shared on pa…'>], includes={}, errors=[], meta={'newest_id': '1508552199202349058', 'oldest_id': '1508552018578792450', 'result_count': 10, 'next_token': 'b26v89c19zqg8o3fpyqom5t9765cehmd2bklfvdjxhu9p'})"
      ]
     },
     "execution_count": 3,
     "metadata": {},
     "output_type": "execute_result"
    }
   ],
   "source": [
    "results = client.search_recent_tweets('spring break lang:en')\n",
    "results"
   ]
  },
  {
   "cell_type": "markdown",
   "metadata": {
    "deletable": false,
    "editable": false
   },
   "source": [
    "### View the tweets\n",
    "\n",
    "The actual results are stored in *results.data*, which contains a *list* of results. Information about each tweet can be accessed using the dot (.) operator. Use *tweet.text* to get the text of each tweet."
   ]
  },
  {
   "cell_type": "code",
   "execution_count": 4,
   "metadata": {
    "deletable": false,
    "editable": false
   },
   "outputs": [
    {
     "name": "stdout",
     "output_type": "stream",
     "text": [
      "RT @Jessi_Taylor21: 5 days, 33 miles walked, and 2 VERY swollen ankles. What started as a spring break plan ended up being the best Babymoo… \n",
      "\n",
      "I can’t waitttttttt to sleep all of spring break😍 \n",
      "\n",
      "Just a Monday reminder that you are loved and cared for ❤️ …. Oh, and to stay positive, we have 3 weeks until spring break! You got this! #theheartteacher https://t.co/BPQS60ZlKx \n",
      "\n",
      "Professors love to assign homework over spring break as if I’m not going to just vomit on a piece of paper and call it a day \n",
      "\n",
      "@MysterySolvent Checking Ritz Carlton rates for Spring Break. \n",
      "\n",
      "RT @BlareWolfPrject: Spring break YCH raffle!!\n",
      "\n",
      "Got a lil footjob sketch for this raffle\n",
      "\n",
      "-follow AND retweet to enter\n",
      "\n",
      "-winner gets a full… \n",
      "\n",
      "Surf, sand, and semiautomatic weapons.\n",
      "\n",
      "Florida officials seized a staggering 75 guns from rampaging partiers in a spring break beach town this past weekend alone — calling it enough firepower...... https://t.co/4C6fmqcUwM \n",
      "\n",
      "RT @Mythical: |￣￣￣￣￣￣￣￣￣￣￣￣￣￣￣|\n",
      "      WE'RE ON SPRING BREAK!\n",
      "       NEW VIDEOS ON M, W, F!\n",
      "|＿＿＿＿＿＿＿＿＿＿＿＿＿＿＿|\n",
      "                   (\\__/) ||… \n",
      "\n",
      "why is it cold during my spring break what is this shit THE 63 ON WEDNESDAY AND THEN HIT W FUCKING SNOW ON THURSDAY? https://t.co/wZoTlJnp2a \n",
      "\n",
      "RT @MrsHayesfam: Kids ❤️ this activity after our long #SpringBreak Shared 1 sentence abt  Spring Break, wrote exact event they shared on pa… \n",
      "\n"
     ]
    }
   ],
   "source": [
    "for tweet in results.data :\n",
    "    print(tweet.text, '\\n')"
   ]
  },
  {
   "cell_type": "markdown",
   "metadata": {
    "deletable": false,
    "editable": false
   },
   "source": [
    "### Default tweet information\n",
    "\n",
    "By default each tweet has an *id*, which uniquely identifies it, and its *text*."
   ]
  },
  {
   "cell_type": "code",
   "execution_count": 5,
   "metadata": {
    "deletable": false,
    "editable": false
   },
   "outputs": [
    {
     "data": {
      "text/plain": [
       "<Tweet id=1508552199202349058 text='RT @Jessi_Taylor21: 5 days, 33 miles walked, and 2 VERY swollen ankles. What started as a spring break plan ended up being the best Babymoo…'>"
      ]
     },
     "execution_count": 5,
     "metadata": {},
     "output_type": "execute_result"
    }
   ],
   "source": [
    "tweet1 = results.data[0]\n",
    "tweet1"
   ]
  },
  {
   "cell_type": "code",
   "execution_count": 6,
   "metadata": {
    "deletable": false,
    "editable": false
   },
   "outputs": [
    {
     "data": {
      "text/plain": [
       "1508552199202349058"
      ]
     },
     "execution_count": 6,
     "metadata": {},
     "output_type": "execute_result"
    }
   ],
   "source": [
    "tweet1.id"
   ]
  },
  {
   "cell_type": "markdown",
   "metadata": {
    "deletable": false,
    "editable": false
   },
   "source": [
    "We can look at the tweet on Twitter by specifying its id."
   ]
  },
  {
   "cell_type": "code",
   "execution_count": 7,
   "metadata": {
    "deletable": false,
    "editable": false
   },
   "outputs": [
    {
     "name": "stdout",
     "output_type": "stream",
     "text": [
      "https://twitter.com/i/web/status/1508552199202349058\n"
     ]
    }
   ],
   "source": [
    "print('https://twitter.com/i/web/status/', tweet1.id, sep = '')"
   ]
  },
  {
   "cell_type": "markdown",
   "metadata": {
    "deletable": false,
    "editable": false
   },
   "source": [
    "Note that this tweet does not have additional information (such as the author id)"
   ]
  },
  {
   "cell_type": "code",
   "execution_count": 8,
   "metadata": {
    "deletable": false,
    "editable": false
   },
   "outputs": [],
   "source": [
    "tweet1.author_id"
   ]
  },
  {
   "cell_type": "markdown",
   "metadata": {
    "deletable": false,
    "editable": false
   },
   "source": [
    "### Twitter objects\n",
    "\n",
    "When calling a function that uses the Twitter API, a specific Twitter object will be returned. For this class we will focus on two objects, for *Tweets* and *Users*. \n",
    "\n",
    "https://developer.twitter.com/en/docs/twitter-api/data-dictionary/introduction\n",
    "\n",
    "The function *client.search_recent_tweets* returns a *Tweet* object. Each object includes different *fields* that can be returned. In the case of a *Tweet* object, the default fields are the *id* and *text* only, as seen above, and documented here: https://developer.twitter.com/en/docs/twitter-api/data-dictionary/object-model/tweet\n"
   ]
  },
  {
   "cell_type": "markdown",
   "metadata": {
    "deletable": false,
    "editable": false
   },
   "source": [
    "### Getting additional information using *fields*\n",
    "\n",
    "We can retreive additional data by setting various *fields* arguments. The argument can be set to a string or a list of strings. Again we will focus on two types:\n",
    "\n",
    "- *tweet_fields*: additional information about the tweet\n",
    "    - https://developer.twitter.com/en/docs/twitter-api/data-dictionary/object-model/tweet\n",
    "- *user_fields*: additional information about the user\n",
    "    - https://developer.twitter.com/en/docs/twitter-api/data-dictionary/object-model/user\n",
    "\n",
    "Below, we get the public_metrics (retweets, replies, likes, and quotes)."
   ]
  },
  {
   "cell_type": "code",
   "execution_count": 13,
   "metadata": {
    "deletable": false,
    "editable": false
   },
   "outputs": [],
   "source": [
    "results = client.search_recent_tweets('spring break lang:en', \n",
    "                                      tweet_fields = 'public_metrics')\n",
    "tweet1 = results.data[0]"
   ]
  },
  {
   "cell_type": "code",
   "execution_count": 14,
   "metadata": {
    "deletable": false,
    "editable": false
   },
   "outputs": [
    {
     "data": {
      "text/plain": [
       "{'retweet_count': 0, 'reply_count': 0, 'like_count': 0, 'quote_count': 0}"
      ]
     },
     "execution_count": 14,
     "metadata": {},
     "output_type": "execute_result"
    }
   ],
   "source": [
    "tweet1.public_metrics"
   ]
  },
  {
   "cell_type": "markdown",
   "metadata": {
    "deletable": false,
    "editable": false
   },
   "source": [
    "### Getting additional information using *expansions*\n",
    "\n",
    "If we want to retreive fields that belong to an object other than the one returned, then we need to use the *expansions* argument. Available expansions are listed here: https://developer.twitter.com/en/docs/twitter-api/expansions\n",
    "\n",
    "By default, the default fields for the expansion are returned. In the example below, we set the *expansions* to 'author_id', which returns a *user* object for each tweet. The default fields of the user object are the *id*, *name*, and *username*."
   ]
  },
  {
   "cell_type": "code",
   "execution_count": 10,
   "metadata": {
    "deletable": false,
    "editable": false
   },
   "outputs": [],
   "source": [
    "results = client.search_recent_tweets('spring break lang:en', expansions = 'author_id')\n",
    "tweet1 = results.data[0]"
   ]
  },
  {
   "cell_type": "markdown",
   "metadata": {
    "deletable": false,
    "editable": false
   },
   "source": [
    "We now have the author id for each tweet."
   ]
  },
  {
   "cell_type": "code",
   "execution_count": 11,
   "metadata": {
    "deletable": false,
    "editable": false
   },
   "outputs": [
    {
     "name": "stdout",
     "output_type": "stream",
     "text": [
      "https://twitter.com/i/web/status/1506648533448933383\n"
     ]
    }
   ],
   "source": [
    "print('https://twitter.com/i/web/status/', tweet1.id, sep = '')"
   ]
  },
  {
   "cell_type": "code",
   "execution_count": 12,
   "metadata": {
    "deletable": false,
    "editable": false
   },
   "outputs": [
    {
     "data": {
      "text/plain": [
       "1134832240674988033"
      ]
     },
     "execution_count": 12,
     "metadata": {},
     "output_type": "execute_result"
    }
   ],
   "source": [
    "tweet1.author_id"
   ]
  },
  {
   "cell_type": "markdown",
   "metadata": {
    "deletable": false,
    "editable": false
   },
   "source": [
    "The information retrieved for the expansion can be found in *results.includes*, which is a dictionary that in this case contains the *user* information requested by the *expansion*. Note that only the *default* user information is returned (*id*, *name*, and *username*). If we wanted additional information, we could specify this using the *user_fields* argument."
   ]
  },
  {
   "cell_type": "code",
   "execution_count": 13,
   "metadata": {
    "deletable": false,
    "editable": false
   },
   "outputs": [
    {
     "data": {
      "text/plain": [
       "[<User id=1134832240674988033 name=BlackToe username=CookerBlackToe>,\n",
       " <User id=1047203621224337408 name=krushgraphix💋 username=krushgraphix>,\n",
       " <User id=1312020792318795776 name=JoeShiesty username=josephavsz>,\n",
       " <User id=1436678841720791043 name=Kevin Carter username=KevinCarter_28>,\n",
       " <User id=1301889165060116481 name=KJ username=IDontSpeakWhine>,\n",
       " <User id=50618960 name=Chris Dong username=thechrisflyer>,\n",
       " <User id=1458796576311238656 name=rupaul fan tweets username=iloveaphextwin1>,\n",
       " <User id=1028697242016907265 name=Pace High School Flag Football username=PaceFlagFB>,\n",
       " <User id=4594470269 name=nadia’s evil era username=nadiabagels69>,\n",
       " <User id=7212562 name=Southwest Airlines username=SouthwestAir>]"
      ]
     },
     "execution_count": 13,
     "metadata": {},
     "output_type": "execute_result"
    }
   ],
   "source": [
    "results.includes['users']"
   ]
  },
  {
   "cell_type": "markdown",
   "metadata": {
    "deletable": false,
    "editable": false
   },
   "source": [
    "The user information will be linked to each tweet by the user id, but in general this information may not exist for each tweet. Therefore, let's create a dictionary so that we can look up a user. We do this using *dictionary comprehension*."
   ]
  },
  {
   "cell_type": "code",
   "execution_count": 14,
   "metadata": {
    "deletable": false,
    "editable": false
   },
   "outputs": [],
   "source": [
    "users_dictionary = { u.id:u for u in results.includes['users']}"
   ]
  },
  {
   "cell_type": "markdown",
   "metadata": {
    "deletable": false,
    "editable": false
   },
   "source": [
    "Now we can look up a user in the dictionary by its id"
   ]
  },
  {
   "cell_type": "code",
   "execution_count": 15,
   "metadata": {
    "deletable": false,
    "editable": false
   },
   "outputs": [
    {
     "data": {
      "text/plain": [
       "<User id=1134832240674988033 name=BlackToe username=CookerBlackToe>"
      ]
     },
     "execution_count": 15,
     "metadata": {},
     "output_type": "execute_result"
    }
   ],
   "source": [
    "tweet1_user = users_dictionary[tweet1.author_id]\n",
    "tweet1_user"
   ]
  },
  {
   "cell_type": "code",
   "execution_count": 16,
   "metadata": {
    "deletable": false,
    "editable": false
   },
   "outputs": [
    {
     "name": "stdout",
     "output_type": "stream",
     "text": [
      "BlackToe(@CookerBlackToe): Wonder if $APE and $ETH gonna move the same or if $APE gonna continue doing its own thang 🤪🤪🤪. Spring break in Valhalla still on schedule ☃️ https://t.co/cjCJ3hiBlw\n"
     ]
    }
   ],
   "source": [
    "print(tweet1_user.name, '(@', tweet1_user.username, '): ', tweet1.text, sep ='')"
   ]
  },
  {
   "cell_type": "markdown",
   "metadata": {},
   "source": [
    "Let's now include the user's profile *description*, along with the default *user* information the *author_id* expansion gives us for each tweet."
   ]
  },
  {
   "cell_type": "code",
   "execution_count": 17,
   "metadata": {
    "deletable": false,
    "editable": false
   },
   "outputs": [],
   "source": [
    "results = client.search_recent_tweets('spring break lang:en', expansions = 'author_id', user_fields = 'description')\n",
    "users_dictionary = { u.id:u for u in results.includes['users']}"
   ]
  },
  {
   "cell_type": "code",
   "execution_count": 18,
   "metadata": {
    "deletable": false,
    "editable": false
   },
   "outputs": [
    {
     "name": "stdout",
     "output_type": "stream",
     "text": [
      "User: alivealice9\n",
      "Description: Fully human. Does not fit in a box & colors outside the lines. Rabbit Holes & Wonderland. 🌎☮️💗\n",
      "\n",
      "Tweet: @MelissaTuckey @TompkinsHealth If you have been looking around the world &amp; closer to home - the Cornell numbers in past few weeks not included in these reports (are Ithaca College just returned from spring break included) should be no surprise. https://t.co/Rb6ueFTGmD\n"
     ]
    }
   ],
   "source": [
    "tweet1 = results.data[0]\n",
    "user1 = users_dictionary[tweet1.author_id]\n",
    "\n",
    "print('User:', user1.username)\n",
    "print('Description:', user1.description)\n",
    "print()\n",
    "print('Tweet:', tweet1.text)"
   ]
  },
  {
   "cell_type": "markdown",
   "metadata": {
    "deletable": false,
    "editable": false
   },
   "source": [
    "### Getting user information\n",
    "\n",
    "To get user information directly, we can use one of the following: \n",
    "- *client.get_user* will get information for one user based on their *userName* or by *id*.\n",
    "- *client.get_users* will get information for multiple users based on their *usernames* or *ids*.\n",
    "\n",
    "The concepts involving additional *fields* and *expansions* discussed above apply here. In this case, the only available expansion is for a *pinned_tweet_id*, which will be the ID of the user's pinned tweet, if applicable."
   ]
  },
  {
   "cell_type": "code",
   "execution_count": 19,
   "metadata": {
    "deletable": false,
    "editable": false
   },
   "outputs": [
    {
     "data": {
      "text/plain": [
       "Response(data=<User id=802555052875333632 name=AliceWondersAtItAll username=alivealice9>, includes={}, errors=[], meta={})"
      ]
     },
     "execution_count": 19,
     "metadata": {},
     "output_type": "execute_result"
    }
   ],
   "source": [
    "user = client.get_user(id = results.data[0].author_id)\n",
    "user"
   ]
  },
  {
   "cell_type": "markdown",
   "metadata": {
    "deletable": false,
    "editable": false
   },
   "source": [
    "By default, we get the user's id, name, and username:"
   ]
  },
  {
   "cell_type": "code",
   "execution_count": 20,
   "metadata": {
    "deletable": false,
    "editable": false
   },
   "outputs": [
    {
     "name": "stdout",
     "output_type": "stream",
     "text": [
      "User name: alivealice9\n",
      "Name: AliceWondersAtItAll\n",
      "User id: 802555052875333632\n",
      "Link: https://twitter.com/alivealice9\n"
     ]
    }
   ],
   "source": [
    "print('User name:', user.data.username)\n",
    "print('Name:', user.data.name)\n",
    "print('User id:', user.data.id)\n",
    "print('Link: https://twitter.com/' + user.data.username)"
   ]
  },
  {
   "cell_type": "markdown",
   "metadata": {},
   "source": [
    "### Get tweets from a user's timeline\n",
    "\n",
    "To get tweets from a user's timeline, we need the user's id. Then we can use *client.get_users_tweets* to get the 10 most recent tweets by default."
   ]
  },
  {
   "cell_type": "code",
   "execution_count": 22,
   "metadata": {
    "deletable": false,
    "editable": false
   },
   "outputs": [
    {
     "data": {
      "text/plain": [
       "226561689"
      ]
     },
     "execution_count": 22,
     "metadata": {},
     "output_type": "execute_result"
    }
   ],
   "source": [
    "eastern = client.get_user(username='EasternCTStateU')\n",
    "eastern.data.id"
   ]
  },
  {
   "cell_type": "code",
   "execution_count": 23,
   "metadata": {
    "deletable": false,
    "editable": false
   },
   "outputs": [],
   "source": [
    "eastern_tweets = client.get_users_tweets(eastern.data.id)"
   ]
  },
  {
   "cell_type": "code",
   "execution_count": 24,
   "metadata": {
    "deletable": false,
    "editable": false
   },
   "outputs": [
    {
     "name": "stdout",
     "output_type": "stream",
     "text": [
      "1: Congratulations to the admitted class of 2026! Next week, we will host a major spotlight for Psychology, with more \"Major Spotlight\" events to come! #MyEastern\n",
      "https://t.co/lBhuDjS4fg https://t.co/zItPiDlGwp\n",
      "\n",
      "2: https://t.co/qqliXa9hVq\n",
      "\n",
      "3: https://t.co/XJdtlUDOiT\n",
      "\n",
      "4: RT @EasternTheatre: Legally Blonde The Musical, follows the transformation of Elle Woods as she tackles stereotypes and scandal in pursuit…\n",
      "\n",
      "5: RT @ECSUEnglishDept: Questions about English classes or the English major @EasternCTStateU? Get answers (and snacks) at Sigma Tau Delta's Q…\n",
      "\n",
      "6: This Wednesday, March 23! Over 60 employers will be on campus recruiting Eastern students for jobs and internships. All majors are encouraged to attend to talk with recruiters about their opportunities!  Professional dress and resumes in hand are strongly encouraged. #MyEastern https://t.co/wx9RwpGMoW\n",
      "\n",
      "7: Photo Submission Link: https://t.co/PD6CCVwG7Q https://t.co/3EZMp1uDf3\n",
      "\n",
      "8: https://t.co/vrkcimkKCp\n",
      "\n",
      "9: https://t.co/jWgPbEI9XS\n",
      "\n",
      "10: https://t.co/BDUPmlxBWy\n",
      "\n"
     ]
    }
   ],
   "source": [
    "for i, tweet in enumerate(eastern_tweets.data) :\n",
    "    print(i+1, ': ', tweet.text, sep = '')\n",
    "    print()"
   ]
  },
  {
   "cell_type": "markdown",
   "metadata": {
    "deletable": false,
    "editable": false
   },
   "source": [
    "### Getting more results,  and don't forget your monthly tweet cap\n",
    "\n",
    "As mentioned above, you are limited to retreiving 500,000 tweets a month. \n",
    "\n",
    "To see this monthly Twitter cap usage, log on to your developer account, at https://developer.twitter.com, and click on the 'Developer Portal' link on the top right. \n",
    "\n",
    "This page will look something like this: https://gdancik.github.io/CSC-202/data/notes/twitter.png.\n",
    "\n",
    "However, there are no limits to how much user information can be retrieved.\n",
    "\n",
    "Because of the monthly cap, the code above uses the default settings to return 10 tweets at once. However, this can be modified by setting *max_results*, which for tweets should be a number between 10 and 100. It is also possible to get multiple *pages* of results. If more than 100 results are desired, you will need to use *tweepy.Paginator* (see https://docs.tweepy.org/en/latest/v2_pagination.html for examples).\n"
   ]
  },
  {
   "cell_type": "code",
   "execution_count": null,
   "metadata": {},
   "outputs": [],
   "source": []
  }
 ],
 "metadata": {
  "kernelspec": {
   "display_name": "Python 3 (ipykernel)",
   "language": "python",
   "name": "python3"
  },
  "language_info": {
   "codemirror_mode": {
    "name": "ipython",
    "version": 3
   },
   "file_extension": ".py",
   "mimetype": "text/x-python",
   "name": "python",
   "nbconvert_exporter": "python",
   "pygments_lexer": "ipython3",
   "version": "3.9.7"
  }
 },
 "nbformat": 4,
 "nbformat_minor": 2
}
