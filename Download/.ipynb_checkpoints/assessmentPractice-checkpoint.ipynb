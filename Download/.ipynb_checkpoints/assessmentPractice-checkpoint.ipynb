{
 "cells": [
  {
   "cell_type": "markdown",
   "metadata": {
    "deletable": false,
    "editable": false,
    "run_control": {
     "frozen": true
    }
   },
   "source": [
    "# Python Assessment Review\n",
    "\n",
    "## Assessment Topics\n",
    "- Output (*print*) and input (*input*)\n",
    "- Variables, assignment, and expressions\n",
    "- Sequences (lists, strings, and tuples)\n",
    "    - Creating a sequence\n",
    "    - Changing values of *mutable* sequences\n",
    "    - Slicing\n",
    "    - Adding an element to a list\n",
    "- Branching (*if*, *elif*, and *else*)\n",
    "    - Boolean values and evaluating boolean expressions\n",
    "    - Writing code with branches\n",
    "- *For* loops\n",
    "    - iterating over each element of a sequence\n",
    "    - iterating a fixed number of times (*range* function)\n",
    "    - iterating over the index and values using *enumerate*\n",
    "    - iterating over two sequences using the *zip* function"
   ]
  },
  {
   "cell_type": "markdown",
   "metadata": {},
   "source": [
    "## Assessment Format\n",
    "- Exam is open note/open book\n",
    "- The exam will consist of coding questions in a Jupyter Notebook\n",
    "- You only have the class period for the exam\n",
    "    - This means you need to study\n",
    "    - This means you need to have your notes and examples organized"
   ]
  },
  {
   "cell_type": "markdown",
   "metadata": {
    "deletable": false,
    "editable": false,
    "run_control": {
     "frozen": true
    }
   },
   "source": [
    "## Practice Problems\n",
    "\n",
    "Several practice questions are provided below. In addition, you should make sure you understand all class examples and zyBook questions."
   ]
  },
  {
   "cell_type": "markdown",
   "metadata": {
    "deletable": false,
    "editable": false,
    "run_control": {
     "frozen": true
    }
   },
   "source": [
    "### Question 1\n",
    "\n",
    "Create a variable called *name* that stores the value 'practice'"
   ]
  },
  {
   "cell_type": "code",
   "execution_count": null,
   "metadata": {},
   "outputs": [],
   "source": [
    "name = \"Practice\""
   ]
  },
  {
   "cell_type": "code",
   "execution_count": null,
   "metadata": {},
   "outputs": [],
   "source": [
    "name"
   ]
  },
  {
   "cell_type": "markdown",
   "metadata": {
    "deletable": false,
    "editable": false,
    "run_control": {
     "frozen": true
    }
   },
   "source": [
    "### Question 2\n",
    "\n",
    "Complete the code below to output 'This course number is CSC 202.', using the value of *course*.\n",
    "Note that there is a period at the end of the sentence."
   ]
  },
  {
   "cell_type": "code",
   "execution_count": null,
   "metadata": {},
   "outputs": [],
   "source": [
    "course = 'CSC 202'\n",
    "\n",
    "print(\"This course number is\", course, \".\", sep = \"\")"
   ]
  },
  {
   "cell_type": "markdown",
   "metadata": {
    "deletable": false,
    "editable": false,
    "run_control": {
     "frozen": true
    }
   },
   "source": [
    "### Question 3\n",
    "The formula for converting a temperature in degrees Fahrenheit to Celsius is $(F - 32)\\times \\frac{5}{9}$.\n",
    "\n",
    "Convert the temperature below from Fahrenheit to Celsius, and output your result in the form\n",
    "```\n",
    "212 degrees Fahrenheit --> 100 degrees Celsius\n",
    "```"
   ]
  },
  {
   "cell_type": "code",
   "execution_count": null,
   "metadata": {},
   "outputs": [],
   "source": [
    "fahrenheit = 212\n",
    "\n",
    "Celsius = (fahrenheit - 32)*(5/9)\n",
    "\n",
    "\n",
    "print(fahrenheit,\"degrees Fahrenheit -->\", round(Celsius),\"degrees Celsius\")"
   ]
  },
  {
   "cell_type": "markdown",
   "metadata": {
    "deletable": false,
    "editable": false
   },
   "source": [
    "### Question 4\n",
    "Use the topics list below to answer the following questions:"
   ]
  },
  {
   "cell_type": "code",
   "execution_count": null,
   "metadata": {
    "deletable": false,
    "editable": false
   },
   "outputs": [],
   "source": [
    "topics = ['output/input', 'variables', 'sequences', 'branching', 'loops']"
   ]
  },
  {
   "cell_type": "markdown",
   "metadata": {
    "deletable": false,
    "editable": false,
    "run_control": {
     "frozen": true
    }
   },
   "source": [
    "(a) How many topics have we covered (use Python to find the length of the list)?"
   ]
  },
  {
   "cell_type": "code",
   "execution_count": null,
   "metadata": {},
   "outputs": [],
   "source": [
    "len(topics)"
   ]
  },
  {
   "cell_type": "markdown",
   "metadata": {
    "deletable": false,
    "editable": false,
    "run_control": {
     "frozen": true
    }
   },
   "source": [
    "(b) Output the first topic."
   ]
  },
  {
   "cell_type": "code",
   "execution_count": null,
   "metadata": {},
   "outputs": [],
   "source": [
    "topics[0]"
   ]
  },
  {
   "cell_type": "markdown",
   "metadata": {
    "deletable": false,
    "editable": false,
    "run_control": {
     "frozen": true
    }
   },
   "source": [
    "(c) Output the last topic"
   ]
  },
  {
   "cell_type": "code",
   "execution_count": null,
   "metadata": {},
   "outputs": [],
   "source": [
    "topics[-1]"
   ]
  },
  {
   "cell_type": "markdown",
   "metadata": {
    "deletable": false,
    "editable": false,
    "run_control": {
     "frozen": true
    }
   },
   "source": [
    "(d) Add our next topic, 'functions', to the end of the list"
   ]
  },
  {
   "cell_type": "code",
   "execution_count": null,
   "metadata": {},
   "outputs": [],
   "source": [
    "topics.append(\"functions\")\n",
    "topics"
   ]
  },
  {
   "cell_type": "markdown",
   "metadata": {
    "deletable": false,
    "editable": false,
    "run_control": {
     "frozen": true
    }
   },
   "source": [
    "### Question 5\n",
    "(a) Write a boolean expression that returns True if `course` is equal to 'CSC 202'"
   ]
  },
  {
   "cell_type": "code",
   "execution_count": null,
   "metadata": {},
   "outputs": [],
   "source": [
    "Course = \"CSC 202\""
   ]
  },
  {
   "cell_type": "code",
   "execution_count": null,
   "metadata": {},
   "outputs": [],
   "source": [
    "Course ==\"CSC 202\""
   ]
  },
  {
   "cell_type": "markdown",
   "metadata": {
    "deletable": false,
    "editable": false,
    "run_control": {
     "frozen": true
    }
   },
   "source": [
    "(b) Write a boolean expression that returns True if `age` is either 12 or under or `age` is 60 or over"
   ]
  },
  {
   "cell_type": "code",
   "execution_count": null,
   "metadata": {},
   "outputs": [],
   "source": [
    "age = int(input(\"Enter an age:\"))\n",
    "\n",
    "if age <= 12:\n",
    "    print(\"True\")\n",
    "elif age > 60:\n",
    "    print(\"True\")\n",
    "else:\n",
    "    print(\"False\")"
   ]
  },
  {
   "cell_type": "code",
   "execution_count": null,
   "metadata": {},
   "outputs": [],
   "source": []
  },
  {
   "cell_type": "code",
   "execution_count": null,
   "metadata": {},
   "outputs": [],
   "source": []
  },
  {
   "cell_type": "markdown",
   "metadata": {
    "deletable": false,
    "editable": false,
    "run_control": {
     "frozen": true
    }
   },
   "source": [
    "### Question 6\n",
    "The `color` variable in the code below stores the value of the color of a traffic light. Output the following, depending on the color:\n",
    "- green: output 'go'\n",
    "- yellow: output 'slow down (or speed up)'\n",
    "- red: output 'stop'\n",
    "- anything else: output 'traffic light is broken'"
   ]
  },
  {
   "cell_type": "code",
   "execution_count": null,
   "metadata": {},
   "outputs": [],
   "source": [
    "color = 'green'\n",
    "\n",
    "if color == 'green' :\n",
    "    print(\"go\")\n",
    "elif color == 'yellow' : \n",
    "    print('slow down (or speed up)')\n",
    "elif color == 'red':\n",
    "    print('stop')\n",
    "else:\n",
    "    print('traffic light is broken')"
   ]
  },
  {
   "cell_type": "code",
   "execution_count": null,
   "metadata": {},
   "outputs": [],
   "source": [
    "color = input('Type in a color:').lower()\n",
    "\n",
    "if color == 'green' :\n",
    "    print(\"go\")\n",
    "elif color == 'yellow' : \n",
    "    print('slow down (or speed up)')\n",
    "elif color == 'red':\n",
    "    print('stop')\n",
    "else:\n",
    "    print('traffic light is broken')"
   ]
  },
  {
   "cell_type": "markdown",
   "metadata": {
    "deletable": false,
    "editable": false,
    "run_control": {
     "frozen": true
    }
   },
   "source": [
    "### Question 7\n",
    "\n",
    "Use a *for* loop with a *range* statement to repeat 7 times and output the following:\n",
    "\n",
    "```\n",
    "iteration #1\n",
    "iteration #2\n",
    "...\n",
    "iteration #7\n",
    "```"
   ]
  },
  {
   "cell_type": "code",
   "execution_count": null,
   "metadata": {},
   "outputs": [],
   "source": [
    "for i in range(1,8):\n",
    "    print(\"iteration #\", i , sep = '')"
   ]
  },
  {
   "cell_type": "markdown",
   "metadata": {
    "deletable": false,
    "editable": false,
    "run_control": {
     "frozen": true
    }
   },
   "source": [
    "### Question 8\n",
    "Use a *for* loop to output the positive numbers in the *num* list."
   ]
  },
  {
   "cell_type": "code",
   "execution_count": 2,
   "metadata": {
    "deletable": false,
    "editable": false
   },
   "outputs": [],
   "source": [
    "nums = [9,-8,7,-6,3,2,-1,3,10,9]"
   ]
  },
  {
   "cell_type": "code",
   "execution_count": 3,
   "metadata": {},
   "outputs": [
    {
     "name": "stdout",
     "output_type": "stream",
     "text": [
      "9 7 3 2 3 10 9 "
     ]
    }
   ],
   "source": [
    "# iterating each number in list\n",
    "for num in nums:\n",
    "      \n",
    "    # checking condition\n",
    "    if num >= 0:\n",
    "       print(num, end = \" \")"
   ]
  },
  {
   "cell_type": "markdown",
   "metadata": {
    "deletable": false,
    "editable": false
   },
   "source": [
    "### Question 9\n",
    "\n",
    "Use *enumerate* to iterate through the *index* and values of the *nums* list, and output the index where *userNum* is found. For example, if *userNum* is 3, your output should be:\n",
    "```\n",
    "Number 3 found at index 4\n",
    "Number 3 found at index 7\n",
    "```"
   ]
  },
  {
   "cell_type": "code",
   "execution_count": 5,
   "metadata": {},
   "outputs": [
    {
     "name": "stdout",
     "output_type": "stream",
     "text": [
      "Number 9 found at index 0\n",
      "Number -8 found at index 1\n",
      "Number 7 found at index 2\n",
      "Number -6 found at index 3\n",
      "Number 3 found at index 4\n",
      "Number 2 found at index 5\n",
      "Number -1 found at index 6\n",
      "Number 3 found at index 7\n",
      "Number 10 found at index 8\n",
      "Number 9 found at index 9\n"
     ]
    }
   ],
   "source": [
    "for x, usernum in enumerate(nums) :\n",
    "    print('Number', usernum, 'found at index', x)"
   ]
  },
  {
   "cell_type": "markdown",
   "metadata": {
    "deletable": false,
    "editable": false
   },
   "source": [
    "### Question 10\n",
    "\n",
    "The code below prompts the user to enter their full name, and then converts the name to a list. Complete the code to output the person's initials. For example, if the user enters 'Adam Jones', then your code will output 'AJ'. If the user enters 'Adam Daniel Jones', then your code will output 'ADJ'."
   ]
  },
  {
   "cell_type": "code",
   "execution_count": null,
   "metadata": {
    "deletable": false,
    "editable": false
   },
   "outputs": [],
   "source": [
    "name = input('Enter your full name: ')\n",
    "nameList = name.split()\n",
    "nameList"
   ]
  },
  {
   "cell_type": "markdown",
   "metadata": {
    "deletable": false,
    "editable": false,
    "run_control": {
     "frozen": true
    }
   },
   "source": [
    "Complete the code below."
   ]
  },
  {
   "cell_type": "code",
   "execution_count": 6,
   "metadata": {},
   "outputs": [
    {
     "name": "stdout",
     "output_type": "stream",
     "text": [
      "Enter your full name: Juan Guillermo Villegas\n",
      "J.G.V\n"
     ]
    }
   ],
   "source": [
    "name = input(\"Enter your full name: \")\n",
    "nameList = name.split()\n",
    "print ('.'.join(word[0] for word in name.split(\" \")).upper())"
   ]
  },
  {
   "cell_type": "code",
   "execution_count": 12,
   "metadata": {},
   "outputs": [
    {
     "name": "stdout",
     "output_type": "stream",
     "text": [
      "Please enter a name: Juan Guillermo Villegas Salas Bryon\n",
      "JGVSB\n"
     ]
    }
   ],
   "source": [
    "name = input(\"Please enter a name: \")\n",
    "names = name.split()\n",
    "initials = [x[0] for x in names[0:]]\n",
    "print(*initials, sep = '')\n"
   ]
  },
  {
   "cell_type": "code",
   "execution_count": null,
   "metadata": {},
   "outputs": [],
   "source": [
    "name = input(\"Please enter a name: \")\n",
    "names = name.split()\n",
    "for i in range(0, len(names)):\n",
    "    if i < len(names) - 1:\n",
    "        # print first char only, no newline at the end\n",
    "        print(names[i][0], end=\" \") "
   ]
  },
  {
   "cell_type": "code",
   "execution_count": null,
   "metadata": {},
   "outputs": [],
   "source": [
    "name = input('Enter your full name: ')\n",
    "nameList = name.split()\n",
    "for name in nameList:\n",
    "    if name != \"\":\n",
    "        print(name[0])"
   ]
  },
  {
   "cell_type": "code",
   "execution_count": null,
   "metadata": {},
   "outputs": [],
   "source": []
  }
 ],
 "metadata": {
  "kernelspec": {
   "display_name": "Python 3",
   "language": "python",
   "name": "python3"
  },
  "language_info": {
   "codemirror_mode": {
    "name": "ipython",
    "version": 3
   },
   "file_extension": ".py",
   "mimetype": "text/x-python",
   "name": "python",
   "nbconvert_exporter": "python",
   "pygments_lexer": "ipython3",
   "version": "3.8.8"
  }
 },
 "nbformat": 4,
 "nbformat_minor": 2
}
