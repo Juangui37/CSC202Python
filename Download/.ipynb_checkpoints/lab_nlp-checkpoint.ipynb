{
 "cells": [
  {
   "cell_type": "markdown",
   "metadata": {},
   "source": [
    "# Lab 8: Natural Language Processing\n",
    "\n",
    "Write your name in the Markdown cell below [2 points]"
   ]
  },
  {
   "cell_type": "markdown",
   "metadata": {},
   "source": [
    "### Name:  Juan Villegas        "
   ]
  },
  {
   "cell_type": "markdown",
   "metadata": {
    "deletable": false,
    "editable": false
   },
   "source": [
    "## Lab setup\n",
    "\n",
    "The code cells below extract the plain text Wikipedia entry for *Eastern Connecticut State University*. The details for this code are beyond the scope of our class, but if you are curious I can explain more about what this code does. To complete the assignment, you just need to understand that the text of the Wikipedia article is stored in the variable *text*, which you will first analyze using *TextBlob*. The assignment begins with the *Textblob questions* section."
   ]
  },
  {
   "cell_type": "code",
   "execution_count": 1,
   "metadata": {
    "deletable": false,
    "editable": false
   },
   "outputs": [],
   "source": [
    "# download the wikipedia entry\n",
    "import requests\n",
    "from bs4 import BeautifulSoup\n",
    "\n",
    "page = requests.get('https://en.wikipedia.org/w/api.php?action=query&format=json&titles=Eastern_Connecticut_State_University&prop=extracts&explaintext')\n",
    "\n",
    "if page.status_code != 200 :\n",
    "    print('Error: Page Not Found. Try again or ask Dr. Dancik for help')"
   ]
  },
  {
   "cell_type": "code",
   "execution_count": 2,
   "metadata": {
    "deletable": false,
    "editable": false
   },
   "outputs": [],
   "source": [
    "# result is in json format, which we convert to a dictionary using json.loads\n",
    "import json\n",
    "j = json.loads(page.text)"
   ]
  },
  {
   "cell_type": "code",
   "execution_count": 3,
   "metadata": {
    "deletable": false,
    "editable": false
   },
   "outputs": [
    {
     "name": "stdout",
     "output_type": "stream",
     "text": [
      "Eastern Connecticut State University (Eastern, Eastern Connecticut, Eastern Connecticut State, or ECSU) is a public liberal arts university in Willimantic, Connecticut. Founded in 1889, it is the second-oldest campus in the Connecticut State University System and third-oldest public university in the state. Eastern is located on Windham Street in Willimantic, Connecticut, on 182 acres (0.74 km2) 30 minutes from Hartford, lying midway between New York City and Boston. Although the majority of courses are held on the main campus, select classes take place at Manchester Community College, Capital Community College, and a satellite center in Groton.\n",
      "Eastern Connecticut State University is a member of the Connecticut State Colleges & Universities.\n",
      "\n",
      "\n",
      "== History ==\n",
      "The Connecticut General Assembly established the Willimantic State Normal School in 1889. As a normal school, the institution trained schoolteachers. The first class was of thirteen female students, who attended classes on the third floor of the Willimantic Savings Institute. The first male student entered in 1893.In 1890, the Town of Windham deeded 6 acres (24,000 m2) to the State of Connecticut for construction of a new campus for the school. The larger campus was completed in 1895. The first dormitory, Burr Hall, opened in September 1921. The institution was renamed Willimantic State Teachers College in 1937, after it began granting bachelor's degrees. The original Normal School building was destroyed in a fire and replaced by Shafer Hall, which was dedicated in 1946.The State College created its first graduate program (in education) in 1953. After expanding its programs and campus, it became Eastern Connecticut State College in 1967, and Eastern Connecticut State University in 1983.\n",
      "\n",
      "\n",
      "== Academics ==\n",
      "\n",
      "Academically, the university is organized into three schools, the School of Arts and Sciences, the School of Education and Professional Studies, and the School of Continuing Education. Graduate study programs offered through the School of Education and Professional Studies and include Education, Teacher Certification, and Organizational Management.\n",
      "\n",
      "\n",
      "== Institute for Sustainable Energy ==\n",
      "The Institute for Sustainable Energy was opened in 2001 and focuses on sustainable energy education, serving as a source for sustainable energy information, assistance in sustainable energy policy making, and assistance in implementing sustainable energy solutions. The institute is located at 182 High Street. The current director is William Leahy.In 2012 Eastern had a stationary phosphoric acid fuel cell, known as the PureCell System Model 400, installed on the west side of its Science Building. Eastern will use 100 percent of the energy produced by the fuel cell system to provide a majority of the power required for the Science Building, while maximizing the use of the heat output available. Under a 10-year Energy Services Agreement (ESA) with ClearEdge Power, the installation was made possible by a federal American Recovery and Reinvestment Act (ARRA) grant through CEFIA.\n",
      "\n",
      "\n",
      "== Housing ==\n",
      "87 percent of first-year students, and 60 percent of all full-time undergraduates live in college housing. The campus is separated into first-year halls and upperclassman halls. All students with sophomore status and higher are eligible to live in upperclassman halls. There are six first-year halls, five upperclassman halls and two sets of apartments.\n",
      "\n",
      "\n",
      "== Student organizations ==\n",
      "Eastern offers more than 80 student organizations in which students can participate, including athletic, political, cultural, artistic and communication clubs. The campus newscast is ETV. The Student Government Association is the liaison between the student body and university administration and each residence hall has a student council that plans events and trips for hall residents.\n",
      "\n",
      "\n",
      "== Athletics ==\n",
      "\n",
      "Eastern's sports teams are known as the \"Warriors\" and are represented by a logo depicting a shield superior to two crossed swords. The university is a member of the NCAA Division III, the Little East Conference and the Eastern College Athletic Conference. Men's varsity sports include baseball, basketball, cross country, lacrosse, soccer, and indoor and outdoor track and field. Women's varsity sports include basketball, cross country, field hockey, lacrosse, soccer, softball, swimming, indoor and outdoor track and field, and volleyball.Intramural sports include men's and women's tennis league, co-ed indoor and outdoor soccer, co-ed dodgeball, men's and women's flag football, men's and women's volleyball, co-ed softball, ultimate frisbee league, men's and women's basketball league, co-ed floor hockey, wiffle ball tournament, golf. Club sports include competitive cheerleading, fencing club, football club, ice hockey club and rugby club.The men's baseball team won the NCAA Division III national championship four times (1982, '90, '98, '02). The women's softball team won national championships five times (1981 (AIAW Div. III), '82, '85, '86, and '90 − NCAA).\n",
      "\n",
      "\n",
      "== Campus ==\n",
      "Eastern's campus, which is spread over 182 acres (0.74 km2), is divided into three areas: South Campus, North Campus, and the University Sports Complex. South Campus is the historic part of the university and includes buildings such as Burr Hall, the school's first dormitory, which dates back to 1921. North Campus, the more modern part of the university, is home to the library, the fine arts instructional center, and the student center.\n",
      "\n",
      "\n",
      "== Notable alumni ==\n",
      "Chimamanda Ngozi Adichie - Nigerian writer\n",
      "Pat Boyd – Connecticut State Representative\n",
      "Christopher D. Coutu - Former Connecticut State Representative\n",
      "William A. Cugno - Adjutant General of the Connecticut National Guard\n",
      "Edward Gaffney - Michigan State Representative\n",
      "David W. Gay - Adjutant General of the Connecticut National Guard\n",
      "Camille Kostek - model who was on the cover of Sports Illustrated Swimsuit Issue\n",
      "Victoria Leigh Soto - Sandy Hook Elementary School teacher killed in the massacre\n",
      "Susan Wilson - Author\n",
      "\n",
      "\n",
      "== See also ==\n",
      "Connecticut State University System\n",
      "WECS\n",
      "\n",
      "\n",
      "== References ==\n",
      "\n",
      "\n",
      "== External links ==\n",
      "Official website\n"
     ]
    }
   ],
   "source": [
    "# extract the text\n",
    "\n",
    "# first find the pageId\n",
    "pageId = list(j['query']['pages'].keys())[0]\n",
    "pageId\n",
    "\n",
    "# get the extract for this pageId, and store the text in the variable 'text'\n",
    "text = j['query']['pages'][pageId]['extract']\n",
    "print(text)"
   ]
  },
  {
   "cell_type": "markdown",
   "metadata": {
    "deletable": false,
    "editable": false
   },
   "source": [
    "## *TextBlob* questions\n",
    "\n",
    "The code below imports *TextBlob* and creates a *blob* from the Wikipedia text."
   ]
  },
  {
   "cell_type": "code",
   "execution_count": 4,
   "metadata": {},
   "outputs": [
    {
     "name": "stderr",
     "output_type": "stream",
     "text": [
      "[nltk_data] Downloading package punkt to\n",
      "[nltk_data]     /Users/juanvillegas/nltk_data...\n",
      "[nltk_data]   Package punkt is already up-to-date!\n"
     ]
    },
    {
     "data": {
      "text/plain": [
       "True"
      ]
     },
     "execution_count": 4,
     "metadata": {},
     "output_type": "execute_result"
    }
   ],
   "source": [
    "import nltk\n",
    "nltk.download('punkt')"
   ]
  },
  {
   "cell_type": "code",
   "execution_count": 12,
   "metadata": {
    "deletable": false,
    "editable": false
   },
   "outputs": [],
   "source": [
    "from textblob import TextBlob\n",
    "blob = TextBlob(text)"
   ]
  },
  {
   "cell_type": "code",
   "execution_count": 13,
   "metadata": {},
   "outputs": [
    {
     "data": {
      "text/plain": [
       "TextBlob(\"Eastern Connecticut State University (Eastern, Eastern Connecticut, Eastern Connecticut State, or ECSU) is a public liberal arts university in Willimantic, Connecticut. Founded in 1889, it is the second-oldest campus in the Connecticut State University System and third-oldest public university in the state. Eastern is located on Windham Street in Willimantic, Connecticut, on 182 acres (0.74 km2) 30 minutes from Hartford, lying midway between New York City and Boston. Although the majority of courses are held on the main campus, select classes take place at Manchester Community College, Capital Community College, and a satellite center in Groton.\n",
       "Eastern Connecticut State University is a member of the Connecticut State Colleges & Universities.\n",
       "\n",
       "\n",
       "== History ==\n",
       "The Connecticut General Assembly established the Willimantic State Normal School in 1889. As a normal school, the institution trained schoolteachers. The first class was of thirteen female students, who attended classes on the third floor of the Willimantic Savings Institute. The first male student entered in 1893.In 1890, the Town of Windham deeded 6 acres (24,000 m2) to the State of Connecticut for construction of a new campus for the school. The larger campus was completed in 1895. The first dormitory, Burr Hall, opened in September 1921. The institution was renamed Willimantic State Teachers College in 1937, after it began granting bachelor's degrees. The original Normal School building was destroyed in a fire and replaced by Shafer Hall, which was dedicated in 1946.The State College created its first graduate program (in education) in 1953. After expanding its programs and campus, it became Eastern Connecticut State College in 1967, and Eastern Connecticut State University in 1983.\n",
       "\n",
       "\n",
       "== Academics ==\n",
       "\n",
       "Academically, the university is organized into three schools, the School of Arts and Sciences, the School of Education and Professional Studies, and the School of Continuing Education. Graduate study programs offered through the School of Education and Professional Studies and include Education, Teacher Certification, and Organizational Management.\n",
       "\n",
       "\n",
       "== Institute for Sustainable Energy ==\n",
       "The Institute for Sustainable Energy was opened in 2001 and focuses on sustainable energy education, serving as a source for sustainable energy information, assistance in sustainable energy policy making, and assistance in implementing sustainable energy solutions. The institute is located at 182 High Street. The current director is William Leahy.In 2012 Eastern had a stationary phosphoric acid fuel cell, known as the PureCell System Model 400, installed on the west side of its Science Building. Eastern will use 100 percent of the energy produced by the fuel cell system to provide a majority of the power required for the Science Building, while maximizing the use of the heat output available. Under a 10-year Energy Services Agreement (ESA) with ClearEdge Power, the installation was made possible by a federal American Recovery and Reinvestment Act (ARRA) grant through CEFIA.\n",
       "\n",
       "\n",
       "== Housing ==\n",
       "87 percent of first-year students, and 60 percent of all full-time undergraduates live in college housing. The campus is separated into first-year halls and upperclassman halls. All students with sophomore status and higher are eligible to live in upperclassman halls. There are six first-year halls, five upperclassman halls and two sets of apartments.\n",
       "\n",
       "\n",
       "== Student organizations ==\n",
       "Eastern offers more than 80 student organizations in which students can participate, including athletic, political, cultural, artistic and communication clubs. The campus newscast is ETV. The Student Government Association is the liaison between the student body and university administration and each residence hall has a student council that plans events and trips for hall residents.\n",
       "\n",
       "\n",
       "== Athletics ==\n",
       "\n",
       "Eastern's sports teams are known as the \"Warriors\" and are represented by a logo depicting a shield superior to two crossed swords. The university is a member of the NCAA Division III, the Little East Conference and the Eastern College Athletic Conference. Men's varsity sports include baseball, basketball, cross country, lacrosse, soccer, and indoor and outdoor track and field. Women's varsity sports include basketball, cross country, field hockey, lacrosse, soccer, softball, swimming, indoor and outdoor track and field, and volleyball.Intramural sports include men's and women's tennis league, co-ed indoor and outdoor soccer, co-ed dodgeball, men's and women's flag football, men's and women's volleyball, co-ed softball, ultimate frisbee league, men's and women's basketball league, co-ed floor hockey, wiffle ball tournament, golf. Club sports include competitive cheerleading, fencing club, football club, ice hockey club and rugby club.The men's baseball team won the NCAA Division III national championship four times (1982, '90, '98, '02). The women's softball team won national championships five times (1981 (AIAW Div. III), '82, '85, '86, and '90 − NCAA).\n",
       "\n",
       "\n",
       "== Campus ==\n",
       "Eastern's campus, which is spread over 182 acres (0.74 km2), is divided into three areas: South Campus, North Campus, and the University Sports Complex. South Campus is the historic part of the university and includes buildings such as Burr Hall, the school's first dormitory, which dates back to 1921. North Campus, the more modern part of the university, is home to the library, the fine arts instructional center, and the student center.\n",
       "\n",
       "\n",
       "== Notable alumni ==\n",
       "Chimamanda Ngozi Adichie - Nigerian writer\n",
       "Pat Boyd – Connecticut State Representative\n",
       "Christopher D. Coutu - Former Connecticut State Representative\n",
       "William A. Cugno - Adjutant General of the Connecticut National Guard\n",
       "Edward Gaffney - Michigan State Representative\n",
       "David W. Gay - Adjutant General of the Connecticut National Guard\n",
       "Camille Kostek - model who was on the cover of Sports Illustrated Swimsuit Issue\n",
       "Victoria Leigh Soto - Sandy Hook Elementary School teacher killed in the massacre\n",
       "Susan Wilson - Author\n",
       "\n",
       "\n",
       "== See also ==\n",
       "Connecticut State University System\n",
       "WECS\n",
       "\n",
       "\n",
       "== References ==\n",
       "\n",
       "\n",
       "== External links ==\n",
       "Official website\")"
      ]
     },
     "execution_count": 13,
     "metadata": {},
     "output_type": "execute_result"
    }
   ],
   "source": [
    "blob"
   ]
  },
  {
   "cell_type": "markdown",
   "metadata": {
    "deletable": false,
    "editable": false
   },
   "source": [
    "### Question 1  <span style = 'font-size: 80%'>[10 points]</span>\n",
    "(a) How many words are in the text?"
   ]
  },
  {
   "cell_type": "code",
   "execution_count": 6,
   "metadata": {},
   "outputs": [
    {
     "data": {
      "text/plain": [
       "911"
      ]
     },
     "execution_count": 6,
     "metadata": {},
     "output_type": "execute_result"
    }
   ],
   "source": [
    "len(blob.words)"
   ]
  },
  {
   "cell_type": "markdown",
   "metadata": {
    "deletable": false,
    "editable": false
   },
   "source": [
    "(b) How many sentences are in the text?"
   ]
  },
  {
   "cell_type": "code",
   "execution_count": 7,
   "metadata": {},
   "outputs": [
    {
     "data": {
      "text/plain": [
       "39"
      ]
     },
     "execution_count": 7,
     "metadata": {},
     "output_type": "execute_result"
    }
   ],
   "source": [
    "len(blob.sentences)"
   ]
  },
  {
   "cell_type": "markdown",
   "metadata": {
    "deletable": false,
    "editable": false
   },
   "source": [
    "(c) Display the 3rd sentence?"
   ]
  },
  {
   "cell_type": "code",
   "execution_count": 8,
   "metadata": {},
   "outputs": [
    {
     "data": {
      "text/plain": [
       "Sentence(\"Eastern is located on Windham Street in Willimantic, Connecticut, on 182 acres (0.74 km2) 30 minutes from Hartford, lying midway between New York City and Boston.\")"
      ]
     },
     "execution_count": 8,
     "metadata": {},
     "output_type": "execute_result"
    }
   ],
   "source": [
    "blob.sentences[2]"
   ]
  },
  {
   "cell_type": "markdown",
   "metadata": {
    "deletable": false,
    "editable": false
   },
   "source": [
    "### Question 2 <span style = 'font-size: 80%'>[10 points]</span>\n",
    "(a) Print out all the sentences that contain 'Eastern'. Print a blank line after each sentence."
   ]
  },
  {
   "cell_type": "code",
   "execution_count": 100,
   "metadata": {},
   "outputs": [
    {
     "name": "stdout",
     "output_type": "stream",
     "text": [
      "Eastern Connecticut State University (Eastern, Eastern Connecticut, Eastern Connecticut State, or ECSU) is a public liberal arts university in Willimantic, Connecticut. Founded in 1889, it is the second-oldest campus in the Connecticut State University System and third-oldest public university in the state. Eastern is located on Windham Street in Willimantic, Connecticut, on 182 acres (0.74 km2) 30 minutes from Hartford, lying midway between New York City and Boston. Although the majority of courses are held on the main campus, select classes take place at Manchester Community College, Capital Community College, and a satellite center in Groton.\n",
      "Eastern Connecticut State University is a member of the Connecticut State Colleges & Universities.\n",
      "\n",
      "\n",
      "== History ==\n",
      "The Connecticut General Assembly established the Willimantic State Normal School in 1889. As a normal school, the institution trained schoolteachers. The first class was of thirteen female students, who attended classes on the third floor of the Willimantic Savings Institute. The first male student entered in 1893.In 1890, the Town of Windham deeded 6 acres (24,000 m2) to the State of Connecticut for construction of a new campus for the school. The larger campus was completed in 1895. The first dormitory, Burr Hall, opened in September 1921. The institution was renamed Willimantic State Teachers College in 1937, after it began granting bachelor's degrees. The original Normal School building was destroyed in a fire and replaced by Shafer Hall, which was dedicated in 1946.The State College created its first graduate program (in education) in 1953. After expanding its programs and campus, it became Eastern Connecticut State College in 1967, and Eastern Connecticut State University in 1983.\n",
      "\n",
      "\n",
      "== Academics ==\n",
      "\n",
      "Academically, the university is organized into three schools, the School of Arts and Sciences, the School of Education and Professional Studies, and the School of Continuing Education. Graduate study programs offered through the School of Education and Professional Studies and include Education, Teacher Certification, and Organizational Management.\n",
      "\n",
      "\n",
      "== Institute for Sustainable Energy ==\n",
      "The Institute for Sustainable Energy was opened in 2001 and focuses on sustainable energy education, serving as a source for sustainable energy information, assistance in sustainable energy policy making, and assistance in implementing sustainable energy solutions. The institute is located at 182 High Street. The current director is William Leahy.In 2012 Eastern had a stationary phosphoric acid fuel cell, known as the PureCell System Model 400, installed on the west side of its Science Building. Eastern will use 100 percent of the energy produced by the fuel cell system to provide a majority of the power required for the Science Building, while maximizing the use of the heat output available. Under a 10-year Energy Services Agreement (ESA) with ClearEdge Power, the installation was made possible by a federal American Recovery and Reinvestment Act (ARRA) grant through CEFIA.\n",
      "\n",
      "\n",
      "== Housing ==\n",
      "87 percent of first-year students, and 60 percent of all full-time undergraduates live in college housing. The campus is separated into first-year halls and upperclassman halls. All students with sophomore status and higher are eligible to live in upperclassman halls. There are six first-year halls, five upperclassman halls and two sets of apartments.\n",
      "\n",
      "\n",
      "== Student organizations ==\n",
      "Eastern offers more than 80 student organizations in which students can participate, including athletic, political, cultural, artistic and communication clubs. The campus newscast is ETV. The Student Government Association is the liaison between the student body and university administration and each residence hall has a student council that plans events and trips for hall residents.\n",
      "\n",
      "\n",
      "== Athletics ==\n",
      "\n",
      "Eastern's sports teams are known as the \"Warriors\" and are represented by a logo depicting a shield superior to two crossed swords. The university is a member of the NCAA Division III, the Little East Conference and the Eastern College Athletic Conference. Men's varsity sports include baseball, basketball, cross country, lacrosse, soccer, and indoor and outdoor track and field. Women's varsity sports include basketball, cross country, field hockey, lacrosse, soccer, softball, swimming, indoor and outdoor track and field, and volleyball.Intramural sports include men's and women's tennis league, co-ed indoor and outdoor soccer, co-ed dodgeball, men's and women's flag football, men's and women's volleyball, co-ed softball, ultimate frisbee league, men's and women's basketball league, co-ed floor hockey, wiffle ball tournament, golf. Club sports include competitive cheerleading, fencing club, football club, ice hockey club and rugby club.The men's baseball team won the NCAA Division III national championship four times (1982, '90, '98, '02). The women's softball team won national championships five times (1981 (AIAW Div. III), '82, '85, '86, and '90 − NCAA).\n",
      "\n",
      "\n",
      "== Campus ==\n",
      "Eastern's campus, which is spread over 182 acres (0.74 km2), is divided into three areas: South Campus, North Campus, and the University Sports Complex. South Campus is the historic part of the university and includes buildings such as Burr Hall, the school's first dormitory, which dates back to 1921. North Campus, the more modern part of the university, is home to the library, the fine arts instructional center, and the student center.\n",
      "\n",
      "\n",
      "== Notable alumni ==\n",
      "Chimamanda Ngozi Adichie - Nigerian writer\n",
      "Pat Boyd – Connecticut State Representative\n",
      "Christopher D. Coutu - Former Connecticut State Representative\n",
      "William A. Cugno - Adjutant General of the Connecticut National Guard\n",
      "Edward Gaffney - Michigan State Representative\n",
      "David W. Gay - Adjutant General of the Connecticut National Guard\n",
      "Camille Kostek - model who was on the cover of Sports Illustrated Swimsuit Issue\n",
      "Victoria Leigh Soto - Sandy Hook Elementary School teacher killed in the massacre\n",
      "Susan Wilson - Author\n",
      "\n",
      "\n",
      "== See also ==\n",
      "Connecticut State University System\n",
      "WECS\n",
      "\n",
      "\n",
      "== References ==\n",
      "\n",
      "\n",
      "== External links ==\n",
      "Official website\n"
     ]
    }
   ],
   "source": [
    "if 'Eastern' in blob:\n",
    "    print(blob)\n"
   ]
  },
  {
   "cell_type": "code",
   "execution_count": 98,
   "metadata": {},
   "outputs": [
    {
     "ename": "NameError",
     "evalue": "name 're' is not defined",
     "output_type": "error",
     "traceback": [
      "\u001b[0;31m---------------------------------------------------------------------------\u001b[0m",
      "\u001b[0;31mNameError\u001b[0m                                 Traceback (most recent call last)",
      "\u001b[0;32m/var/folders/4d/q5zngvpn4yd8kq0w166v0b8c0000gn/T/ipykernel_28268/1366455862.py\u001b[0m in \u001b[0;36m<module>\u001b[0;34m\u001b[0m\n\u001b[0;32m----> 1\u001b[0;31m \u001b[0mre\u001b[0m\u001b[0;34m.\u001b[0m\u001b[0mfindall\u001b[0m\u001b[0;34m(\u001b[0m\u001b[0;34mr\"([^.]*?Eastern[^.]*\\.)\"\u001b[0m\u001b[0;34m,\u001b[0m\u001b[0mtxt\u001b[0m\u001b[0;34m)\u001b[0m\u001b[0;34m\u001b[0m\u001b[0;34m\u001b[0m\u001b[0m\n\u001b[0m",
      "\u001b[0;31mNameError\u001b[0m: name 're' is not defined"
     ]
    }
   ],
   "source": [
    "re.findall(r\"([^.]*?Eastern[^.]*\\.)\",txt)"
   ]
  },
  {
   "cell_type": "code",
   "execution_count": 94,
   "metadata": {},
   "outputs": [
    {
     "data": {
      "text/plain": [
       "[Sentence(\"Eastern Connecticut State University (Eastern, Eastern Connecticut, Eastern Connecticut State, or ECSU) is a public liberal arts university in Willimantic, Connecticut.\"),\n",
       " Sentence(\"Founded in 1889, it is the second-oldest campus in the Connecticut State University System and third-oldest public university in the state.\"),\n",
       " Sentence(\"Eastern is located on Windham Street in Willimantic, Connecticut, on 182 acres (0.74 km2) 30 minutes from Hartford, lying midway between New York City and Boston.\"),\n",
       " Sentence(\"Although the majority of courses are held on the main campus, select classes take place at Manchester Community College, Capital Community College, and a satellite center in Groton.\"),\n",
       " Sentence(\"Eastern Connecticut State University is a member of the Connecticut State Colleges & Universities.\"),\n",
       " Sentence(\"== History ==\n",
       " The Connecticut General Assembly established the Willimantic State Normal School in 1889.\"),\n",
       " Sentence(\"As a normal school, the institution trained schoolteachers.\"),\n",
       " Sentence(\"The first class was of thirteen female students, who attended classes on the third floor of the Willimantic Savings Institute.\"),\n",
       " Sentence(\"The first male student entered in 1893.In 1890, the Town of Windham deeded 6 acres (24,000 m2) to the State of Connecticut for construction of a new campus for the school.\"),\n",
       " Sentence(\"The larger campus was completed in 1895.\"),\n",
       " Sentence(\"The first dormitory, Burr Hall, opened in September 1921.\"),\n",
       " Sentence(\"The institution was renamed Willimantic State Teachers College in 1937, after it began granting bachelor's degrees.\"),\n",
       " Sentence(\"The original Normal School building was destroyed in a fire and replaced by Shafer Hall, which was dedicated in 1946.The State College created its first graduate program (in education) in 1953.\"),\n",
       " Sentence(\"After expanding its programs and campus, it became Eastern Connecticut State College in 1967, and Eastern Connecticut State University in 1983.\"),\n",
       " Sentence(\"== Academics ==\n",
       " \n",
       " Academically, the university is organized into three schools, the School of Arts and Sciences, the School of Education and Professional Studies, and the School of Continuing Education.\"),\n",
       " Sentence(\"Graduate study programs offered through the School of Education and Professional Studies and include Education, Teacher Certification, and Organizational Management.\"),\n",
       " Sentence(\"== Institute for Sustainable Energy ==\n",
       " The Institute for Sustainable Energy was opened in 2001 and focuses on sustainable energy education, serving as a source for sustainable energy information, assistance in sustainable energy policy making, and assistance in implementing sustainable energy solutions.\"),\n",
       " Sentence(\"The institute is located at 182 High Street.\"),\n",
       " Sentence(\"The current director is William Leahy.In 2012 Eastern had a stationary phosphoric acid fuel cell, known as the PureCell System Model 400, installed on the west side of its Science Building.\"),\n",
       " Sentence(\"Eastern will use 100 percent of the energy produced by the fuel cell system to provide a majority of the power required for the Science Building, while maximizing the use of the heat output available.\"),\n",
       " Sentence(\"Under a 10-year Energy Services Agreement (ESA) with ClearEdge Power, the installation was made possible by a federal American Recovery and Reinvestment Act (ARRA) grant through CEFIA.\"),\n",
       " Sentence(\"== Housing ==\n",
       " 87 percent of first-year students, and 60 percent of all full-time undergraduates live in college housing.\"),\n",
       " Sentence(\"The campus is separated into first-year halls and upperclassman halls.\"),\n",
       " Sentence(\"All students with sophomore status and higher are eligible to live in upperclassman halls.\"),\n",
       " Sentence(\"There are six first-year halls, five upperclassman halls and two sets of apartments.\"),\n",
       " Sentence(\"== Student organizations ==\n",
       " Eastern offers more than 80 student organizations in which students can participate, including athletic, political, cultural, artistic and communication clubs.\"),\n",
       " Sentence(\"The campus newscast is ETV.\"),\n",
       " Sentence(\"The Student Government Association is the liaison between the student body and university administration and each residence hall has a student council that plans events and trips for hall residents.\"),\n",
       " Sentence(\"== Athletics ==\n",
       " \n",
       " Eastern's sports teams are known as the \"Warriors\" and are represented by a logo depicting a shield superior to two crossed swords.\"),\n",
       " Sentence(\"The university is a member of the NCAA Division III, the Little East Conference and the Eastern College Athletic Conference.\"),\n",
       " Sentence(\"Men's varsity sports include baseball, basketball, cross country, lacrosse, soccer, and indoor and outdoor track and field.\"),\n",
       " Sentence(\"Women's varsity sports include basketball, cross country, field hockey, lacrosse, soccer, softball, swimming, indoor and outdoor track and field, and volleyball.Intramural sports include men's and women's tennis league, co-ed indoor and outdoor soccer, co-ed dodgeball, men's and women's flag football, men's and women's volleyball, co-ed softball, ultimate frisbee league, men's and women's basketball league, co-ed floor hockey, wiffle ball tournament, golf.\"),\n",
       " Sentence(\"Club sports include competitive cheerleading, fencing club, football club, ice hockey club and rugby club.The men's baseball team won the NCAA Division III national championship four times (1982, '90, '98, '02).\"),\n",
       " Sentence(\"The women's softball team won national championships five times (1981 (AIAW Div.\"),\n",
       " Sentence(\"III), '82, '85, '86, and '90 − NCAA).\"),\n",
       " Sentence(\"== Campus ==\n",
       " Eastern's campus, which is spread over 182 acres (0.74 km2), is divided into three areas: South Campus, North Campus, and the University Sports Complex.\"),\n",
       " Sentence(\"South Campus is the historic part of the university and includes buildings such as Burr Hall, the school's first dormitory, which dates back to 1921.\"),\n",
       " Sentence(\"North Campus, the more modern part of the university, is home to the library, the fine arts instructional center, and the student center.\"),\n",
       " Sentence(\"== Notable alumni ==\n",
       " Chimamanda Ngozi Adichie - Nigerian writer\n",
       " Pat Boyd – Connecticut State Representative\n",
       " Christopher D. Coutu - Former Connecticut State Representative\n",
       " William A. Cugno - Adjutant General of the Connecticut National Guard\n",
       " Edward Gaffney - Michigan State Representative\n",
       " David W. Gay - Adjutant General of the Connecticut National Guard\n",
       " Camille Kostek - model who was on the cover of Sports Illustrated Swimsuit Issue\n",
       " Victoria Leigh Soto - Sandy Hook Elementary School teacher killed in the massacre\n",
       " Susan Wilson - Author\n",
       " \n",
       " \n",
       " == See also ==\n",
       " Connecticut State University System\n",
       " WECS\n",
       " \n",
       " \n",
       " == References ==\n",
       " \n",
       " \n",
       " == External links ==\n",
       " Official website\")]"
      ]
     },
     "execution_count": 94,
     "metadata": {},
     "output_type": "execute_result"
    }
   ],
   "source": [
    "blob = TextBlob(text)\n",
    "blob.sentences"
   ]
  },
  {
   "cell_type": "code",
   "execution_count": 96,
   "metadata": {},
   "outputs": [
    {
     "data": {
      "text/plain": [
       "[Sentence(\"Eastern Connecticut State University (Eastern, Eastern Connecticut, Eastern Connecticut State, or ECSU) is a public liberal arts university in Willimantic, Connecticut.\"),\n",
       " Sentence(\"Founded in 1889, it is the second-oldest campus in the Connecticut State University System and third-oldest public university in the state.\"),\n",
       " Sentence(\"Eastern is located on Windham Street in Willimantic, Connecticut, on 182 acres (0.74 km2) 30 minutes from Hartford, lying midway between New York City and Boston.\"),\n",
       " Sentence(\"Although the majority of courses are held on the main campus, select classes take place at Manchester Community College, Capital Community College, and a satellite center in Groton.\"),\n",
       " Sentence(\"Eastern Connecticut State University is a member of the Connecticut State Colleges & Universities.\"),\n",
       " Sentence(\"== History ==\n",
       " The Connecticut General Assembly established the Willimantic State Normal School in 1889.\"),\n",
       " Sentence(\"As a normal school, the institution trained schoolteachers.\"),\n",
       " Sentence(\"The first class was of thirteen female students, who attended classes on the third floor of the Willimantic Savings Institute.\"),\n",
       " Sentence(\"The first male student entered in 1893.In 1890, the Town of Windham deeded 6 acres (24,000 m2) to the State of Connecticut for construction of a new campus for the school.\"),\n",
       " Sentence(\"The larger campus was completed in 1895.\"),\n",
       " Sentence(\"The first dormitory, Burr Hall, opened in September 1921.\"),\n",
       " Sentence(\"The institution was renamed Willimantic State Teachers College in 1937, after it began granting bachelor's degrees.\"),\n",
       " Sentence(\"The original Normal School building was destroyed in a fire and replaced by Shafer Hall, which was dedicated in 1946.The State College created its first graduate program (in education) in 1953.\"),\n",
       " Sentence(\"After expanding its programs and campus, it became Eastern Connecticut State College in 1967, and Eastern Connecticut State University in 1983.\"),\n",
       " Sentence(\"== Academics ==\n",
       " \n",
       " Academically, the university is organized into three schools, the School of Arts and Sciences, the School of Education and Professional Studies, and the School of Continuing Education.\"),\n",
       " Sentence(\"Graduate study programs offered through the School of Education and Professional Studies and include Education, Teacher Certification, and Organizational Management.\"),\n",
       " Sentence(\"== Institute for Sustainable Energy ==\n",
       " The Institute for Sustainable Energy was opened in 2001 and focuses on sustainable energy education, serving as a source for sustainable energy information, assistance in sustainable energy policy making, and assistance in implementing sustainable energy solutions.\"),\n",
       " Sentence(\"The institute is located at 182 High Street.\"),\n",
       " Sentence(\"The current director is William Leahy.In 2012 Eastern had a stationary phosphoric acid fuel cell, known as the PureCell System Model 400, installed on the west side of its Science Building.\"),\n",
       " Sentence(\"Eastern will use 100 percent of the energy produced by the fuel cell system to provide a majority of the power required for the Science Building, while maximizing the use of the heat output available.\"),\n",
       " Sentence(\"Under a 10-year Energy Services Agreement (ESA) with ClearEdge Power, the installation was made possible by a federal American Recovery and Reinvestment Act (ARRA) grant through CEFIA.\"),\n",
       " Sentence(\"== Housing ==\n",
       " 87 percent of first-year students, and 60 percent of all full-time undergraduates live in college housing.\"),\n",
       " Sentence(\"The campus is separated into first-year halls and upperclassman halls.\"),\n",
       " Sentence(\"All students with sophomore status and higher are eligible to live in upperclassman halls.\"),\n",
       " Sentence(\"There are six first-year halls, five upperclassman halls and two sets of apartments.\"),\n",
       " Sentence(\"== Student organizations ==\n",
       " Eastern offers more than 80 student organizations in which students can participate, including athletic, political, cultural, artistic and communication clubs.\"),\n",
       " Sentence(\"The campus newscast is ETV.\"),\n",
       " Sentence(\"The Student Government Association is the liaison between the student body and university administration and each residence hall has a student council that plans events and trips for hall residents.\"),\n",
       " Sentence(\"== Athletics ==\n",
       " \n",
       " Eastern's sports teams are known as the \"Warriors\" and are represented by a logo depicting a shield superior to two crossed swords.\"),\n",
       " Sentence(\"The university is a member of the NCAA Division III, the Little East Conference and the Eastern College Athletic Conference.\"),\n",
       " Sentence(\"Men's varsity sports include baseball, basketball, cross country, lacrosse, soccer, and indoor and outdoor track and field.\"),\n",
       " Sentence(\"Women's varsity sports include basketball, cross country, field hockey, lacrosse, soccer, softball, swimming, indoor and outdoor track and field, and volleyball.Intramural sports include men's and women's tennis league, co-ed indoor and outdoor soccer, co-ed dodgeball, men's and women's flag football, men's and women's volleyball, co-ed softball, ultimate frisbee league, men's and women's basketball league, co-ed floor hockey, wiffle ball tournament, golf.\"),\n",
       " Sentence(\"Club sports include competitive cheerleading, fencing club, football club, ice hockey club and rugby club.The men's baseball team won the NCAA Division III national championship four times (1982, '90, '98, '02).\"),\n",
       " Sentence(\"The women's softball team won national championships five times (1981 (AIAW Div.\"),\n",
       " Sentence(\"III), '82, '85, '86, and '90 − NCAA).\"),\n",
       " Sentence(\"== Campus ==\n",
       " Eastern's campus, which is spread over 182 acres (0.74 km2), is divided into three areas: South Campus, North Campus, and the University Sports Complex.\"),\n",
       " Sentence(\"South Campus is the historic part of the university and includes buildings such as Burr Hall, the school's first dormitory, which dates back to 1921.\"),\n",
       " Sentence(\"North Campus, the more modern part of the university, is home to the library, the fine arts instructional center, and the student center.\"),\n",
       " Sentence(\"== Notable alumni ==\n",
       " Chimamanda Ngozi Adichie - Nigerian writer\n",
       " Pat Boyd – Connecticut State Representative\n",
       " Christopher D. Coutu - Former Connecticut State Representative\n",
       " William A. Cugno - Adjutant General of the Connecticut National Guard\n",
       " Edward Gaffney - Michigan State Representative\n",
       " David W. Gay - Adjutant General of the Connecticut National Guard\n",
       " Camille Kostek - model who was on the cover of Sports Illustrated Swimsuit Issue\n",
       " Victoria Leigh Soto - Sandy Hook Elementary School teacher killed in the massacre\n",
       " Susan Wilson - Author\n",
       " \n",
       " \n",
       " == See also ==\n",
       " Connecticut State University System\n",
       " WECS\n",
       " \n",
       " \n",
       " == References ==\n",
       " \n",
       " \n",
       " == External links ==\n",
       " Official website\")]"
      ]
     },
     "execution_count": 96,
     "metadata": {},
     "output_type": "execute_result"
    }
   ],
   "source": [
    "blob.sentences[:]"
   ]
  },
  {
   "cell_type": "markdown",
   "metadata": {
    "deletable": false,
    "editable": false
   },
   "source": [
    "(b) A programmer may want to repeat this kind of analysis for multiple words or phrases. This is where a *function* can be very useful.\n",
    "Write a function that has the following format:\n",
    "\n",
    "```python\n",
    "def printSentences(blob, search) :\n",
    "    # prints out all sentences in the 'blob' that contain the 'search' term.\n",
    "```\n",
    "\n",
    "Then use this function to print out all sentences that contain 'Willimantic'.\n"
   ]
  },
  {
   "cell_type": "code",
   "execution_count": 53,
   "metadata": {},
   "outputs": [],
   "source": [
    "def printSentences(blob, search):\n",
    "    if textblob.sentnce == 'willimantic':\n",
    "       \n",
    "    \n"
   ]
  },
  {
   "cell_type": "markdown",
   "metadata": {
    "deletable": false,
    "editable": false
   },
   "source": [
    "### Question 3 <span style = 'font-size: 80%'>[10 points]</span>\n",
    "Recall that the word counts are stored in the *blob.word_counts* dictionary. \n",
    "\n",
    "(a) How many times does the word 'eastern' appear in the text? "
   ]
  },
  {
   "cell_type": "code",
   "execution_count": 23,
   "metadata": {},
   "outputs": [
    {
     "data": {
      "text/plain": [
       "14"
      ]
     },
     "execution_count": 23,
     "metadata": {},
     "output_type": "execute_result"
    }
   ],
   "source": [
    "blob.word_counts['eastern']"
   ]
  },
  {
   "cell_type": "markdown",
   "metadata": {},
   "source": [
    "(b) How many times does the word 'student' appear? For this question, display the answer in the following format: \n",
    "\n",
    "```\n",
    "The word 'student' appears 7 times\n",
    "```"
   ]
  },
  {
   "cell_type": "code",
   "execution_count": 54,
   "metadata": {},
   "outputs": [
    {
     "name": "stdout",
     "output_type": "stream",
     "text": [
      "The word \"student\" appears 7  times\n"
     ]
    }
   ],
   "source": [
    "print('The word \"student\" appears', blob.word_counts['student'], ' times')"
   ]
  },
  {
   "cell_type": "markdown",
   "metadata": {
    "deletable": false,
    "editable": false
   },
   "source": [
    "### Question 4 <span style = 'font-size: 80%'>[10 points]</span>\n",
    "\n",
    "Output all of the noun phrases that contain the word 'university'."
   ]
  },
  {
   "cell_type": "code",
   "execution_count": 47,
   "metadata": {},
   "outputs": [
    {
     "name": "stderr",
     "output_type": "stream",
     "text": [
      "[nltk_data] Downloading package brown to\n",
      "[nltk_data]     /Users/juanvillegas/nltk_data...\n",
      "[nltk_data]   Package brown is already up-to-date!\n"
     ]
    },
    {
     "data": {
      "text/plain": [
       "True"
      ]
     },
     "execution_count": 47,
     "metadata": {},
     "output_type": "execute_result"
    }
   ],
   "source": [
    "nltk.download('brown')"
   ]
  },
  {
   "cell_type": "code",
   "execution_count": 102,
   "metadata": {},
   "outputs": [
    {
     "data": {
      "text/plain": [
       "WordList([])"
      ]
     },
     "execution_count": 102,
     "metadata": {},
     "output_type": "execute_result"
    }
   ],
   "source": [
    "bob = TextBlob('university')\n",
    "bob.noun_phrases"
   ]
  },
  {
   "cell_type": "markdown",
   "metadata": {},
   "source": [
    "### Question 5 <span style = 'font-size: 80%'>[10 points]</span>\n",
    "The code below uses list comprehension to create a list of word-frequency pairs for each word.  "
   ]
  },
  {
   "cell_type": "code",
   "execution_count": 55,
   "metadata": {
    "deletable": false,
    "editable": false
   },
   "outputs": [
    {
     "data": {
      "text/plain": [
       "[('eastern', 14),\n",
       " ('connecticut', 17),\n",
       " ('state', 16),\n",
       " ('university', 13),\n",
       " ('or', 1)]"
      ]
     },
     "execution_count": 55,
     "metadata": {},
     "output_type": "execute_result"
    }
   ],
   "source": [
    "from operator import itemgetter\n",
    "wc = [(word,count) for word,count in blob.word_counts.items()]\n",
    "wc[:5]"
   ]
  },
  {
   "cell_type": "markdown",
   "metadata": {
    "deletable": false,
    "editable": false
   },
   "source": [
    "(a) Sort this list from the most frequent word to the least frequent word, and display the first 5 words in sorted order. (You can display the first 5 tuples, as above) "
   ]
  },
  {
   "cell_type": "code",
   "execution_count": 56,
   "metadata": {},
   "outputs": [
    {
     "data": {
      "text/plain": [
       "[('connecticut', 17),\n",
       " ('eastern', 14),\n",
       " ('or', 1),\n",
       " ('state', 16),\n",
       " ('university', 13)]"
      ]
     },
     "execution_count": 56,
     "metadata": {},
     "output_type": "execute_result"
    }
   ],
   "source": [
    "sorted(wc[:5])"
   ]
  },
  {
   "cell_type": "code",
   "execution_count": 59,
   "metadata": {},
   "outputs": [
    {
     "data": {
      "text/plain": [
       "[('the', 62), ('and', 41), ('in', 24), ('of', 24), ('connecticut', 17)]"
      ]
     },
     "execution_count": 59,
     "metadata": {},
     "output_type": "execute_result"
    }
   ],
   "source": [
    "words = sorted(wc, key = itemgetter(1), reverse=True)\n",
    "words[:5]"
   ]
  },
  {
   "cell_type": "markdown",
   "metadata": {
    "deletable": false,
    "editable": false
   },
   "source": [
    "(b) Your results above should show that 'the' is the most common word. Let's now remove common words like 'the' and 'and'. The code below creates a set of stopwords that are stored in *sw*. Create a new list of word-frequency pairs but with the stopwords removed. Display the word counts, either as a list of tuples or as a data frame."
   ]
  },
  {
   "cell_type": "code",
   "execution_count": 40,
   "metadata": {},
   "outputs": [
    {
     "name": "stderr",
     "output_type": "stream",
     "text": [
      "[nltk_data] Downloading package stopwords to\n",
      "[nltk_data]     /Users/juanvillegas/nltk_data...\n",
      "[nltk_data]   Unzipping corpora/stopwords.zip.\n"
     ]
    },
    {
     "data": {
      "text/plain": [
       "True"
      ]
     },
     "execution_count": 40,
     "metadata": {},
     "output_type": "execute_result"
    }
   ],
   "source": [
    "import nltk\n",
    "nltk.download('stopwords')"
   ]
  },
  {
   "cell_type": "code",
   "execution_count": 41,
   "metadata": {
    "deletable": false,
    "editable": false
   },
   "outputs": [
    {
     "data": {
      "text/plain": [
       "{'a',\n",
       " 'about',\n",
       " 'above',\n",
       " 'after',\n",
       " 'again',\n",
       " 'against',\n",
       " 'ain',\n",
       " 'all',\n",
       " 'am',\n",
       " 'an',\n",
       " 'and',\n",
       " 'any',\n",
       " 'are',\n",
       " 'aren',\n",
       " \"aren't\",\n",
       " 'as',\n",
       " 'at',\n",
       " 'be',\n",
       " 'because',\n",
       " 'been',\n",
       " 'before',\n",
       " 'being',\n",
       " 'below',\n",
       " 'between',\n",
       " 'both',\n",
       " 'but',\n",
       " 'by',\n",
       " 'can',\n",
       " 'couldn',\n",
       " \"couldn't\",\n",
       " 'd',\n",
       " 'did',\n",
       " 'didn',\n",
       " \"didn't\",\n",
       " 'do',\n",
       " 'does',\n",
       " 'doesn',\n",
       " \"doesn't\",\n",
       " 'doing',\n",
       " 'don',\n",
       " \"don't\",\n",
       " 'down',\n",
       " 'during',\n",
       " 'each',\n",
       " 'few',\n",
       " 'for',\n",
       " 'from',\n",
       " 'further',\n",
       " 'had',\n",
       " 'hadn',\n",
       " \"hadn't\",\n",
       " 'has',\n",
       " 'hasn',\n",
       " \"hasn't\",\n",
       " 'have',\n",
       " 'haven',\n",
       " \"haven't\",\n",
       " 'having',\n",
       " 'he',\n",
       " 'her',\n",
       " 'here',\n",
       " 'hers',\n",
       " 'herself',\n",
       " 'him',\n",
       " 'himself',\n",
       " 'his',\n",
       " 'how',\n",
       " 'i',\n",
       " 'if',\n",
       " 'in',\n",
       " 'into',\n",
       " 'is',\n",
       " 'isn',\n",
       " \"isn't\",\n",
       " 'it',\n",
       " \"it's\",\n",
       " 'its',\n",
       " 'itself',\n",
       " 'just',\n",
       " 'll',\n",
       " 'm',\n",
       " 'ma',\n",
       " 'me',\n",
       " 'mightn',\n",
       " \"mightn't\",\n",
       " 'more',\n",
       " 'most',\n",
       " 'mustn',\n",
       " \"mustn't\",\n",
       " 'my',\n",
       " 'myself',\n",
       " 'needn',\n",
       " \"needn't\",\n",
       " 'no',\n",
       " 'nor',\n",
       " 'not',\n",
       " 'now',\n",
       " 'o',\n",
       " 'of',\n",
       " 'off',\n",
       " 'on',\n",
       " 'once',\n",
       " 'only',\n",
       " 'or',\n",
       " 'other',\n",
       " 'our',\n",
       " 'ours',\n",
       " 'ourselves',\n",
       " 'out',\n",
       " 'over',\n",
       " 'own',\n",
       " 're',\n",
       " 's',\n",
       " 'same',\n",
       " 'shan',\n",
       " \"shan't\",\n",
       " 'she',\n",
       " \"she's\",\n",
       " 'should',\n",
       " \"should've\",\n",
       " 'shouldn',\n",
       " \"shouldn't\",\n",
       " 'so',\n",
       " 'some',\n",
       " 'such',\n",
       " 't',\n",
       " 'than',\n",
       " 'that',\n",
       " \"that'll\",\n",
       " 'the',\n",
       " 'their',\n",
       " 'theirs',\n",
       " 'them',\n",
       " 'themselves',\n",
       " 'then',\n",
       " 'there',\n",
       " 'these',\n",
       " 'they',\n",
       " 'this',\n",
       " 'those',\n",
       " 'through',\n",
       " 'to',\n",
       " 'too',\n",
       " 'under',\n",
       " 'until',\n",
       " 'up',\n",
       " 've',\n",
       " 'very',\n",
       " 'was',\n",
       " 'wasn',\n",
       " \"wasn't\",\n",
       " 'we',\n",
       " 'were',\n",
       " 'weren',\n",
       " \"weren't\",\n",
       " 'what',\n",
       " 'when',\n",
       " 'where',\n",
       " 'which',\n",
       " 'while',\n",
       " 'who',\n",
       " 'whom',\n",
       " 'why',\n",
       " 'will',\n",
       " 'with',\n",
       " 'won',\n",
       " \"won't\",\n",
       " 'wouldn',\n",
       " \"wouldn't\",\n",
       " 'y',\n",
       " 'you',\n",
       " \"you'd\",\n",
       " \"you'll\",\n",
       " \"you're\",\n",
       " \"you've\",\n",
       " 'your',\n",
       " 'yours',\n",
       " 'yourself',\n",
       " 'yourselves'}"
      ]
     },
     "execution_count": 41,
     "metadata": {},
     "output_type": "execute_result"
    }
   ],
   "source": [
    "from nltk.corpus import stopwords\n",
    "sw = set(stopwords.words('english'))\n",
    "sw"
   ]
  },
  {
   "cell_type": "code",
   "execution_count": 45,
   "metadata": {},
   "outputs": [
    {
     "data": {
      "text/plain": [
       "[('connecticut', 17),\n",
       " ('eastern', 14),\n",
       " ('ecsu', 1),\n",
       " ('state', 16),\n",
       " ('university', 13)]"
      ]
     },
     "execution_count": 45,
     "metadata": {},
     "output_type": "execute_result"
    }
   ],
   "source": [
    "words = [ (w, f) for w,f in blob.word_counts.items() if w not in sw]\n",
    "sorted(words[:5])"
   ]
  },
  {
   "cell_type": "markdown",
   "metadata": {
    "deletable": false,
    "editable": false
   },
   "source": [
    "### Question 6 <span style = 'font-size: 80%'>[10 points]</span>\n",
    "\n",
    "Generate a word cloud directly from the text, but convert all text to lowercase"
   ]
  },
  {
   "cell_type": "code",
   "execution_count": 111,
   "metadata": {},
   "outputs": [
    {
     "name": "stdout",
     "output_type": "stream",
     "text": [
      "{'more', 're', 'whom', \"it's\", 'yourselves', 'its', 'down', 'themselves', 'then', 'their', 'doesn', 'most', 'had', \"she's\", 'through', 'his', 'above', 'don', 'very', 'him', \"should've\", 'on', 'again', 'off', 'she', 'they', 'he', 'than', 'are', 'were', \"wouldn't\", 'of', 'under', 'if', \"haven't\", 'these', 'for', 'them', 'ma', 'between', 'was', 'd', 'herself', 'aren', 'some', 'me', 'why', \"hadn't\", 'hasn', 'itself', 'an', 'all', 'you', \"didn't\", 'other', \"you're\", \"shouldn't\", 've', 'yours', 'but', \"mustn't\", 'did', 'while', 'will', 'couldn', 'mightn', 'our', 'i', 'hers', 'by', 'a', \"couldn't\", 'about', 'only', 'now', 'further', 'how', 'her', \"isn't\", 'has', 'out', 'o', 'my', 'isn', \"that'll\", 'with', 'been', 'wasn', 'as', 'it', \"weren't\", 'hadn', 'in', 's', 'mustn', 'nor', 'here', 'be', 'to', \"don't\", 'myself', 'those', 'such', 'll', 't', 'each', 'few', 'weren', 'not', \"hasn't\", 'until', \"aren't\", 'ourselves', 'your', \"you've\", 'from', 'into', 'yourself', 'after', 'once', 'does', 'this', 'shan', \"shan't\", 'am', \"needn't\", 'being', 'there', 'no', 'where', 'too', \"doesn't\", 'just', 'before', \"you'd\", 'and', 'during', 'doing', 'm', \"mightn't\", 'won', 'who', 'same', 'having', 'have', 'what', 'can', 'below', 'theirs', 'we', 'both', 'should', 'ours', \"you'll\", 'y', 'any', 'haven', 'which', 'that', 'ain', 'the', 'needn', 'over', 'own', 'didn', 'himself', 'up', 'do', 'against', 'shouldn', \"wasn't\", 'or', 'is', 'because', \"won't\", 'wouldn', 'so', 'at', 'when'}\n",
      "['Eastern', 'Connecticut', 'State', 'University', '(', 'Eastern', ',', 'Eastern', 'Connecticut', ',', 'Eastern', 'Connecticut', 'State', ',', 'or', 'ECSU', ')', 'is', 'a', 'public', 'liberal', 'arts', 'university', 'in', 'Willimantic', ',', 'Connecticut', '.', 'Founded', 'in', '1889', ',', 'it', 'is', 'the', 'second-oldest', 'campus', 'in', 'the', 'Connecticut', 'State', 'University', 'System', 'and', 'third-oldest', 'public', 'university', 'in', 'the', 'state', '.', 'Eastern', 'is', 'located', 'on', 'Windham', 'Street', 'in', 'Willimantic', ',', 'Connecticut', ',', 'on', '182', 'acres', '(', '0.74', 'km2', ')', '30', 'minutes', 'from', 'Hartford', ',', 'lying', 'midway', 'between', 'New', 'York', 'City', 'and', 'Boston', '.', 'Although', 'the', 'majority', 'of', 'courses', 'are', 'held', 'on', 'the', 'main', 'campus', ',', 'select', 'classes', 'take', 'place', 'at', 'Manchester', 'Community', 'College', ',', 'Capital', 'Community', 'College', ',', 'and', 'a', 'satellite', 'center', 'in', 'Groton', '.', 'Eastern', 'Connecticut', 'State', 'University', 'is', 'a', 'member', 'of', 'the', 'Connecticut', 'State', 'Colleges', '&', 'Universities', '.', '==', 'History', '==', 'The', 'Connecticut', 'General', 'Assembly', 'established', 'the', 'Willimantic', 'State', 'Normal', 'School', 'in', '1889', '.', 'As', 'a', 'normal', 'school', ',', 'the', 'institution', 'trained', 'schoolteachers', '.', 'The', 'first', 'class', 'was', 'of', 'thirteen', 'female', 'students', ',', 'who', 'attended', 'classes', 'on', 'the', 'third', 'floor', 'of', 'the', 'Willimantic', 'Savings', 'Institute', '.', 'The', 'first', 'male', 'student', 'entered', 'in', '1893.In', '1890', ',', 'the', 'Town', 'of', 'Windham', 'deeded', '6', 'acres', '(', '24,000', 'm2', ')', 'to', 'the', 'State', 'of', 'Connecticut', 'for', 'construction', 'of', 'a', 'new', 'campus', 'for', 'the', 'school', '.', 'The', 'larger', 'campus', 'was', 'completed', 'in', '1895', '.', 'The', 'first', 'dormitory', ',', 'Burr', 'Hall', ',', 'opened', 'in', 'September', '1921', '.', 'The', 'institution', 'was', 'renamed', 'Willimantic', 'State', 'Teachers', 'College', 'in', '1937', ',', 'after', 'it', 'began', 'granting', 'bachelor', \"'s\", 'degrees', '.', 'The', 'original', 'Normal', 'School', 'building', 'was', 'destroyed', 'in', 'a', 'fire', 'and', 'replaced', 'by', 'Shafer', 'Hall', ',', 'which', 'was', 'dedicated', 'in', '1946.The', 'State', 'College', 'created', 'its', 'first', 'graduate', 'program', '(', 'in', 'education', ')', 'in', '1953', '.', 'After', 'expanding', 'its', 'programs', 'and', 'campus', ',', 'it', 'became', 'Eastern', 'Connecticut', 'State', 'College', 'in', '1967', ',', 'and', 'Eastern', 'Connecticut', 'State', 'University', 'in', '1983', '.', '==', 'Academics', '==', 'Academically', ',', 'the', 'university', 'is', 'organized', 'into', 'three', 'schools', ',', 'the', 'School', 'of', 'Arts', 'and', 'Sciences', ',', 'the', 'School', 'of', 'Education', 'and', 'Professional', 'Studies', ',', 'and', 'the', 'School', 'of', 'Continuing', 'Education', '.', 'Graduate', 'study', 'programs', 'offered', 'through', 'the', 'School', 'of', 'Education', 'and', 'Professional', 'Studies', 'and', 'include', 'Education', ',', 'Teacher', 'Certification', ',', 'and', 'Organizational', 'Management', '.', '==', 'Institute', 'for', 'Sustainable', 'Energy', '==', 'The', 'Institute', 'for', 'Sustainable', 'Energy', 'was', 'opened', 'in', '2001', 'and', 'focuses', 'on', 'sustainable', 'energy', 'education', ',', 'serving', 'as', 'a', 'source', 'for', 'sustainable', 'energy', 'information', ',', 'assistance', 'in', 'sustainable', 'energy', 'policy', 'making', ',', 'and', 'assistance', 'in', 'implementing', 'sustainable', 'energy', 'solutions', '.', 'The', 'institute', 'is', 'located', 'at', '182', 'High', 'Street', '.', 'The', 'current', 'director', 'is', 'William', 'Leahy.In', '2012', 'Eastern', 'had', 'a', 'stationary', 'phosphoric', 'acid', 'fuel', 'cell', ',', 'known', 'as', 'the', 'PureCell', 'System', 'Model', '400', ',', 'installed', 'on', 'the', 'west', 'side', 'of', 'its', 'Science', 'Building', '.', 'Eastern', 'will', 'use', '100', 'percent', 'of', 'the', 'energy', 'produced', 'by', 'the', 'fuel', 'cell', 'system', 'to', 'provide', 'a', 'majority', 'of', 'the', 'power', 'required', 'for', 'the', 'Science', 'Building', ',', 'while', 'maximizing', 'the', 'use', 'of', 'the', 'heat', 'output', 'available', '.', 'Under', 'a', '10-year', 'Energy', 'Services', 'Agreement', '(', 'ESA', ')', 'with', 'ClearEdge', 'Power', ',', 'the', 'installation', 'was', 'made', 'possible', 'by', 'a', 'federal', 'American', 'Recovery', 'and', 'Reinvestment', 'Act', '(', 'ARRA', ')', 'grant', 'through', 'CEFIA', '.', '==', 'Housing', '==', '87', 'percent', 'of', 'first-year', 'students', ',', 'and', '60', 'percent', 'of', 'all', 'full-time', 'undergraduates', 'live', 'in', 'college', 'housing', '.', 'The', 'campus', 'is', 'separated', 'into', 'first-year', 'halls', 'and', 'upperclassman', 'halls', '.', 'All', 'students', 'with', 'sophomore', 'status', 'and', 'higher', 'are', 'eligible', 'to', 'live', 'in', 'upperclassman', 'halls', '.', 'There', 'are', 'six', 'first-year', 'halls', ',', 'five', 'upperclassman', 'halls', 'and', 'two', 'sets', 'of', 'apartments', '.', '==', 'Student', 'organizations', '==', 'Eastern', 'offers', 'more', 'than', '80', 'student', 'organizations', 'in', 'which', 'students', 'can', 'participate', ',', 'including', 'athletic', ',', 'political', ',', 'cultural', ',', 'artistic', 'and', 'communication', 'clubs', '.', 'The', 'campus', 'newscast', 'is', 'ETV', '.', 'The', 'Student', 'Government', 'Association', 'is', 'the', 'liaison', 'between', 'the', 'student', 'body', 'and', 'university', 'administration', 'and', 'each', 'residence', 'hall', 'has', 'a', 'student', 'council', 'that', 'plans', 'events', 'and', 'trips', 'for', 'hall', 'residents', '.', '==', 'Athletics', '==', 'Eastern', \"'s\", 'sports', 'teams', 'are', 'known', 'as', 'the', '``', 'Warriors', \"''\", 'and', 'are', 'represented', 'by', 'a', 'logo', 'depicting', 'a', 'shield', 'superior', 'to', 'two', 'crossed', 'swords', '.', 'The', 'university', 'is', 'a', 'member', 'of', 'the', 'NCAA', 'Division', 'III', ',', 'the', 'Little', 'East', 'Conference', 'and', 'the', 'Eastern', 'College', 'Athletic', 'Conference', '.', 'Men', \"'s\", 'varsity', 'sports', 'include', 'baseball', ',', 'basketball', ',', 'cross', 'country', ',', 'lacrosse', ',', 'soccer', ',', 'and', 'indoor', 'and', 'outdoor', 'track', 'and', 'field', '.', 'Women', \"'s\", 'varsity', 'sports', 'include', 'basketball', ',', 'cross', 'country', ',', 'field', 'hockey', ',', 'lacrosse', ',', 'soccer', ',', 'softball', ',', 'swimming', ',', 'indoor', 'and', 'outdoor', 'track', 'and', 'field', ',', 'and', 'volleyball.Intramural', 'sports', 'include', 'men', \"'s\", 'and', 'women', \"'s\", 'tennis', 'league', ',', 'co-ed', 'indoor', 'and', 'outdoor', 'soccer', ',', 'co-ed', 'dodgeball', ',', 'men', \"'s\", 'and', 'women', \"'s\", 'flag', 'football', ',', 'men', \"'s\", 'and', 'women', \"'s\", 'volleyball', ',', 'co-ed', 'softball', ',', 'ultimate', 'frisbee', 'league', ',', 'men', \"'s\", 'and', 'women', \"'s\", 'basketball', 'league', ',', 'co-ed', 'floor', 'hockey', ',', 'wiffle', 'ball', 'tournament', ',', 'golf', '.', 'Club', 'sports', 'include', 'competitive', 'cheerleading', ',', 'fencing', 'club', ',', 'football', 'club', ',', 'ice', 'hockey', 'club', 'and', 'rugby', 'club.The', 'men', \"'s\", 'baseball', 'team', 'won', 'the', 'NCAA', 'Division', 'III', 'national', 'championship', 'four', 'times', '(', '1982', ',', \"'90\", ',', \"'98\", ',', \"'02\", ')', '.', 'The', 'women', \"'s\", 'softball', 'team', 'won', 'national', 'championships', 'five', 'times', '(', '1981', '(', 'AIAW', 'Div', '.', 'III', ')', ',', \"'82\", ',', \"'85\", ',', \"'86\", ',', 'and', \"'90\", '−', 'NCAA', ')', '.', '==', 'Campus', '==', 'Eastern', \"'s\", 'campus', ',', 'which', 'is', 'spread', 'over', '182', 'acres', '(', '0.74', 'km2', ')', ',', 'is', 'divided', 'into', 'three', 'areas', ':', 'South', 'Campus', ',', 'North', 'Campus', ',', 'and', 'the', 'University', 'Sports', 'Complex', '.', 'South', 'Campus', 'is', 'the', 'historic', 'part', 'of', 'the', 'university', 'and', 'includes', 'buildings', 'such', 'as', 'Burr', 'Hall', ',', 'the', 'school', \"'s\", 'first', 'dormitory', ',', 'which', 'dates', 'back', 'to', '1921', '.', 'North', 'Campus', ',', 'the', 'more', 'modern', 'part', 'of', 'the', 'university', ',', 'is', 'home', 'to', 'the', 'library', ',', 'the', 'fine', 'arts', 'instructional', 'center', ',', 'and', 'the', 'student', 'center', '.', '==', 'Notable', 'alumni', '==', 'Chimamanda', 'Ngozi', 'Adichie', '-', 'Nigerian', 'writer', 'Pat', 'Boyd', '–', 'Connecticut', 'State', 'Representative', 'Christopher', 'D.', 'Coutu', '-', 'Former', 'Connecticut', 'State', 'Representative', 'William', 'A.', 'Cugno', '-', 'Adjutant', 'General', 'of', 'the', 'Connecticut', 'National', 'Guard', 'Edward', 'Gaffney', '-', 'Michigan', 'State', 'Representative', 'David', 'W.', 'Gay', '-', 'Adjutant', 'General', 'of', 'the', 'Connecticut', 'National', 'Guard', 'Camille', 'Kostek', '-', 'model', 'who', 'was', 'on', 'the', 'cover', 'of', 'Sports', 'Illustrated', 'Swimsuit', 'Issue', 'Victoria', 'Leigh', 'Soto', '-', 'Sandy', 'Hook', 'Elementary', 'School', 'teacher', 'killed', 'in', 'the', 'massacre', 'Susan', 'Wilson', '-', 'Author', '==', 'See', 'also', '==', 'Connecticut', 'State', 'University', 'System', 'WECS', '==', 'References', '==', '==', 'External', 'links', '==', 'Official', 'website']\n",
      "['eastern', 'connecticut', 'state', 'university', 'eastern', 'eastern', 'connecticut', 'eastern', 'connecticut', 'state', 'or', 'ecsu', 'is', 'a', 'public', 'liberal', 'arts', 'university', 'in', 'willimantic', 'connecticut', 'founded', 'in', 'it', 'is', 'the', 'campus', 'in', 'the', 'connecticut', 'state', 'university', 'system', 'and', 'public', 'university', 'in', 'the', 'state', 'eastern', 'is', 'located', 'on', 'windham', 'street', 'in', 'willimantic', 'connecticut', 'on', 'acres', 'minutes', 'from', 'hartford', 'lying', 'midway', 'between', 'new', 'york', 'city', 'and', 'boston', 'although', 'the', 'majority', 'of', 'courses', 'are', 'held', 'on', 'the', 'main', 'campus', 'select', 'classes', 'take', 'place', 'at', 'manchester', 'community', 'college', 'capital', 'community', 'college', 'and', 'a', 'satellite', 'center', 'in', 'groton', 'eastern', 'connecticut', 'state', 'university', 'is', 'a', 'member', 'of', 'the', 'connecticut', 'state', 'colleges', 'universities', 'history', 'the', 'connecticut', 'general', 'assembly', 'established', 'the', 'willimantic', 'state', 'normal', 'school', 'in', 'as', 'a', 'normal', 'school', 'the', 'institution', 'trained', 'schoolteachers', 'the', 'first', 'class', 'was', 'of', 'thirteen', 'female', 'students', 'who', 'attended', 'classes', 'on', 'the', 'third', 'floor', 'of', 'the', 'willimantic', 'savings', 'institute', 'the', 'first', 'male', 'student', 'entered', 'in', 'the', 'town', 'of', 'windham', 'deeded', 'acres', 'to', 'the', 'state', 'of', 'connecticut', 'for', 'construction', 'of', 'a', 'new', 'campus', 'for', 'the', 'school', 'the', 'larger', 'campus', 'was', 'completed', 'in', 'the', 'first', 'dormitory', 'burr', 'hall', 'opened', 'in', 'september', 'the', 'institution', 'was', 'renamed', 'willimantic', 'state', 'teachers', 'college', 'in', 'after', 'it', 'began', 'granting', 'bachelor', 'degrees', 'the', 'original', 'normal', 'school', 'building', 'was', 'destroyed', 'in', 'a', 'fire', 'and', 'replaced', 'by', 'shafer', 'hall', 'which', 'was', 'dedicated', 'in', 'state', 'college', 'created', 'its', 'first', 'graduate', 'program', 'in', 'education', 'in', 'after', 'expanding', 'its', 'programs', 'and', 'campus', 'it', 'became', 'eastern', 'connecticut', 'state', 'college', 'in', 'and', 'eastern', 'connecticut', 'state', 'university', 'in', 'academics', 'academically', 'the', 'university', 'is', 'organized', 'into', 'three', 'schools', 'the', 'school', 'of', 'arts', 'and', 'sciences', 'the', 'school', 'of', 'education', 'and', 'professional', 'studies', 'and', 'the', 'school', 'of', 'continuing', 'education', 'graduate', 'study', 'programs', 'offered', 'through', 'the', 'school', 'of', 'education', 'and', 'professional', 'studies', 'and', 'include', 'education', 'teacher', 'certification', 'and', 'organizational', 'management', 'institute', 'for', 'sustainable', 'energy', 'the', 'institute', 'for', 'sustainable', 'energy', 'was', 'opened', 'in', 'and', 'focuses', 'on', 'sustainable', 'energy', 'education', 'serving', 'as', 'a', 'source', 'for', 'sustainable', 'energy', 'information', 'assistance', 'in', 'sustainable', 'energy', 'policy', 'making', 'and', 'assistance', 'in', 'implementing', 'sustainable', 'energy', 'solutions', 'the', 'institute', 'is', 'located', 'at', 'high', 'street', 'the', 'current', 'director', 'is', 'william', 'eastern', 'had', 'a', 'stationary', 'phosphoric', 'acid', 'fuel', 'cell', 'known', 'as', 'the', 'purecell', 'system', 'model', 'installed', 'on', 'the', 'west', 'side', 'of', 'its', 'science', 'building', 'eastern', 'will', 'use', 'percent', 'of', 'the', 'energy', 'produced', 'by', 'the', 'fuel', 'cell', 'system', 'to', 'provide', 'a', 'majority', 'of', 'the', 'power', 'required', 'for', 'the', 'science', 'building', 'while', 'maximizing', 'the', 'use', 'of', 'the', 'heat', 'output', 'available', 'under', 'a', 'energy', 'services', 'agreement', 'esa', 'with', 'clearedge', 'power', 'the', 'installation', 'was', 'made', 'possible', 'by', 'a', 'federal', 'american', 'recovery', 'and', 'reinvestment', 'act', 'arra', 'grant', 'through', 'cefia', 'housing', 'percent', 'of', 'students', 'and', 'percent', 'of', 'all', 'undergraduates', 'live', 'in', 'college', 'housing', 'the', 'campus', 'is', 'separated', 'into', 'halls', 'and', 'upperclassman', 'halls', 'all', 'students', 'with', 'sophomore', 'status', 'and', 'higher', 'are', 'eligible', 'to', 'live', 'in', 'upperclassman', 'halls', 'there', 'are', 'six', 'halls', 'five', 'upperclassman', 'halls', 'and', 'two', 'sets', 'of', 'apartments', 'student', 'organizations', 'eastern', 'offers', 'more', 'than', 'student', 'organizations', 'in', 'which', 'students', 'can', 'participate', 'including', 'athletic', 'political', 'cultural', 'artistic', 'and', 'communication', 'clubs', 'the', 'campus', 'newscast', 'is', 'etv', 'the', 'student', 'government', 'association', 'is', 'the', 'liaison', 'between', 'the', 'student', 'body', 'and', 'university', 'administration', 'and', 'each', 'residence', 'hall', 'has', 'a', 'student', 'council', 'that', 'plans', 'events', 'and', 'trips', 'for', 'hall', 'residents', 'athletics', 'eastern', 'sports', 'teams', 'are', 'known', 'as', 'the', 'warriors', 'and', 'are', 'represented', 'by', 'a', 'logo', 'depicting', 'a', 'shield', 'superior', 'to', 'two', 'crossed', 'swords', 'the', 'university', 'is', 'a', 'member', 'of', 'the', 'ncaa', 'division', 'iii', 'the', 'little', 'east', 'conference', 'and', 'the', 'eastern', 'college', 'athletic', 'conference', 'men', 'varsity', 'sports', 'include', 'baseball', 'basketball', 'cross', 'country', 'lacrosse', 'soccer', 'and', 'indoor', 'and', 'outdoor', 'track', 'and', 'field', 'women', 'varsity', 'sports', 'include', 'basketball', 'cross', 'country', 'field', 'hockey', 'lacrosse', 'soccer', 'softball', 'swimming', 'indoor', 'and', 'outdoor', 'track', 'and', 'field', 'and', 'sports', 'include', 'men', 'and', 'women', 'tennis', 'league', 'indoor', 'and', 'outdoor', 'soccer', 'dodgeball', 'men', 'and', 'women', 'flag', 'football', 'men', 'and', 'women', 'volleyball', 'softball', 'ultimate', 'frisbee', 'league', 'men', 'and', 'women', 'basketball', 'league', 'floor', 'hockey', 'wiffle', 'ball', 'tournament', 'golf', 'club', 'sports', 'include', 'competitive', 'cheerleading', 'fencing', 'club', 'football', 'club', 'ice', 'hockey', 'club', 'and', 'rugby', 'men', 'baseball', 'team', 'won', 'the', 'ncaa', 'division', 'iii', 'national', 'championship', 'four', 'times', 'the', 'women', 'softball', 'team', 'won', 'national', 'championships', 'five', 'times', 'aiaw', 'div', 'iii', 'and', 'ncaa', 'campus', 'eastern', 'campus', 'which', 'is', 'spread', 'over', 'acres', 'is', 'divided', 'into', 'three', 'areas', 'south', 'campus', 'north', 'campus', 'and', 'the', 'university', 'sports', 'complex', 'south', 'campus', 'is', 'the', 'historic', 'part', 'of', 'the', 'university', 'and', 'includes', 'buildings', 'such', 'as', 'burr', 'hall', 'the', 'school', 'first', 'dormitory', 'which', 'dates', 'back', 'to', 'north', 'campus', 'the', 'more', 'modern', 'part', 'of', 'the', 'university', 'is', 'home', 'to', 'the', 'library', 'the', 'fine', 'arts', 'instructional', 'center', 'and', 'the', 'student', 'center', 'notable', 'alumni', 'chimamanda', 'ngozi', 'adichie', 'nigerian', 'writer', 'pat', 'boyd', 'connecticut', 'state', 'representative', 'christopher', 'coutu', 'former', 'connecticut', 'state', 'representative', 'william', 'cugno', 'adjutant', 'general', 'of', 'the', 'connecticut', 'national', 'guard', 'edward', 'gaffney', 'michigan', 'state', 'representative', 'david', 'gay', 'adjutant', 'general', 'of', 'the', 'connecticut', 'national', 'guard', 'camille', 'kostek', 'model', 'who', 'was', 'on', 'the', 'cover', 'of', 'sports', 'illustrated', 'swimsuit', 'issue', 'victoria', 'leigh', 'soto', 'sandy', 'hook', 'elementary', 'school', 'teacher', 'killed', 'in', 'the', 'massacre', 'susan', 'wilson', 'author', 'see', 'also', 'connecticut', 'state', 'university', 'system', 'wecs', 'references', 'external', 'links', 'official', 'website']\n",
      "['eastern', 'connecticut', 'state', 'university', 'eastern', 'eastern', 'connecticut', 'eastern', 'connecticut', 'state', 'ecsu', 'public', 'liberal', 'arts', 'university', 'willimantic', 'connecticut', 'founded', 'campus', 'connecticut', 'state', 'university', 'system', 'public', 'university', 'state', 'eastern', 'located', 'windham', 'street', 'willimantic', 'connecticut', 'acres', 'minutes', 'hartford', 'lying', 'midway', 'new', 'york', 'city', 'boston', 'although', 'majority', 'courses', 'held', 'main', 'campus', 'select', 'classes', 'take', 'place', 'manchester', 'community', 'college', 'capital', 'community', 'college', 'satellite', 'center', 'groton', 'eastern', 'connecticut', 'state', 'university', 'member', 'connecticut', 'state', 'colleges', 'universities', 'history', 'connecticut', 'general', 'assembly', 'established', 'willimantic', 'state', 'normal', 'school', 'normal', 'school', 'institution', 'trained', 'schoolteachers', 'first', 'class', 'thirteen', 'female', 'students', 'attended', 'classes', 'third', 'floor', 'willimantic', 'savings', 'institute', 'first', 'male', 'student', 'entered', 'town', 'windham', 'deeded', 'acres', 'state', 'connecticut', 'construction', 'new', 'campus', 'school', 'larger', 'campus', 'completed', 'first', 'dormitory', 'burr', 'hall', 'opened', 'september', 'institution', 'renamed', 'willimantic', 'state', 'teachers', 'college', 'began', 'granting', 'bachelor', 'degrees', 'original', 'normal', 'school', 'building', 'destroyed', 'fire', 'replaced', 'shafer', 'hall', 'dedicated', 'state', 'college', 'created', 'first', 'graduate', 'program', 'education', 'expanding', 'programs', 'campus', 'became', 'eastern', 'connecticut', 'state', 'college', 'eastern', 'connecticut', 'state', 'university', 'academics', 'academically', 'university', 'organized', 'three', 'schools', 'school', 'arts', 'sciences', 'school', 'education', 'professional', 'studies', 'school', 'continuing', 'education', 'graduate', 'study', 'programs', 'offered', 'school', 'education', 'professional', 'studies', 'include', 'education', 'teacher', 'certification', 'organizational', 'management', 'institute', 'sustainable', 'energy', 'institute', 'sustainable', 'energy', 'opened', 'focuses', 'sustainable', 'energy', 'education', 'serving', 'source', 'sustainable', 'energy', 'information', 'assistance', 'sustainable', 'energy', 'policy', 'making', 'assistance', 'implementing', 'sustainable', 'energy', 'solutions', 'institute', 'located', 'high', 'street', 'current', 'director', 'william', 'eastern', 'stationary', 'phosphoric', 'acid', 'fuel', 'cell', 'known', 'purecell', 'system', 'model', 'installed', 'west', 'side', 'science', 'building', 'eastern', 'use', 'percent', 'energy', 'produced', 'fuel', 'cell', 'system', 'provide', 'majority', 'power', 'required', 'science', 'building', 'maximizing', 'use', 'heat', 'output', 'available', 'energy', 'services', 'agreement', 'esa', 'clearedge', 'power', 'installation', 'made', 'possible', 'federal', 'american', 'recovery', 'reinvestment', 'act', 'arra', 'grant', 'cefia', 'housing', 'percent', 'students', 'percent', 'undergraduates', 'live', 'college', 'housing', 'campus', 'separated', 'halls', 'upperclassman', 'halls', 'students', 'sophomore', 'status', 'higher', 'eligible', 'live', 'upperclassman', 'halls', 'six', 'halls', 'five', 'upperclassman', 'halls', 'two', 'sets', 'apartments', 'student', 'organizations', 'eastern', 'offers', 'student', 'organizations', 'students', 'participate', 'including', 'athletic', 'political', 'cultural', 'artistic', 'communication', 'clubs', 'campus', 'newscast', 'etv', 'student', 'government', 'association', 'liaison', 'student', 'body', 'university', 'administration', 'residence', 'hall', 'student', 'council', 'plans', 'events', 'trips', 'hall', 'residents', 'athletics', 'eastern', 'sports', 'teams', 'known', 'warriors', 'represented', 'logo', 'depicting', 'shield', 'superior', 'two', 'crossed', 'swords', 'university', 'member', 'ncaa', 'division', 'iii', 'little', 'east', 'conference', 'eastern', 'college', 'athletic', 'conference', 'men', 'varsity', 'sports', 'include', 'baseball', 'basketball', 'cross', 'country', 'lacrosse', 'soccer', 'indoor', 'outdoor', 'track', 'field', 'women', 'varsity', 'sports', 'include', 'basketball', 'cross', 'country', 'field', 'hockey', 'lacrosse', 'soccer', 'softball', 'swimming', 'indoor', 'outdoor', 'track', 'field', 'sports', 'include', 'men', 'women', 'tennis', 'league', 'indoor', 'outdoor', 'soccer', 'dodgeball', 'men', 'women', 'flag', 'football', 'men', 'women', 'volleyball', 'softball', 'ultimate', 'frisbee', 'league', 'men', 'women', 'basketball', 'league', 'floor', 'hockey', 'wiffle', 'ball', 'tournament', 'golf', 'club', 'sports', 'include', 'competitive', 'cheerleading', 'fencing', 'club', 'football', 'club', 'ice', 'hockey', 'club', 'rugby', 'men', 'baseball', 'team', 'ncaa', 'division', 'iii', 'national', 'championship', 'four', 'times', 'women', 'softball', 'team', 'national', 'championships', 'five', 'times', 'aiaw', 'div', 'iii', 'ncaa', 'campus', 'eastern', 'campus', 'spread', 'acres', 'divided', 'three', 'areas', 'south', 'campus', 'north', 'campus', 'university', 'sports', 'complex', 'south', 'campus', 'historic', 'part', 'university', 'includes', 'buildings', 'burr', 'hall', 'school', 'first', 'dormitory', 'dates', 'back', 'north', 'campus', 'modern', 'part', 'university', 'home', 'library', 'fine', 'arts', 'instructional', 'center', 'student', 'center', 'notable', 'alumni', 'chimamanda', 'ngozi', 'adichie', 'nigerian', 'writer', 'pat', 'boyd', 'connecticut', 'state', 'representative', 'christopher', 'coutu', 'former', 'connecticut', 'state', 'representative', 'william', 'cugno', 'adjutant', 'general', 'connecticut', 'national', 'guard', 'edward', 'gaffney', 'michigan', 'state', 'representative', 'david', 'gay', 'adjutant', 'general', 'connecticut', 'national', 'guard', 'camille', 'kostek', 'model', 'cover', 'sports', 'illustrated', 'swimsuit', 'issue', 'victoria', 'leigh', 'soto', 'sandy', 'hook', 'elementary', 'school', 'teacher', 'killed', 'massacre', 'susan', 'wilson', 'author', 'see', 'also', 'connecticut', 'state', 'university', 'system', 'wecs', 'references', 'external', 'links', 'official', 'website']\n"
     ]
    },
    {
     "data": {
      "image/png": "[encoded data removed]",
      "text/plain": [
       "<Figure size 1440x720 with 1 Axes>"
      ]
     },
     "metadata": {
      "needs_background": "light"
     },
     "output_type": "display_data"
    }
   ],
   "source": [
    "\n",
    "#download and print the stop words for the English language\n",
    "from nltk.corpus import stopwords\n",
    "#nltk.download('stopwords')\n",
    "stop_words = set(stopwords.words('english'))\n",
    "print(stop_words)\n",
    "\n",
    "#tokenise the data set\n",
    "from nltk.tokenize import sent_tokenize, word_tokenize\n",
    "words = word_tokenize(text)\n",
    "print(words)\n",
    "\n",
    "# removes punctuation and numbers\n",
    "wordsFiltered = [word.lower() for word in words if word.isalpha()]\n",
    "print(wordsFiltered)\n",
    "\n",
    "# remove stop words from tokenised data set\n",
    "filtered_words = [word for word in wordsFiltered if word not in stopwords.words('english')]\n",
    "print(filtered_words)\n",
    "\n",
    "\n",
    "from wordcloud import WordCloud\n",
    "import matplotlib.pyplot as plt\n",
    "\n",
    "wc = WordCloud(max_words=1000, margin=10, background_color='white',\n",
    "               scale=3, relative_scaling = 0.5, width=500, height=400,\n",
    "               random_state=1).generate(' '.join(filtered_words))\n",
    "\n",
    "plt.figure(figsize=(20,10))\n",
    "plt.imshow(wc)\n",
    "plt.axis(\"off\")\n",
    "plt.show()\n",
    "#wc.to_file(\"/wordcloud.png\")"
   ]
  },
  {
   "cell_type": "markdown",
   "metadata": {
    "deletable": false,
    "editable": false
   },
   "source": [
    "### Question 7 <span style = 'font-size: 80%'>[10 points]</span>\n",
    "\n",
    "Use TextBlob's *translate* function to translate \n",
    "\n",
    "(a) the first sentence of the Wikipedia entry into Spanish \n",
    "\n",
    "(b) the second sentence of the Wikipedia entry into German\n",
    "\n",
    "(Note: the language codes for Google Translate are available here: https://cloud.google.com/translate/docs/languages)."
   ]
  },
  {
   "cell_type": "code",
   "execution_count": 29,
   "metadata": {},
   "outputs": [
    {
     "data": {
      "text/plain": [
       "Sentence(\"Eastern Connecticut State University (Oriental, Eastern Connecticut, Eastern Connecticut State, o ECSU) es una Universidad de Artes Liberales Públicas en Willimantic, Connecticut.\")"
      ]
     },
     "execution_count": 29,
     "metadata": {},
     "output_type": "execute_result"
    }
   ],
   "source": [
    "bb = blob.sentences[0]\n",
    "bb.translate(to = 'es')"
   ]
  },
  {
   "cell_type": "code",
   "execution_count": 30,
   "metadata": {},
   "outputs": [
    {
     "data": {
      "text/plain": [
       "Sentence(\"Es wurde 1889 gegründet, es ist der zweitälteste Campus des Connecticut State University Systems und die drittälteste öffentliche Universität des Staates.\")"
      ]
     },
     "execution_count": 30,
     "metadata": {},
     "output_type": "execute_result"
    }
   ],
   "source": [
    "bp = blob.sentences[1]\n",
    "\n",
    "bp.translate(to = 'de')"
   ]
  },
  {
   "cell_type": "markdown",
   "metadata": {
    "deletable": false,
    "editable": false
   },
   "source": [
    "## Spacy questions\n",
    "\n",
    "Run the code below to load the *en_core_web_sm* language model and carry out natural language processing using spacy, storing the results in *doc*."
   ]
  },
  {
   "cell_type": "code",
   "execution_count": 61,
   "metadata": {
    "deletable": false,
    "editable": false
   },
   "outputs": [],
   "source": [
    "import spacy\n",
    "nlp = spacy.load('en_core_web_sm')\n",
    "doc = nlp(text)"
   ]
  },
  {
   "cell_type": "markdown",
   "metadata": {
    "deletable": false,
    "editable": false
   },
   "source": [
    "### Question 8 <span style = 'font-size: 80%'>[10 points]</span>\n",
    "\n",
    "Recall that *doc* is a sequence of tokens (these include words and punctuation). \n",
    "\n",
    "(a) Use slicing to view the first 20 tokens."
   ]
  },
  {
   "cell_type": "code",
   "execution_count": 70,
   "metadata": {},
   "outputs": [
    {
     "data": {
      "text/plain": [
       "Eastern Connecticut State University (Eastern, Eastern Connecticut, Eastern Connecticut State, or ECSU) is a"
      ]
     },
     "execution_count": 70,
     "metadata": {},
     "output_type": "execute_result"
    }
   ],
   "source": [
    "doc[:19]"
   ]
  },
  {
   "cell_type": "markdown",
   "metadata": {
    "deletable": false,
    "editable": false
   },
   "source": [
    "(b) Use slicing to view the last 20 tokens."
   ]
  },
  {
   "cell_type": "code",
   "execution_count": 72,
   "metadata": {},
   "outputs": [
    {
     "data": {
      "text/plain": [
       "System\n",
       "WECS\n",
       "\n",
       "\n",
       "== References ==\n",
       "\n",
       "\n",
       "== External links ==\n",
       "Official website"
      ]
     },
     "execution_count": 72,
     "metadata": {},
     "output_type": "execute_result"
    }
   ],
   "source": [
    "doc[-19:]"
   ]
  },
  {
   "cell_type": "markdown",
   "metadata": {
    "deletable": false,
    "editable": false
   },
   "source": [
    "### Question 9 <span style = 'font-size: 80%'>[10 points]</span>\n",
    "\n",
    "Use displacy to view the text where the named entities are highlighted."
   ]
  },
  {
   "cell_type": "code",
   "execution_count": 87,
   "metadata": {},
   "outputs": [
    {
     "data": {
      "text/html": [
       "<span class=\"tex2jax_ignore\"><div class=\"entities\" style=\"line-height: 2.5; direction: ltr\">\n",
       "<mark class=\"entity\" style=\"background: #7aecec; padding: 0.45em 0.6em; margin: 0 0.25em; line-height: 1; border-radius: 0.35em;\">\n",
       "    Eastern Connecticut State University\n",
       "    <span style=\"font-size: 0.8em; font-weight: bold; line-height: 1; border-radius: 0.35em; vertical-align: middle; margin-left: 0.5rem\">ORG</span>\n",
       "</mark>\n",
       " (\n",
       "<mark class=\"entity\" style=\"background: #7aecec; padding: 0.45em 0.6em; margin: 0 0.25em; line-height: 1; border-radius: 0.35em;\">\n",
       "    Eastern\n",
       "    <span style=\"font-size: 0.8em; font-weight: bold; line-height: 1; border-radius: 0.35em; vertical-align: middle; margin-left: 0.5rem\">ORG</span>\n",
       "</mark>\n",
       ", \n",
       "<mark class=\"entity\" style=\"background: #feca74; padding: 0.45em 0.6em; margin: 0 0.25em; line-height: 1; border-radius: 0.35em;\">\n",
       "    Eastern Connecticut\n",
       "    <span style=\"font-size: 0.8em; font-weight: bold; line-height: 1; border-radius: 0.35em; vertical-align: middle; margin-left: 0.5rem\">GPE</span>\n",
       "</mark>\n",
       ", \n",
       "<mark class=\"entity\" style=\"background: #7aecec; padding: 0.45em 0.6em; margin: 0 0.25em; line-height: 1; border-radius: 0.35em;\">\n",
       "    Eastern Connecticut State\n",
       "    <span style=\"font-size: 0.8em; font-weight: bold; line-height: 1; border-radius: 0.35em; vertical-align: middle; margin-left: 0.5rem\">ORG</span>\n",
       "</mark>\n",
       ", or \n",
       "<mark class=\"entity\" style=\"background: #7aecec; padding: 0.45em 0.6em; margin: 0 0.25em; line-height: 1; border-radius: 0.35em;\">\n",
       "    ECSU\n",
       "    <span style=\"font-size: 0.8em; font-weight: bold; line-height: 1; border-radius: 0.35em; vertical-align: middle; margin-left: 0.5rem\">ORG</span>\n",
       "</mark>\n",
       ") is a public liberal arts university in \n",
       "<mark class=\"entity\" style=\"background: #feca74; padding: 0.45em 0.6em; margin: 0 0.25em; line-height: 1; border-radius: 0.35em;\">\n",
       "    Willimantic\n",
       "    <span style=\"font-size: 0.8em; font-weight: bold; line-height: 1; border-radius: 0.35em; vertical-align: middle; margin-left: 0.5rem\">GPE</span>\n",
       "</mark>\n",
       ", \n",
       "<mark class=\"entity\" style=\"background: #feca74; padding: 0.45em 0.6em; margin: 0 0.25em; line-height: 1; border-radius: 0.35em;\">\n",
       "    Connecticut\n",
       "    <span style=\"font-size: 0.8em; font-weight: bold; line-height: 1; border-radius: 0.35em; vertical-align: middle; margin-left: 0.5rem\">GPE</span>\n",
       "</mark>\n",
       ". Founded in \n",
       "<mark class=\"entity\" style=\"background: #bfe1d9; padding: 0.45em 0.6em; margin: 0 0.25em; line-height: 1; border-radius: 0.35em;\">\n",
       "    1889\n",
       "    <span style=\"font-size: 0.8em; font-weight: bold; line-height: 1; border-radius: 0.35em; vertical-align: middle; margin-left: 0.5rem\">DATE</span>\n",
       "</mark>\n",
       ", it is the \n",
       "<mark class=\"entity\" style=\"background: #e4e7d2; padding: 0.45em 0.6em; margin: 0 0.25em; line-height: 1; border-radius: 0.35em;\">\n",
       "    second\n",
       "    <span style=\"font-size: 0.8em; font-weight: bold; line-height: 1; border-radius: 0.35em; vertical-align: middle; margin-left: 0.5rem\">ORDINAL</span>\n",
       "</mark>\n",
       "-oldest campus in the Connecticut State University System and \n",
       "<mark class=\"entity\" style=\"background: #e4e7d2; padding: 0.45em 0.6em; margin: 0 0.25em; line-height: 1; border-radius: 0.35em;\">\n",
       "    third\n",
       "    <span style=\"font-size: 0.8em; font-weight: bold; line-height: 1; border-radius: 0.35em; vertical-align: middle; margin-left: 0.5rem\">ORDINAL</span>\n",
       "</mark>\n",
       "-oldest public university in the state. \n",
       "<mark class=\"entity\" style=\"background: #7aecec; padding: 0.45em 0.6em; margin: 0 0.25em; line-height: 1; border-radius: 0.35em;\">\n",
       "    Eastern\n",
       "    <span style=\"font-size: 0.8em; font-weight: bold; line-height: 1; border-radius: 0.35em; vertical-align: middle; margin-left: 0.5rem\">ORG</span>\n",
       "</mark>\n",
       " is located on \n",
       "<mark class=\"entity\" style=\"background: #9cc9cc; padding: 0.45em 0.6em; margin: 0 0.25em; line-height: 1; border-radius: 0.35em;\">\n",
       "    Windham Street\n",
       "    <span style=\"font-size: 0.8em; font-weight: bold; line-height: 1; border-radius: 0.35em; vertical-align: middle; margin-left: 0.5rem\">FAC</span>\n",
       "</mark>\n",
       " in \n",
       "<mark class=\"entity\" style=\"background: #feca74; padding: 0.45em 0.6em; margin: 0 0.25em; line-height: 1; border-radius: 0.35em;\">\n",
       "    Willimantic\n",
       "    <span style=\"font-size: 0.8em; font-weight: bold; line-height: 1; border-radius: 0.35em; vertical-align: middle; margin-left: 0.5rem\">GPE</span>\n",
       "</mark>\n",
       ", \n",
       "<mark class=\"entity\" style=\"background: #feca74; padding: 0.45em 0.6em; margin: 0 0.25em; line-height: 1; border-radius: 0.35em;\">\n",
       "    Connecticut\n",
       "    <span style=\"font-size: 0.8em; font-weight: bold; line-height: 1; border-radius: 0.35em; vertical-align: middle; margin-left: 0.5rem\">GPE</span>\n",
       "</mark>\n",
       ", on \n",
       "<mark class=\"entity\" style=\"background: #e4e7d2; padding: 0.45em 0.6em; margin: 0 0.25em; line-height: 1; border-radius: 0.35em;\">\n",
       "    182 acres\n",
       "    <span style=\"font-size: 0.8em; font-weight: bold; line-height: 1; border-radius: 0.35em; vertical-align: middle; margin-left: 0.5rem\">QUANTITY</span>\n",
       "</mark>\n",
       " (\n",
       "<mark class=\"entity\" style=\"background: #e4e7d2; padding: 0.45em 0.6em; margin: 0 0.25em; line-height: 1; border-radius: 0.35em;\">\n",
       "    0.74 km2\n",
       "    <span style=\"font-size: 0.8em; font-weight: bold; line-height: 1; border-radius: 0.35em; vertical-align: middle; margin-left: 0.5rem\">CARDINAL</span>\n",
       "</mark>\n",
       ") \n",
       "<mark class=\"entity\" style=\"background: #bfe1d9; padding: 0.45em 0.6em; margin: 0 0.25em; line-height: 1; border-radius: 0.35em;\">\n",
       "    30 minutes\n",
       "    <span style=\"font-size: 0.8em; font-weight: bold; line-height: 1; border-radius: 0.35em; vertical-align: middle; margin-left: 0.5rem\">TIME</span>\n",
       "</mark>\n",
       " from \n",
       "<mark class=\"entity\" style=\"background: #feca74; padding: 0.45em 0.6em; margin: 0 0.25em; line-height: 1; border-radius: 0.35em;\">\n",
       "    Hartford\n",
       "    <span style=\"font-size: 0.8em; font-weight: bold; line-height: 1; border-radius: 0.35em; vertical-align: middle; margin-left: 0.5rem\">GPE</span>\n",
       "</mark>\n",
       ", lying midway between \n",
       "<mark class=\"entity\" style=\"background: #feca74; padding: 0.45em 0.6em; margin: 0 0.25em; line-height: 1; border-radius: 0.35em;\">\n",
       "    New York City\n",
       "    <span style=\"font-size: 0.8em; font-weight: bold; line-height: 1; border-radius: 0.35em; vertical-align: middle; margin-left: 0.5rem\">GPE</span>\n",
       "</mark>\n",
       " and \n",
       "<mark class=\"entity\" style=\"background: #feca74; padding: 0.45em 0.6em; margin: 0 0.25em; line-height: 1; border-radius: 0.35em;\">\n",
       "    Boston\n",
       "    <span style=\"font-size: 0.8em; font-weight: bold; line-height: 1; border-radius: 0.35em; vertical-align: middle; margin-left: 0.5rem\">GPE</span>\n",
       "</mark>\n",
       ". Although the majority of courses are held on the main campus, select classes take place at \n",
       "<mark class=\"entity\" style=\"background: #7aecec; padding: 0.45em 0.6em; margin: 0 0.25em; line-height: 1; border-radius: 0.35em;\">\n",
       "    Manchester Community College\n",
       "    <span style=\"font-size: 0.8em; font-weight: bold; line-height: 1; border-radius: 0.35em; vertical-align: middle; margin-left: 0.5rem\">ORG</span>\n",
       "</mark>\n",
       ", \n",
       "<mark class=\"entity\" style=\"background: #7aecec; padding: 0.45em 0.6em; margin: 0 0.25em; line-height: 1; border-radius: 0.35em;\">\n",
       "    Capital Community College\n",
       "    <span style=\"font-size: 0.8em; font-weight: bold; line-height: 1; border-radius: 0.35em; vertical-align: middle; margin-left: 0.5rem\">ORG</span>\n",
       "</mark>\n",
       ", and a satellite center in \n",
       "<mark class=\"entity\" style=\"background: #feca74; padding: 0.45em 0.6em; margin: 0 0.25em; line-height: 1; border-radius: 0.35em;\">\n",
       "    Groton\n",
       "    <span style=\"font-size: 0.8em; font-weight: bold; line-height: 1; border-radius: 0.35em; vertical-align: middle; margin-left: 0.5rem\">GPE</span>\n",
       "</mark>\n",
       ".</br>\n",
       "<mark class=\"entity\" style=\"background: #7aecec; padding: 0.45em 0.6em; margin: 0 0.25em; line-height: 1; border-radius: 0.35em;\">\n",
       "    Eastern Connecticut State University\n",
       "    <span style=\"font-size: 0.8em; font-weight: bold; line-height: 1; border-radius: 0.35em; vertical-align: middle; margin-left: 0.5rem\">ORG</span>\n",
       "</mark>\n",
       " is a member of \n",
       "<mark class=\"entity\" style=\"background: #7aecec; padding: 0.45em 0.6em; margin: 0 0.25em; line-height: 1; border-radius: 0.35em;\">\n",
       "    the Connecticut State Colleges &amp; Universities\n",
       "    <span style=\"font-size: 0.8em; font-weight: bold; line-height: 1; border-radius: 0.35em; vertical-align: middle; margin-left: 0.5rem\">ORG</span>\n",
       "</mark>\n",
       ".</br></br></br>== History ==</br>The Connecticut General Assembly established \n",
       "<mark class=\"entity\" style=\"background: #7aecec; padding: 0.45em 0.6em; margin: 0 0.25em; line-height: 1; border-radius: 0.35em;\">\n",
       "    the Willimantic State Normal School\n",
       "    <span style=\"font-size: 0.8em; font-weight: bold; line-height: 1; border-radius: 0.35em; vertical-align: middle; margin-left: 0.5rem\">ORG</span>\n",
       "</mark>\n",
       " in \n",
       "<mark class=\"entity\" style=\"background: #bfe1d9; padding: 0.45em 0.6em; margin: 0 0.25em; line-height: 1; border-radius: 0.35em;\">\n",
       "    1889\n",
       "    <span style=\"font-size: 0.8em; font-weight: bold; line-height: 1; border-radius: 0.35em; vertical-align: middle; margin-left: 0.5rem\">DATE</span>\n",
       "</mark>\n",
       ". As a normal school, the institution trained schoolteachers. The \n",
       "<mark class=\"entity\" style=\"background: #e4e7d2; padding: 0.45em 0.6em; margin: 0 0.25em; line-height: 1; border-radius: 0.35em;\">\n",
       "    first\n",
       "    <span style=\"font-size: 0.8em; font-weight: bold; line-height: 1; border-radius: 0.35em; vertical-align: middle; margin-left: 0.5rem\">ORDINAL</span>\n",
       "</mark>\n",
       " class was of \n",
       "<mark class=\"entity\" style=\"background: #e4e7d2; padding: 0.45em 0.6em; margin: 0 0.25em; line-height: 1; border-radius: 0.35em;\">\n",
       "    thirteen\n",
       "    <span style=\"font-size: 0.8em; font-weight: bold; line-height: 1; border-radius: 0.35em; vertical-align: middle; margin-left: 0.5rem\">CARDINAL</span>\n",
       "</mark>\n",
       " female students, who attended classes on the \n",
       "<mark class=\"entity\" style=\"background: #e4e7d2; padding: 0.45em 0.6em; margin: 0 0.25em; line-height: 1; border-radius: 0.35em;\">\n",
       "    third\n",
       "    <span style=\"font-size: 0.8em; font-weight: bold; line-height: 1; border-radius: 0.35em; vertical-align: middle; margin-left: 0.5rem\">ORDINAL</span>\n",
       "</mark>\n",
       " floor of \n",
       "<mark class=\"entity\" style=\"background: #7aecec; padding: 0.45em 0.6em; margin: 0 0.25em; line-height: 1; border-radius: 0.35em;\">\n",
       "    the Willimantic Savings Institute\n",
       "    <span style=\"font-size: 0.8em; font-weight: bold; line-height: 1; border-radius: 0.35em; vertical-align: middle; margin-left: 0.5rem\">ORG</span>\n",
       "</mark>\n",
       ". The \n",
       "<mark class=\"entity\" style=\"background: #e4e7d2; padding: 0.45em 0.6em; margin: 0 0.25em; line-height: 1; border-radius: 0.35em;\">\n",
       "    first\n",
       "    <span style=\"font-size: 0.8em; font-weight: bold; line-height: 1; border-radius: 0.35em; vertical-align: middle; margin-left: 0.5rem\">ORDINAL</span>\n",
       "</mark>\n",
       " male student entered in 1893.In 1890, \n",
       "<mark class=\"entity\" style=\"background: #bfeeb7; padding: 0.45em 0.6em; margin: 0 0.25em; line-height: 1; border-radius: 0.35em;\">\n",
       "    the Town of Windham\n",
       "    <span style=\"font-size: 0.8em; font-weight: bold; line-height: 1; border-radius: 0.35em; vertical-align: middle; margin-left: 0.5rem\">PRODUCT</span>\n",
       "</mark>\n",
       " deeded \n",
       "<mark class=\"entity\" style=\"background: #e4e7d2; padding: 0.45em 0.6em; margin: 0 0.25em; line-height: 1; border-radius: 0.35em;\">\n",
       "    6 acres\n",
       "    <span style=\"font-size: 0.8em; font-weight: bold; line-height: 1; border-radius: 0.35em; vertical-align: middle; margin-left: 0.5rem\">QUANTITY</span>\n",
       "</mark>\n",
       " (\n",
       "<mark class=\"entity\" style=\"background: #e4e7d2; padding: 0.45em 0.6em; margin: 0 0.25em; line-height: 1; border-radius: 0.35em;\">\n",
       "    24,000 m2\n",
       "    <span style=\"font-size: 0.8em; font-weight: bold; line-height: 1; border-radius: 0.35em; vertical-align: middle; margin-left: 0.5rem\">CARDINAL</span>\n",
       "</mark>\n",
       ") to \n",
       "<mark class=\"entity\" style=\"background: #7aecec; padding: 0.45em 0.6em; margin: 0 0.25em; line-height: 1; border-radius: 0.35em;\">\n",
       "    the State of Connecticut\n",
       "    <span style=\"font-size: 0.8em; font-weight: bold; line-height: 1; border-radius: 0.35em; vertical-align: middle; margin-left: 0.5rem\">ORG</span>\n",
       "</mark>\n",
       " for construction of a new campus for the school. The larger campus was completed in \n",
       "<mark class=\"entity\" style=\"background: #bfe1d9; padding: 0.45em 0.6em; margin: 0 0.25em; line-height: 1; border-radius: 0.35em;\">\n",
       "    1895\n",
       "    <span style=\"font-size: 0.8em; font-weight: bold; line-height: 1; border-radius: 0.35em; vertical-align: middle; margin-left: 0.5rem\">DATE</span>\n",
       "</mark>\n",
       ". The \n",
       "<mark class=\"entity\" style=\"background: #e4e7d2; padding: 0.45em 0.6em; margin: 0 0.25em; line-height: 1; border-radius: 0.35em;\">\n",
       "    first\n",
       "    <span style=\"font-size: 0.8em; font-weight: bold; line-height: 1; border-radius: 0.35em; vertical-align: middle; margin-left: 0.5rem\">ORDINAL</span>\n",
       "</mark>\n",
       " dormitory, \n",
       "<mark class=\"entity\" style=\"background: #7aecec; padding: 0.45em 0.6em; margin: 0 0.25em; line-height: 1; border-radius: 0.35em;\">\n",
       "    Burr Hall\n",
       "    <span style=\"font-size: 0.8em; font-weight: bold; line-height: 1; border-radius: 0.35em; vertical-align: middle; margin-left: 0.5rem\">ORG</span>\n",
       "</mark>\n",
       ", opened in \n",
       "<mark class=\"entity\" style=\"background: #bfe1d9; padding: 0.45em 0.6em; margin: 0 0.25em; line-height: 1; border-radius: 0.35em;\">\n",
       "    September 1921\n",
       "    <span style=\"font-size: 0.8em; font-weight: bold; line-height: 1; border-radius: 0.35em; vertical-align: middle; margin-left: 0.5rem\">DATE</span>\n",
       "</mark>\n",
       ". The institution was renamed \n",
       "<mark class=\"entity\" style=\"background: #7aecec; padding: 0.45em 0.6em; margin: 0 0.25em; line-height: 1; border-radius: 0.35em;\">\n",
       "    Willimantic State Teachers College\n",
       "    <span style=\"font-size: 0.8em; font-weight: bold; line-height: 1; border-radius: 0.35em; vertical-align: middle; margin-left: 0.5rem\">ORG</span>\n",
       "</mark>\n",
       " in \n",
       "<mark class=\"entity\" style=\"background: #bfe1d9; padding: 0.45em 0.6em; margin: 0 0.25em; line-height: 1; border-radius: 0.35em;\">\n",
       "    1937\n",
       "    <span style=\"font-size: 0.8em; font-weight: bold; line-height: 1; border-radius: 0.35em; vertical-align: middle; margin-left: 0.5rem\">DATE</span>\n",
       "</mark>\n",
       ", after it began granting bachelor's degrees. The original Normal School building was destroyed in a fire and replaced by \n",
       "<mark class=\"entity\" style=\"background: #aa9cfc; padding: 0.45em 0.6em; margin: 0 0.25em; line-height: 1; border-radius: 0.35em;\">\n",
       "    Shafer Hall\n",
       "    <span style=\"font-size: 0.8em; font-weight: bold; line-height: 1; border-radius: 0.35em; vertical-align: middle; margin-left: 0.5rem\">PERSON</span>\n",
       "</mark>\n",
       ", which was dedicated in \n",
       "<mark class=\"entity\" style=\"background: #e4e7d2; padding: 0.45em 0.6em; margin: 0 0.25em; line-height: 1; border-radius: 0.35em;\">\n",
       "    1946.The\n",
       "    <span style=\"font-size: 0.8em; font-weight: bold; line-height: 1; border-radius: 0.35em; vertical-align: middle; margin-left: 0.5rem\">CARDINAL</span>\n",
       "</mark>\n",
       " \n",
       "<mark class=\"entity\" style=\"background: #7aecec; padding: 0.45em 0.6em; margin: 0 0.25em; line-height: 1; border-radius: 0.35em;\">\n",
       "    State College\n",
       "    <span style=\"font-size: 0.8em; font-weight: bold; line-height: 1; border-radius: 0.35em; vertical-align: middle; margin-left: 0.5rem\">ORG</span>\n",
       "</mark>\n",
       " created its \n",
       "<mark class=\"entity\" style=\"background: #e4e7d2; padding: 0.45em 0.6em; margin: 0 0.25em; line-height: 1; border-radius: 0.35em;\">\n",
       "    first\n",
       "    <span style=\"font-size: 0.8em; font-weight: bold; line-height: 1; border-radius: 0.35em; vertical-align: middle; margin-left: 0.5rem\">ORDINAL</span>\n",
       "</mark>\n",
       " graduate program (in education) in \n",
       "<mark class=\"entity\" style=\"background: #bfe1d9; padding: 0.45em 0.6em; margin: 0 0.25em; line-height: 1; border-radius: 0.35em;\">\n",
       "    1953\n",
       "    <span style=\"font-size: 0.8em; font-weight: bold; line-height: 1; border-radius: 0.35em; vertical-align: middle; margin-left: 0.5rem\">DATE</span>\n",
       "</mark>\n",
       ". After expanding its programs and campus, it became \n",
       "<mark class=\"entity\" style=\"background: #7aecec; padding: 0.45em 0.6em; margin: 0 0.25em; line-height: 1; border-radius: 0.35em;\">\n",
       "    Eastern Connecticut State College\n",
       "    <span style=\"font-size: 0.8em; font-weight: bold; line-height: 1; border-radius: 0.35em; vertical-align: middle; margin-left: 0.5rem\">ORG</span>\n",
       "</mark>\n",
       " in \n",
       "<mark class=\"entity\" style=\"background: #bfe1d9; padding: 0.45em 0.6em; margin: 0 0.25em; line-height: 1; border-radius: 0.35em;\">\n",
       "    1967\n",
       "    <span style=\"font-size: 0.8em; font-weight: bold; line-height: 1; border-radius: 0.35em; vertical-align: middle; margin-left: 0.5rem\">DATE</span>\n",
       "</mark>\n",
       ", and \n",
       "<mark class=\"entity\" style=\"background: #7aecec; padding: 0.45em 0.6em; margin: 0 0.25em; line-height: 1; border-radius: 0.35em;\">\n",
       "    Eastern Connecticut State University\n",
       "    <span style=\"font-size: 0.8em; font-weight: bold; line-height: 1; border-radius: 0.35em; vertical-align: middle; margin-left: 0.5rem\">ORG</span>\n",
       "</mark>\n",
       " in \n",
       "<mark class=\"entity\" style=\"background: #bfe1d9; padding: 0.45em 0.6em; margin: 0 0.25em; line-height: 1; border-radius: 0.35em;\">\n",
       "    1983\n",
       "    <span style=\"font-size: 0.8em; font-weight: bold; line-height: 1; border-radius: 0.35em; vertical-align: middle; margin-left: 0.5rem\">DATE</span>\n",
       "</mark>\n",
       ".</br></br></br>== Academics ==</br></br>Academically, the university is organized into \n",
       "<mark class=\"entity\" style=\"background: #e4e7d2; padding: 0.45em 0.6em; margin: 0 0.25em; line-height: 1; border-radius: 0.35em;\">\n",
       "    three\n",
       "    <span style=\"font-size: 0.8em; font-weight: bold; line-height: 1; border-radius: 0.35em; vertical-align: middle; margin-left: 0.5rem\">CARDINAL</span>\n",
       "</mark>\n",
       " schools, \n",
       "<mark class=\"entity\" style=\"background: #7aecec; padding: 0.45em 0.6em; margin: 0 0.25em; line-height: 1; border-radius: 0.35em;\">\n",
       "    the School of Arts and Sciences\n",
       "    <span style=\"font-size: 0.8em; font-weight: bold; line-height: 1; border-radius: 0.35em; vertical-align: middle; margin-left: 0.5rem\">ORG</span>\n",
       "</mark>\n",
       ", \n",
       "<mark class=\"entity\" style=\"background: #7aecec; padding: 0.45em 0.6em; margin: 0 0.25em; line-height: 1; border-radius: 0.35em;\">\n",
       "    the School of Education and Professional Studies\n",
       "    <span style=\"font-size: 0.8em; font-weight: bold; line-height: 1; border-radius: 0.35em; vertical-align: middle; margin-left: 0.5rem\">ORG</span>\n",
       "</mark>\n",
       ", and \n",
       "<mark class=\"entity\" style=\"background: #7aecec; padding: 0.45em 0.6em; margin: 0 0.25em; line-height: 1; border-radius: 0.35em;\">\n",
       "    the School of Continuing Education\n",
       "    <span style=\"font-size: 0.8em; font-weight: bold; line-height: 1; border-radius: 0.35em; vertical-align: middle; margin-left: 0.5rem\">ORG</span>\n",
       "</mark>\n",
       ". Graduate study programs offered through \n",
       "<mark class=\"entity\" style=\"background: #7aecec; padding: 0.45em 0.6em; margin: 0 0.25em; line-height: 1; border-radius: 0.35em;\">\n",
       "    the School of Education and Professional Studies\n",
       "    <span style=\"font-size: 0.8em; font-weight: bold; line-height: 1; border-radius: 0.35em; vertical-align: middle; margin-left: 0.5rem\">ORG</span>\n",
       "</mark>\n",
       " and include \n",
       "<mark class=\"entity\" style=\"background: #7aecec; padding: 0.45em 0.6em; margin: 0 0.25em; line-height: 1; border-radius: 0.35em;\">\n",
       "    Education\n",
       "    <span style=\"font-size: 0.8em; font-weight: bold; line-height: 1; border-radius: 0.35em; vertical-align: middle; margin-left: 0.5rem\">ORG</span>\n",
       "</mark>\n",
       ", Teacher Certification, and \n",
       "<mark class=\"entity\" style=\"background: #7aecec; padding: 0.45em 0.6em; margin: 0 0.25em; line-height: 1; border-radius: 0.35em;\">\n",
       "    Organizational Management\n",
       "    <span style=\"font-size: 0.8em; font-weight: bold; line-height: 1; border-radius: 0.35em; vertical-align: middle; margin-left: 0.5rem\">ORG</span>\n",
       "</mark>\n",
       ".</br></br></br>== \n",
       "<mark class=\"entity\" style=\"background: #7aecec; padding: 0.45em 0.6em; margin: 0 0.25em; line-height: 1; border-radius: 0.35em;\">\n",
       "    Institute for Sustainable Energy\n",
       "    <span style=\"font-size: 0.8em; font-weight: bold; line-height: 1; border-radius: 0.35em; vertical-align: middle; margin-left: 0.5rem\">ORG</span>\n",
       "</mark>\n",
       " ==</br>\n",
       "<mark class=\"entity\" style=\"background: #7aecec; padding: 0.45em 0.6em; margin: 0 0.25em; line-height: 1; border-radius: 0.35em;\">\n",
       "    The Institute for Sustainable Energy\n",
       "    <span style=\"font-size: 0.8em; font-weight: bold; line-height: 1; border-radius: 0.35em; vertical-align: middle; margin-left: 0.5rem\">ORG</span>\n",
       "</mark>\n",
       " was opened in \n",
       "<mark class=\"entity\" style=\"background: #bfe1d9; padding: 0.45em 0.6em; margin: 0 0.25em; line-height: 1; border-radius: 0.35em;\">\n",
       "    2001\n",
       "    <span style=\"font-size: 0.8em; font-weight: bold; line-height: 1; border-radius: 0.35em; vertical-align: middle; margin-left: 0.5rem\">DATE</span>\n",
       "</mark>\n",
       " and focuses on sustainable energy education, serving as a source for sustainable energy information, assistance in sustainable energy policy making, and assistance in implementing sustainable energy solutions. The institute is located at \n",
       "<mark class=\"entity\" style=\"background: #e4e7d2; padding: 0.45em 0.6em; margin: 0 0.25em; line-height: 1; border-radius: 0.35em;\">\n",
       "    182\n",
       "    <span style=\"font-size: 0.8em; font-weight: bold; line-height: 1; border-radius: 0.35em; vertical-align: middle; margin-left: 0.5rem\">CARDINAL</span>\n",
       "</mark>\n",
       " High Street. The current director is \n",
       "<mark class=\"entity\" style=\"background: #aa9cfc; padding: 0.45em 0.6em; margin: 0 0.25em; line-height: 1; border-radius: 0.35em;\">\n",
       "    William Leahy\n",
       "    <span style=\"font-size: 0.8em; font-weight: bold; line-height: 1; border-radius: 0.35em; vertical-align: middle; margin-left: 0.5rem\">PERSON</span>\n",
       "</mark>\n",
       ".In \n",
       "<mark class=\"entity\" style=\"background: #bfe1d9; padding: 0.45em 0.6em; margin: 0 0.25em; line-height: 1; border-radius: 0.35em;\">\n",
       "    2012 Eastern\n",
       "    <span style=\"font-size: 0.8em; font-weight: bold; line-height: 1; border-radius: 0.35em; vertical-align: middle; margin-left: 0.5rem\">TIME</span>\n",
       "</mark>\n",
       " had a stationary phosphoric acid fuel cell, known as \n",
       "<mark class=\"entity\" style=\"background: #7aecec; padding: 0.45em 0.6em; margin: 0 0.25em; line-height: 1; border-radius: 0.35em;\">\n",
       "    the PureCell System Model 400\n",
       "    <span style=\"font-size: 0.8em; font-weight: bold; line-height: 1; border-radius: 0.35em; vertical-align: middle; margin-left: 0.5rem\">ORG</span>\n",
       "</mark>\n",
       ", installed on the west side of its \n",
       "<mark class=\"entity\" style=\"background: #bfeeb7; padding: 0.45em 0.6em; margin: 0 0.25em; line-height: 1; border-radius: 0.35em;\">\n",
       "    Science Building\n",
       "    <span style=\"font-size: 0.8em; font-weight: bold; line-height: 1; border-radius: 0.35em; vertical-align: middle; margin-left: 0.5rem\">PRODUCT</span>\n",
       "</mark>\n",
       ". \n",
       "<mark class=\"entity\" style=\"background: #7aecec; padding: 0.45em 0.6em; margin: 0 0.25em; line-height: 1; border-radius: 0.35em;\">\n",
       "    Eastern\n",
       "    <span style=\"font-size: 0.8em; font-weight: bold; line-height: 1; border-radius: 0.35em; vertical-align: middle; margin-left: 0.5rem\">ORG</span>\n",
       "</mark>\n",
       " will use \n",
       "<mark class=\"entity\" style=\"background: #e4e7d2; padding: 0.45em 0.6em; margin: 0 0.25em; line-height: 1; border-radius: 0.35em;\">\n",
       "    100 percent\n",
       "    <span style=\"font-size: 0.8em; font-weight: bold; line-height: 1; border-radius: 0.35em; vertical-align: middle; margin-left: 0.5rem\">PERCENT</span>\n",
       "</mark>\n",
       " of the energy produced by the fuel cell system to provide a majority of the power required for \n",
       "<mark class=\"entity\" style=\"background: #7aecec; padding: 0.45em 0.6em; margin: 0 0.25em; line-height: 1; border-radius: 0.35em;\">\n",
       "    the Science Building\n",
       "    <span style=\"font-size: 0.8em; font-weight: bold; line-height: 1; border-radius: 0.35em; vertical-align: middle; margin-left: 0.5rem\">ORG</span>\n",
       "</mark>\n",
       ", while maximizing the use of the heat output available. Under a \n",
       "<mark class=\"entity\" style=\"background: #bfe1d9; padding: 0.45em 0.6em; margin: 0 0.25em; line-height: 1; border-radius: 0.35em;\">\n",
       "    10-year\n",
       "    <span style=\"font-size: 0.8em; font-weight: bold; line-height: 1; border-radius: 0.35em; vertical-align: middle; margin-left: 0.5rem\">DATE</span>\n",
       "</mark>\n",
       " \n",
       "<mark class=\"entity\" style=\"background: #7aecec; padding: 0.45em 0.6em; margin: 0 0.25em; line-height: 1; border-radius: 0.35em;\">\n",
       "    Energy Services Agreement\n",
       "    <span style=\"font-size: 0.8em; font-weight: bold; line-height: 1; border-radius: 0.35em; vertical-align: middle; margin-left: 0.5rem\">ORG</span>\n",
       "</mark>\n",
       " (\n",
       "<mark class=\"entity\" style=\"background: #7aecec; padding: 0.45em 0.6em; margin: 0 0.25em; line-height: 1; border-radius: 0.35em;\">\n",
       "    ESA\n",
       "    <span style=\"font-size: 0.8em; font-weight: bold; line-height: 1; border-radius: 0.35em; vertical-align: middle; margin-left: 0.5rem\">ORG</span>\n",
       "</mark>\n",
       ") with \n",
       "<mark class=\"entity\" style=\"background: #7aecec; padding: 0.45em 0.6em; margin: 0 0.25em; line-height: 1; border-radius: 0.35em;\">\n",
       "    ClearEdge Power\n",
       "    <span style=\"font-size: 0.8em; font-weight: bold; line-height: 1; border-radius: 0.35em; vertical-align: middle; margin-left: 0.5rem\">ORG</span>\n",
       "</mark>\n",
       ", the installation was made possible by a federal \n",
       "<mark class=\"entity\" style=\"background: #7aecec; padding: 0.45em 0.6em; margin: 0 0.25em; line-height: 1; border-radius: 0.35em;\">\n",
       "    American Recovery and Reinvestment Act\n",
       "    <span style=\"font-size: 0.8em; font-weight: bold; line-height: 1; border-radius: 0.35em; vertical-align: middle; margin-left: 0.5rem\">ORG</span>\n",
       "</mark>\n",
       " (\n",
       "<mark class=\"entity\" style=\"background: #7aecec; padding: 0.45em 0.6em; margin: 0 0.25em; line-height: 1; border-radius: 0.35em;\">\n",
       "    ARRA\n",
       "    <span style=\"font-size: 0.8em; font-weight: bold; line-height: 1; border-radius: 0.35em; vertical-align: middle; margin-left: 0.5rem\">ORG</span>\n",
       "</mark>\n",
       ") grant through \n",
       "<mark class=\"entity\" style=\"background: #7aecec; padding: 0.45em 0.6em; margin: 0 0.25em; line-height: 1; border-radius: 0.35em;\">\n",
       "    CEFIA\n",
       "    <span style=\"font-size: 0.8em; font-weight: bold; line-height: 1; border-radius: 0.35em; vertical-align: middle; margin-left: 0.5rem\">ORG</span>\n",
       "</mark>\n",
       ".</br></br></br>== Housing ==</br>\n",
       "<mark class=\"entity\" style=\"background: #e4e7d2; padding: 0.45em 0.6em; margin: 0 0.25em; line-height: 1; border-radius: 0.35em;\">\n",
       "    87 percent\n",
       "    <span style=\"font-size: 0.8em; font-weight: bold; line-height: 1; border-radius: 0.35em; vertical-align: middle; margin-left: 0.5rem\">PERCENT</span>\n",
       "</mark>\n",
       " of \n",
       "<mark class=\"entity\" style=\"background: #bfe1d9; padding: 0.45em 0.6em; margin: 0 0.25em; line-height: 1; border-radius: 0.35em;\">\n",
       "    first-year\n",
       "    <span style=\"font-size: 0.8em; font-weight: bold; line-height: 1; border-radius: 0.35em; vertical-align: middle; margin-left: 0.5rem\">DATE</span>\n",
       "</mark>\n",
       " students, and \n",
       "<mark class=\"entity\" style=\"background: #e4e7d2; padding: 0.45em 0.6em; margin: 0 0.25em; line-height: 1; border-radius: 0.35em;\">\n",
       "    60 percent\n",
       "    <span style=\"font-size: 0.8em; font-weight: bold; line-height: 1; border-radius: 0.35em; vertical-align: middle; margin-left: 0.5rem\">PERCENT</span>\n",
       "</mark>\n",
       " of all full-time undergraduates live in college housing. The campus is separated into \n",
       "<mark class=\"entity\" style=\"background: #bfe1d9; padding: 0.45em 0.6em; margin: 0 0.25em; line-height: 1; border-radius: 0.35em;\">\n",
       "    first-year\n",
       "    <span style=\"font-size: 0.8em; font-weight: bold; line-height: 1; border-radius: 0.35em; vertical-align: middle; margin-left: 0.5rem\">DATE</span>\n",
       "</mark>\n",
       " halls and upperclassman halls. All students with sophomore status and higher are eligible to live in upperclassman halls. There are \n",
       "<mark class=\"entity\" style=\"background: #e4e7d2; padding: 0.45em 0.6em; margin: 0 0.25em; line-height: 1; border-radius: 0.35em;\">\n",
       "    six\n",
       "    <span style=\"font-size: 0.8em; font-weight: bold; line-height: 1; border-radius: 0.35em; vertical-align: middle; margin-left: 0.5rem\">CARDINAL</span>\n",
       "</mark>\n",
       " \n",
       "<mark class=\"entity\" style=\"background: #bfe1d9; padding: 0.45em 0.6em; margin: 0 0.25em; line-height: 1; border-radius: 0.35em;\">\n",
       "    first-year\n",
       "    <span style=\"font-size: 0.8em; font-weight: bold; line-height: 1; border-radius: 0.35em; vertical-align: middle; margin-left: 0.5rem\">DATE</span>\n",
       "</mark>\n",
       " halls, \n",
       "<mark class=\"entity\" style=\"background: #e4e7d2; padding: 0.45em 0.6em; margin: 0 0.25em; line-height: 1; border-radius: 0.35em;\">\n",
       "    five\n",
       "    <span style=\"font-size: 0.8em; font-weight: bold; line-height: 1; border-radius: 0.35em; vertical-align: middle; margin-left: 0.5rem\">CARDINAL</span>\n",
       "</mark>\n",
       " upperclassman halls and \n",
       "<mark class=\"entity\" style=\"background: #e4e7d2; padding: 0.45em 0.6em; margin: 0 0.25em; line-height: 1; border-radius: 0.35em;\">\n",
       "    two\n",
       "    <span style=\"font-size: 0.8em; font-weight: bold; line-height: 1; border-radius: 0.35em; vertical-align: middle; margin-left: 0.5rem\">CARDINAL</span>\n",
       "</mark>\n",
       " sets of apartments.</br></br></br>== Student organizations ==</br>Eastern offers \n",
       "<mark class=\"entity\" style=\"background: #e4e7d2; padding: 0.45em 0.6em; margin: 0 0.25em; line-height: 1; border-radius: 0.35em;\">\n",
       "    more than 80\n",
       "    <span style=\"font-size: 0.8em; font-weight: bold; line-height: 1; border-radius: 0.35em; vertical-align: middle; margin-left: 0.5rem\">CARDINAL</span>\n",
       "</mark>\n",
       " student organizations in which students can participate, including athletic, political, cultural, artistic and communication clubs. The campus newscast is \n",
       "<mark class=\"entity\" style=\"background: #7aecec; padding: 0.45em 0.6em; margin: 0 0.25em; line-height: 1; border-radius: 0.35em;\">\n",
       "    ETV\n",
       "    <span style=\"font-size: 0.8em; font-weight: bold; line-height: 1; border-radius: 0.35em; vertical-align: middle; margin-left: 0.5rem\">ORG</span>\n",
       "</mark>\n",
       ". \n",
       "<mark class=\"entity\" style=\"background: #7aecec; padding: 0.45em 0.6em; margin: 0 0.25em; line-height: 1; border-radius: 0.35em;\">\n",
       "    The Student Government Association\n",
       "    <span style=\"font-size: 0.8em; font-weight: bold; line-height: 1; border-radius: 0.35em; vertical-align: middle; margin-left: 0.5rem\">ORG</span>\n",
       "</mark>\n",
       " is the liaison between the student body and university administration and each residence hall has a student council that plans events and trips for hall residents.</br></br></br>== \n",
       "<mark class=\"entity\" style=\"background: #7aecec; padding: 0.45em 0.6em; margin: 0 0.25em; line-height: 1; border-radius: 0.35em;\">\n",
       "    Athletics\n",
       "    <span style=\"font-size: 0.8em; font-weight: bold; line-height: 1; border-radius: 0.35em; vertical-align: middle; margin-left: 0.5rem\">ORG</span>\n",
       "</mark>\n",
       " ==</br></br>\n",
       "<mark class=\"entity\" style=\"background: #7aecec; padding: 0.45em 0.6em; margin: 0 0.25em; line-height: 1; border-radius: 0.35em;\">\n",
       "    Eastern\n",
       "    <span style=\"font-size: 0.8em; font-weight: bold; line-height: 1; border-radius: 0.35em; vertical-align: middle; margin-left: 0.5rem\">ORG</span>\n",
       "</mark>\n",
       "'s sports teams are known as the &quot;Warriors&quot; and are represented by a logo depicting a shield superior to \n",
       "<mark class=\"entity\" style=\"background: #e4e7d2; padding: 0.45em 0.6em; margin: 0 0.25em; line-height: 1; border-radius: 0.35em;\">\n",
       "    two\n",
       "    <span style=\"font-size: 0.8em; font-weight: bold; line-height: 1; border-radius: 0.35em; vertical-align: middle; margin-left: 0.5rem\">CARDINAL</span>\n",
       "</mark>\n",
       " crossed swords. The university is a member of \n",
       "<mark class=\"entity\" style=\"background: #7aecec; padding: 0.45em 0.6em; margin: 0 0.25em; line-height: 1; border-radius: 0.35em;\">\n",
       "    the NCAA Division III\n",
       "    <span style=\"font-size: 0.8em; font-weight: bold; line-height: 1; border-radius: 0.35em; vertical-align: middle; margin-left: 0.5rem\">ORG</span>\n",
       "</mark>\n",
       ", \n",
       "<mark class=\"entity\" style=\"background: #7aecec; padding: 0.45em 0.6em; margin: 0 0.25em; line-height: 1; border-radius: 0.35em;\">\n",
       "    the Little East Conference\n",
       "    <span style=\"font-size: 0.8em; font-weight: bold; line-height: 1; border-radius: 0.35em; vertical-align: middle; margin-left: 0.5rem\">ORG</span>\n",
       "</mark>\n",
       " and \n",
       "<mark class=\"entity\" style=\"background: #7aecec; padding: 0.45em 0.6em; margin: 0 0.25em; line-height: 1; border-radius: 0.35em;\">\n",
       "    the Eastern College Athletic Conference\n",
       "    <span style=\"font-size: 0.8em; font-weight: bold; line-height: 1; border-radius: 0.35em; vertical-align: middle; margin-left: 0.5rem\">ORG</span>\n",
       "</mark>\n",
       ". Men's varsity sports include baseball, basketball, cross country, lacrosse, soccer, and indoor and outdoor track and field. Women's varsity sports include basketball, cross country, field hockey, lacrosse, soccer, softball, swimming, indoor and outdoor track and field, and volleyball.Intramural sports include men's and women's tennis league, co-ed indoor and outdoor soccer, co-ed dodgeball, men's and women's flag football, men's and women's volleyball, co-ed softball, ultimate frisbee league, men's and women's basketball league, co-ed floor hockey, wiffle ball tournament, golf. Club sports include competitive cheerleading, fencing club, football club, ice hockey club and rugby club.The men's baseball team won the NCAA Division III national championship \n",
       "<mark class=\"entity\" style=\"background: #e4e7d2; padding: 0.45em 0.6em; margin: 0 0.25em; line-height: 1; border-radius: 0.35em;\">\n",
       "    four\n",
       "    <span style=\"font-size: 0.8em; font-weight: bold; line-height: 1; border-radius: 0.35em; vertical-align: middle; margin-left: 0.5rem\">CARDINAL</span>\n",
       "</mark>\n",
       " times (\n",
       "<mark class=\"entity\" style=\"background: #bfe1d9; padding: 0.45em 0.6em; margin: 0 0.25em; line-height: 1; border-radius: 0.35em;\">\n",
       "    1982\n",
       "    <span style=\"font-size: 0.8em; font-weight: bold; line-height: 1; border-radius: 0.35em; vertical-align: middle; margin-left: 0.5rem\">DATE</span>\n",
       "</mark>\n",
       ", \n",
       "<mark class=\"entity\" style=\"background: #bfe1d9; padding: 0.45em 0.6em; margin: 0 0.25em; line-height: 1; border-radius: 0.35em;\">\n",
       "    '90\n",
       "    <span style=\"font-size: 0.8em; font-weight: bold; line-height: 1; border-radius: 0.35em; vertical-align: middle; margin-left: 0.5rem\">DATE</span>\n",
       "</mark>\n",
       ", \n",
       "<mark class=\"entity\" style=\"background: #bfe1d9; padding: 0.45em 0.6em; margin: 0 0.25em; line-height: 1; border-radius: 0.35em;\">\n",
       "    '98\n",
       "    <span style=\"font-size: 0.8em; font-weight: bold; line-height: 1; border-radius: 0.35em; vertical-align: middle; margin-left: 0.5rem\">DATE</span>\n",
       "</mark>\n",
       ", '02). The women's softball team won national championships \n",
       "<mark class=\"entity\" style=\"background: #e4e7d2; padding: 0.45em 0.6em; margin: 0 0.25em; line-height: 1; border-radius: 0.35em;\">\n",
       "    five\n",
       "    <span style=\"font-size: 0.8em; font-weight: bold; line-height: 1; border-radius: 0.35em; vertical-align: middle; margin-left: 0.5rem\">CARDINAL</span>\n",
       "</mark>\n",
       " times (\n",
       "<mark class=\"entity\" style=\"background: #bfe1d9; padding: 0.45em 0.6em; margin: 0 0.25em; line-height: 1; border-radius: 0.35em;\">\n",
       "    1981\n",
       "    <span style=\"font-size: 0.8em; font-weight: bold; line-height: 1; border-radius: 0.35em; vertical-align: middle; margin-left: 0.5rem\">DATE</span>\n",
       "</mark>\n",
       " (\n",
       "<mark class=\"entity\" style=\"background: #7aecec; padding: 0.45em 0.6em; margin: 0 0.25em; line-height: 1; border-radius: 0.35em;\">\n",
       "    AIAW Div\n",
       "    <span style=\"font-size: 0.8em; font-weight: bold; line-height: 1; border-radius: 0.35em; vertical-align: middle; margin-left: 0.5rem\">ORG</span>\n",
       "</mark>\n",
       ". \n",
       "<mark class=\"entity\" style=\"background: #7aecec; padding: 0.45em 0.6em; margin: 0 0.25em; line-height: 1; border-radius: 0.35em;\">\n",
       "    III\n",
       "    <span style=\"font-size: 0.8em; font-weight: bold; line-height: 1; border-radius: 0.35em; vertical-align: middle; margin-left: 0.5rem\">ORG</span>\n",
       "</mark>\n",
       "), '\n",
       "<mark class=\"entity\" style=\"background: #e4e7d2; padding: 0.45em 0.6em; margin: 0 0.25em; line-height: 1; border-radius: 0.35em;\">\n",
       "    82\n",
       "    <span style=\"font-size: 0.8em; font-weight: bold; line-height: 1; border-radius: 0.35em; vertical-align: middle; margin-left: 0.5rem\">CARDINAL</span>\n",
       "</mark>\n",
       ", '85, \n",
       "<mark class=\"entity\" style=\"background: #bfe1d9; padding: 0.45em 0.6em; margin: 0 0.25em; line-height: 1; border-radius: 0.35em;\">\n",
       "    '86\n",
       "    <span style=\"font-size: 0.8em; font-weight: bold; line-height: 1; border-radius: 0.35em; vertical-align: middle; margin-left: 0.5rem\">DATE</span>\n",
       "</mark>\n",
       ", and '90 − \n",
       "<mark class=\"entity\" style=\"background: #7aecec; padding: 0.45em 0.6em; margin: 0 0.25em; line-height: 1; border-radius: 0.35em;\">\n",
       "    NCAA\n",
       "    <span style=\"font-size: 0.8em; font-weight: bold; line-height: 1; border-radius: 0.35em; vertical-align: middle; margin-left: 0.5rem\">ORG</span>\n",
       "</mark>\n",
       ").</br></br></br>== Campus ==</br>\n",
       "<mark class=\"entity\" style=\"background: #7aecec; padding: 0.45em 0.6em; margin: 0 0.25em; line-height: 1; border-radius: 0.35em;\">\n",
       "    Eastern\n",
       "    <span style=\"font-size: 0.8em; font-weight: bold; line-height: 1; border-radius: 0.35em; vertical-align: middle; margin-left: 0.5rem\">ORG</span>\n",
       "</mark>\n",
       "'s campus, which is spread \n",
       "<mark class=\"entity\" style=\"background: #e4e7d2; padding: 0.45em 0.6em; margin: 0 0.25em; line-height: 1; border-radius: 0.35em;\">\n",
       "    over 182 acres\n",
       "    <span style=\"font-size: 0.8em; font-weight: bold; line-height: 1; border-radius: 0.35em; vertical-align: middle; margin-left: 0.5rem\">QUANTITY</span>\n",
       "</mark>\n",
       " (\n",
       "<mark class=\"entity\" style=\"background: #e4e7d2; padding: 0.45em 0.6em; margin: 0 0.25em; line-height: 1; border-radius: 0.35em;\">\n",
       "    0.74\n",
       "    <span style=\"font-size: 0.8em; font-weight: bold; line-height: 1; border-radius: 0.35em; vertical-align: middle; margin-left: 0.5rem\">CARDINAL</span>\n",
       "</mark>\n",
       " km2), is divided into \n",
       "<mark class=\"entity\" style=\"background: #e4e7d2; padding: 0.45em 0.6em; margin: 0 0.25em; line-height: 1; border-radius: 0.35em;\">\n",
       "    three\n",
       "    <span style=\"font-size: 0.8em; font-weight: bold; line-height: 1; border-radius: 0.35em; vertical-align: middle; margin-left: 0.5rem\">CARDINAL</span>\n",
       "</mark>\n",
       " areas: \n",
       "<mark class=\"entity\" style=\"background: #feca74; padding: 0.45em 0.6em; margin: 0 0.25em; line-height: 1; border-radius: 0.35em;\">\n",
       "    South Campus\n",
       "    <span style=\"font-size: 0.8em; font-weight: bold; line-height: 1; border-radius: 0.35em; vertical-align: middle; margin-left: 0.5rem\">GPE</span>\n",
       "</mark>\n",
       ", \n",
       "<mark class=\"entity\" style=\"background: #aa9cfc; padding: 0.45em 0.6em; margin: 0 0.25em; line-height: 1; border-radius: 0.35em;\">\n",
       "    North Campus\n",
       "    <span style=\"font-size: 0.8em; font-weight: bold; line-height: 1; border-radius: 0.35em; vertical-align: middle; margin-left: 0.5rem\">PERSON</span>\n",
       "</mark>\n",
       ", and \n",
       "<mark class=\"entity\" style=\"background: #7aecec; padding: 0.45em 0.6em; margin: 0 0.25em; line-height: 1; border-radius: 0.35em;\">\n",
       "    the University Sports Complex\n",
       "    <span style=\"font-size: 0.8em; font-weight: bold; line-height: 1; border-radius: 0.35em; vertical-align: middle; margin-left: 0.5rem\">ORG</span>\n",
       "</mark>\n",
       ". \n",
       "<mark class=\"entity\" style=\"background: #7aecec; padding: 0.45em 0.6em; margin: 0 0.25em; line-height: 1; border-radius: 0.35em;\">\n",
       "    South Campus\n",
       "    <span style=\"font-size: 0.8em; font-weight: bold; line-height: 1; border-radius: 0.35em; vertical-align: middle; margin-left: 0.5rem\">ORG</span>\n",
       "</mark>\n",
       " is the historic part of the university and includes buildings such as \n",
       "<mark class=\"entity\" style=\"background: #9cc9cc; padding: 0.45em 0.6em; margin: 0 0.25em; line-height: 1; border-radius: 0.35em;\">\n",
       "    Burr Hall\n",
       "    <span style=\"font-size: 0.8em; font-weight: bold; line-height: 1; border-radius: 0.35em; vertical-align: middle; margin-left: 0.5rem\">FAC</span>\n",
       "</mark>\n",
       ", the school's \n",
       "<mark class=\"entity\" style=\"background: #e4e7d2; padding: 0.45em 0.6em; margin: 0 0.25em; line-height: 1; border-radius: 0.35em;\">\n",
       "    first\n",
       "    <span style=\"font-size: 0.8em; font-weight: bold; line-height: 1; border-radius: 0.35em; vertical-align: middle; margin-left: 0.5rem\">ORDINAL</span>\n",
       "</mark>\n",
       " dormitory, which dates back to \n",
       "<mark class=\"entity\" style=\"background: #bfe1d9; padding: 0.45em 0.6em; margin: 0 0.25em; line-height: 1; border-radius: 0.35em;\">\n",
       "    1921\n",
       "    <span style=\"font-size: 0.8em; font-weight: bold; line-height: 1; border-radius: 0.35em; vertical-align: middle; margin-left: 0.5rem\">DATE</span>\n",
       "</mark>\n",
       ". \n",
       "<mark class=\"entity\" style=\"background: #aa9cfc; padding: 0.45em 0.6em; margin: 0 0.25em; line-height: 1; border-radius: 0.35em;\">\n",
       "    North Campus\n",
       "    <span style=\"font-size: 0.8em; font-weight: bold; line-height: 1; border-radius: 0.35em; vertical-align: middle; margin-left: 0.5rem\">PERSON</span>\n",
       "</mark>\n",
       ", the more modern part of the university, is home to the library, the fine arts instructional center, and the student center.</br></br></br>== Notable alumni ==</br>Chimamanda \n",
       "<mark class=\"entity\" style=\"background: #aa9cfc; padding: 0.45em 0.6em; margin: 0 0.25em; line-height: 1; border-radius: 0.35em;\">\n",
       "    Ngozi Adichie - Nigerian\n",
       "    <span style=\"font-size: 0.8em; font-weight: bold; line-height: 1; border-radius: 0.35em; vertical-align: middle; margin-left: 0.5rem\">PERSON</span>\n",
       "</mark>\n",
       " writer</br>\n",
       "<mark class=\"entity\" style=\"background: #aa9cfc; padding: 0.45em 0.6em; margin: 0 0.25em; line-height: 1; border-radius: 0.35em;\">\n",
       "    Pat Boyd\n",
       "    <span style=\"font-size: 0.8em; font-weight: bold; line-height: 1; border-radius: 0.35em; vertical-align: middle; margin-left: 0.5rem\">PERSON</span>\n",
       "</mark>\n",
       " – Connecticut \n",
       "<mark class=\"entity\" style=\"background: #7aecec; padding: 0.45em 0.6em; margin: 0 0.25em; line-height: 1; border-radius: 0.35em;\">\n",
       "    State\n",
       "    <span style=\"font-size: 0.8em; font-weight: bold; line-height: 1; border-radius: 0.35em; vertical-align: middle; margin-left: 0.5rem\">ORG</span>\n",
       "</mark>\n",
       " Representative</br>\n",
       "<mark class=\"entity\" style=\"background: #aa9cfc; padding: 0.45em 0.6em; margin: 0 0.25em; line-height: 1; border-radius: 0.35em;\">\n",
       "    Christopher D. Coutu - Former\n",
       "    <span style=\"font-size: 0.8em; font-weight: bold; line-height: 1; border-radius: 0.35em; vertical-align: middle; margin-left: 0.5rem\">PERSON</span>\n",
       "</mark>\n",
       " Connecticut State Representative</br>\n",
       "<mark class=\"entity\" style=\"background: #aa9cfc; padding: 0.45em 0.6em; margin: 0 0.25em; line-height: 1; border-radius: 0.35em;\">\n",
       "    William A. Cugno - Adjutant\n",
       "    <span style=\"font-size: 0.8em; font-weight: bold; line-height: 1; border-radius: 0.35em; vertical-align: middle; margin-left: 0.5rem\">PERSON</span>\n",
       "</mark>\n",
       " General of \n",
       "<mark class=\"entity\" style=\"background: #7aecec; padding: 0.45em 0.6em; margin: 0 0.25em; line-height: 1; border-radius: 0.35em;\">\n",
       "    the Connecticut National Guard\n",
       "    <span style=\"font-size: 0.8em; font-weight: bold; line-height: 1; border-radius: 0.35em; vertical-align: middle; margin-left: 0.5rem\">ORG</span>\n",
       "</mark>\n",
       "</br>\n",
       "<mark class=\"entity\" style=\"background: #aa9cfc; padding: 0.45em 0.6em; margin: 0 0.25em; line-height: 1; border-radius: 0.35em;\">\n",
       "    Edward Gaffney - Michigan\n",
       "    <span style=\"font-size: 0.8em; font-weight: bold; line-height: 1; border-radius: 0.35em; vertical-align: middle; margin-left: 0.5rem\">PERSON</span>\n",
       "</mark>\n",
       " State Representative</br>\n",
       "<mark class=\"entity\" style=\"background: #aa9cfc; padding: 0.45em 0.6em; margin: 0 0.25em; line-height: 1; border-radius: 0.35em;\">\n",
       "    David W. Gay - Adjutant\n",
       "    <span style=\"font-size: 0.8em; font-weight: bold; line-height: 1; border-radius: 0.35em; vertical-align: middle; margin-left: 0.5rem\">PERSON</span>\n",
       "</mark>\n",
       " General of \n",
       "<mark class=\"entity\" style=\"background: #7aecec; padding: 0.45em 0.6em; margin: 0 0.25em; line-height: 1; border-radius: 0.35em;\">\n",
       "    the Connecticut National Guard\n",
       "    <span style=\"font-size: 0.8em; font-weight: bold; line-height: 1; border-radius: 0.35em; vertical-align: middle; margin-left: 0.5rem\">ORG</span>\n",
       "</mark>\n",
       "</br>\n",
       "<mark class=\"entity\" style=\"background: #aa9cfc; padding: 0.45em 0.6em; margin: 0 0.25em; line-height: 1; border-radius: 0.35em;\">\n",
       "    Camille Kostek\n",
       "    <span style=\"font-size: 0.8em; font-weight: bold; line-height: 1; border-radius: 0.35em; vertical-align: middle; margin-left: 0.5rem\">PERSON</span>\n",
       "</mark>\n",
       " - model who was on the cover of \n",
       "<mark class=\"entity\" style=\"background: #7aecec; padding: 0.45em 0.6em; margin: 0 0.25em; line-height: 1; border-radius: 0.35em;\">\n",
       "    Sports Illustrated Swimsuit\n",
       "    <span style=\"font-size: 0.8em; font-weight: bold; line-height: 1; border-radius: 0.35em; vertical-align: middle; margin-left: 0.5rem\">ORG</span>\n",
       "</mark>\n",
       " Issue</br>\n",
       "<mark class=\"entity\" style=\"background: #aa9cfc; padding: 0.45em 0.6em; margin: 0 0.25em; line-height: 1; border-radius: 0.35em;\">\n",
       "    Victoria Leigh Soto - Sandy Hook Elementary School\n",
       "    <span style=\"font-size: 0.8em; font-weight: bold; line-height: 1; border-radius: 0.35em; vertical-align: middle; margin-left: 0.5rem\">PERSON</span>\n",
       "</mark>\n",
       " teacher killed in the massacre</br>\n",
       "<mark class=\"entity\" style=\"background: #aa9cfc; padding: 0.45em 0.6em; margin: 0 0.25em; line-height: 1; border-radius: 0.35em;\">\n",
       "    Susan Wilson - Author\n",
       "    <span style=\"font-size: 0.8em; font-weight: bold; line-height: 1; border-radius: 0.35em; vertical-align: middle; margin-left: 0.5rem\">PERSON</span>\n",
       "</mark>\n",
       "</br></br></br>== See also ==</br>Connecticut State University System</br>WECS</br></br></br>== References ==</br></br></br>== External links ==</br>Official website</div></span>"
      ],
      "text/plain": [
       "<IPython.core.display.HTML object>"
      ]
     },
     "metadata": {},
     "output_type": "display_data"
    }
   ],
   "source": [
    "from spacy import displacy\n",
    "displacy.render(doc, style=\"ent\")"
   ]
  },
  {
   "cell_type": "markdown",
   "metadata": {
    "deletable": false,
    "editable": false
   },
   "source": [
    "### Question 10 <span style = 'font-size: 80%'>[10 points]</span>\n",
    "\n",
    "(a) Iterate through each token and output all of the dates. Note that if a token is a date then its entity label *ent.label_* will be equal to 'DATE'"
   ]
  },
  {
   "cell_type": "code",
   "execution_count": 89,
   "metadata": {},
   "outputs": [
    {
     "data": {
      "text/html": [
       "<span class=\"tex2jax_ignore\"><div class=\"entities\" style=\"line-height: 2.5; direction: ltr\">Eastern Connecticut State University (Eastern, Eastern Connecticut, Eastern Connecticut State, or ECSU) is a public liberal arts university in Willimantic, Connecticut. Founded in \n",
       "<mark class=\"entity\" style=\"background: #bfe1d9; padding: 0.45em 0.6em; margin: 0 0.25em; line-height: 1; border-radius: 0.35em;\">\n",
       "    1889\n",
       "    <span style=\"font-size: 0.8em; font-weight: bold; line-height: 1; border-radius: 0.35em; vertical-align: middle; margin-left: 0.5rem\">DATE</span>\n",
       "</mark>\n",
       ", it is the second-oldest campus in the Connecticut State University System and third-oldest public university in the state. Eastern is located on Windham Street in Willimantic, Connecticut, on 182 acres (0.74 km2) 30 minutes from Hartford, lying midway between New York City and Boston. Although the majority of courses are held on the main campus, select classes take place at Manchester Community College, Capital Community College, and a satellite center in Groton.</br>Eastern Connecticut State University is a member of the Connecticut State Colleges &amp; Universities.</br></br></br>== History ==</br>The Connecticut General Assembly established the Willimantic State Normal School in \n",
       "<mark class=\"entity\" style=\"background: #bfe1d9; padding: 0.45em 0.6em; margin: 0 0.25em; line-height: 1; border-radius: 0.35em;\">\n",
       "    1889\n",
       "    <span style=\"font-size: 0.8em; font-weight: bold; line-height: 1; border-radius: 0.35em; vertical-align: middle; margin-left: 0.5rem\">DATE</span>\n",
       "</mark>\n",
       ". As a normal school, the institution trained schoolteachers. The first class was of thirteen female students, who attended classes on the third floor of the Willimantic Savings Institute. The first male student entered in 1893.In 1890, the Town of Windham deeded 6 acres (24,000 m2) to the State of Connecticut for construction of a new campus for the school. The larger campus was completed in \n",
       "<mark class=\"entity\" style=\"background: #bfe1d9; padding: 0.45em 0.6em; margin: 0 0.25em; line-height: 1; border-radius: 0.35em;\">\n",
       "    1895\n",
       "    <span style=\"font-size: 0.8em; font-weight: bold; line-height: 1; border-radius: 0.35em; vertical-align: middle; margin-left: 0.5rem\">DATE</span>\n",
       "</mark>\n",
       ". The first dormitory, Burr Hall, opened in \n",
       "<mark class=\"entity\" style=\"background: #bfe1d9; padding: 0.45em 0.6em; margin: 0 0.25em; line-height: 1; border-radius: 0.35em;\">\n",
       "    September 1921\n",
       "    <span style=\"font-size: 0.8em; font-weight: bold; line-height: 1; border-radius: 0.35em; vertical-align: middle; margin-left: 0.5rem\">DATE</span>\n",
       "</mark>\n",
       ". The institution was renamed Willimantic State Teachers College in \n",
       "<mark class=\"entity\" style=\"background: #bfe1d9; padding: 0.45em 0.6em; margin: 0 0.25em; line-height: 1; border-radius: 0.35em;\">\n",
       "    1937\n",
       "    <span style=\"font-size: 0.8em; font-weight: bold; line-height: 1; border-radius: 0.35em; vertical-align: middle; margin-left: 0.5rem\">DATE</span>\n",
       "</mark>\n",
       ", after it began granting bachelor's degrees. The original Normal School building was destroyed in a fire and replaced by Shafer Hall, which was dedicated in 1946.The State College created its first graduate program (in education) in \n",
       "<mark class=\"entity\" style=\"background: #bfe1d9; padding: 0.45em 0.6em; margin: 0 0.25em; line-height: 1; border-radius: 0.35em;\">\n",
       "    1953\n",
       "    <span style=\"font-size: 0.8em; font-weight: bold; line-height: 1; border-radius: 0.35em; vertical-align: middle; margin-left: 0.5rem\">DATE</span>\n",
       "</mark>\n",
       ". After expanding its programs and campus, it became Eastern Connecticut State College in \n",
       "<mark class=\"entity\" style=\"background: #bfe1d9; padding: 0.45em 0.6em; margin: 0 0.25em; line-height: 1; border-radius: 0.35em;\">\n",
       "    1967\n",
       "    <span style=\"font-size: 0.8em; font-weight: bold; line-height: 1; border-radius: 0.35em; vertical-align: middle; margin-left: 0.5rem\">DATE</span>\n",
       "</mark>\n",
       ", and Eastern Connecticut State University in \n",
       "<mark class=\"entity\" style=\"background: #bfe1d9; padding: 0.45em 0.6em; margin: 0 0.25em; line-height: 1; border-radius: 0.35em;\">\n",
       "    1983\n",
       "    <span style=\"font-size: 0.8em; font-weight: bold; line-height: 1; border-radius: 0.35em; vertical-align: middle; margin-left: 0.5rem\">DATE</span>\n",
       "</mark>\n",
       ".</br></br></br>== Academics ==</br></br>Academically, the university is organized into three schools, the School of Arts and Sciences, the School of Education and Professional Studies, and the School of Continuing Education. Graduate study programs offered through the School of Education and Professional Studies and include Education, Teacher Certification, and Organizational Management.</br></br></br>== Institute for Sustainable Energy ==</br>The Institute for Sustainable Energy was opened in \n",
       "<mark class=\"entity\" style=\"background: #bfe1d9; padding: 0.45em 0.6em; margin: 0 0.25em; line-height: 1; border-radius: 0.35em;\">\n",
       "    2001\n",
       "    <span style=\"font-size: 0.8em; font-weight: bold; line-height: 1; border-radius: 0.35em; vertical-align: middle; margin-left: 0.5rem\">DATE</span>\n",
       "</mark>\n",
       " and focuses on sustainable energy education, serving as a source for sustainable energy information, assistance in sustainable energy policy making, and assistance in implementing sustainable energy solutions. The institute is located at 182 High Street. The current director is William Leahy.In 2012 Eastern had a stationary phosphoric acid fuel cell, known as the PureCell System Model 400, installed on the west side of its Science Building. Eastern will use 100 percent of the energy produced by the fuel cell system to provide a majority of the power required for the Science Building, while maximizing the use of the heat output available. Under a \n",
       "<mark class=\"entity\" style=\"background: #bfe1d9; padding: 0.45em 0.6em; margin: 0 0.25em; line-height: 1; border-radius: 0.35em;\">\n",
       "    10-year\n",
       "    <span style=\"font-size: 0.8em; font-weight: bold; line-height: 1; border-radius: 0.35em; vertical-align: middle; margin-left: 0.5rem\">DATE</span>\n",
       "</mark>\n",
       " Energy Services Agreement (ESA) with ClearEdge Power, the installation was made possible by a federal American Recovery and Reinvestment Act (ARRA) grant through CEFIA.</br></br></br>== Housing ==</br>87 percent of \n",
       "<mark class=\"entity\" style=\"background: #bfe1d9; padding: 0.45em 0.6em; margin: 0 0.25em; line-height: 1; border-radius: 0.35em;\">\n",
       "    first-year\n",
       "    <span style=\"font-size: 0.8em; font-weight: bold; line-height: 1; border-radius: 0.35em; vertical-align: middle; margin-left: 0.5rem\">DATE</span>\n",
       "</mark>\n",
       " students, and 60 percent of all full-time undergraduates live in college housing. The campus is separated into \n",
       "<mark class=\"entity\" style=\"background: #bfe1d9; padding: 0.45em 0.6em; margin: 0 0.25em; line-height: 1; border-radius: 0.35em;\">\n",
       "    first-year\n",
       "    <span style=\"font-size: 0.8em; font-weight: bold; line-height: 1; border-radius: 0.35em; vertical-align: middle; margin-left: 0.5rem\">DATE</span>\n",
       "</mark>\n",
       " halls and upperclassman halls. All students with sophomore status and higher are eligible to live in upperclassman halls. There are six \n",
       "<mark class=\"entity\" style=\"background: #bfe1d9; padding: 0.45em 0.6em; margin: 0 0.25em; line-height: 1; border-radius: 0.35em;\">\n",
       "    first-year\n",
       "    <span style=\"font-size: 0.8em; font-weight: bold; line-height: 1; border-radius: 0.35em; vertical-align: middle; margin-left: 0.5rem\">DATE</span>\n",
       "</mark>\n",
       " halls, five upperclassman halls and two sets of apartments.</br></br></br>== Student organizations ==</br>Eastern offers more than 80 student organizations in which students can participate, including athletic, political, cultural, artistic and communication clubs. The campus newscast is ETV. The Student Government Association is the liaison between the student body and university administration and each residence hall has a student council that plans events and trips for hall residents.</br></br></br>== Athletics ==</br></br>Eastern's sports teams are known as the &quot;Warriors&quot; and are represented by a logo depicting a shield superior to two crossed swords. The university is a member of the NCAA Division III, the Little East Conference and the Eastern College Athletic Conference. Men's varsity sports include baseball, basketball, cross country, lacrosse, soccer, and indoor and outdoor track and field. Women's varsity sports include basketball, cross country, field hockey, lacrosse, soccer, softball, swimming, indoor and outdoor track and field, and volleyball.Intramural sports include men's and women's tennis league, co-ed indoor and outdoor soccer, co-ed dodgeball, men's and women's flag football, men's and women's volleyball, co-ed softball, ultimate frisbee league, men's and women's basketball league, co-ed floor hockey, wiffle ball tournament, golf. Club sports include competitive cheerleading, fencing club, football club, ice hockey club and rugby club.The men's baseball team won the NCAA Division III national championship four times (\n",
       "<mark class=\"entity\" style=\"background: #bfe1d9; padding: 0.45em 0.6em; margin: 0 0.25em; line-height: 1; border-radius: 0.35em;\">\n",
       "    1982\n",
       "    <span style=\"font-size: 0.8em; font-weight: bold; line-height: 1; border-radius: 0.35em; vertical-align: middle; margin-left: 0.5rem\">DATE</span>\n",
       "</mark>\n",
       ", \n",
       "<mark class=\"entity\" style=\"background: #bfe1d9; padding: 0.45em 0.6em; margin: 0 0.25em; line-height: 1; border-radius: 0.35em;\">\n",
       "    '90\n",
       "    <span style=\"font-size: 0.8em; font-weight: bold; line-height: 1; border-radius: 0.35em; vertical-align: middle; margin-left: 0.5rem\">DATE</span>\n",
       "</mark>\n",
       ", \n",
       "<mark class=\"entity\" style=\"background: #bfe1d9; padding: 0.45em 0.6em; margin: 0 0.25em; line-height: 1; border-radius: 0.35em;\">\n",
       "    '98\n",
       "    <span style=\"font-size: 0.8em; font-weight: bold; line-height: 1; border-radius: 0.35em; vertical-align: middle; margin-left: 0.5rem\">DATE</span>\n",
       "</mark>\n",
       ", '02). The women's softball team won national championships five times (\n",
       "<mark class=\"entity\" style=\"background: #bfe1d9; padding: 0.45em 0.6em; margin: 0 0.25em; line-height: 1; border-radius: 0.35em;\">\n",
       "    1981\n",
       "    <span style=\"font-size: 0.8em; font-weight: bold; line-height: 1; border-radius: 0.35em; vertical-align: middle; margin-left: 0.5rem\">DATE</span>\n",
       "</mark>\n",
       " (AIAW Div. III), '82, '85, \n",
       "<mark class=\"entity\" style=\"background: #bfe1d9; padding: 0.45em 0.6em; margin: 0 0.25em; line-height: 1; border-radius: 0.35em;\">\n",
       "    '86\n",
       "    <span style=\"font-size: 0.8em; font-weight: bold; line-height: 1; border-radius: 0.35em; vertical-align: middle; margin-left: 0.5rem\">DATE</span>\n",
       "</mark>\n",
       ", and '90 − NCAA).</br></br></br>== Campus ==</br>Eastern's campus, which is spread over 182 acres (0.74 km2), is divided into three areas: South Campus, North Campus, and the University Sports Complex. South Campus is the historic part of the university and includes buildings such as Burr Hall, the school's first dormitory, which dates back to \n",
       "<mark class=\"entity\" style=\"background: #bfe1d9; padding: 0.45em 0.6em; margin: 0 0.25em; line-height: 1; border-radius: 0.35em;\">\n",
       "    1921\n",
       "    <span style=\"font-size: 0.8em; font-weight: bold; line-height: 1; border-radius: 0.35em; vertical-align: middle; margin-left: 0.5rem\">DATE</span>\n",
       "</mark>\n",
       ". North Campus, the more modern part of the university, is home to the library, the fine arts instructional center, and the student center.</br></br></br>== Notable alumni ==</br>Chimamanda Ngozi Adichie - Nigerian writer</br>Pat Boyd – Connecticut State Representative</br>Christopher D. Coutu - Former Connecticut State Representative</br>William A. Cugno - Adjutant General of the Connecticut National Guard</br>Edward Gaffney - Michigan State Representative</br>David W. Gay - Adjutant General of the Connecticut National Guard</br>Camille Kostek - model who was on the cover of Sports Illustrated Swimsuit Issue</br>Victoria Leigh Soto - Sandy Hook Elementary School teacher killed in the massacre</br>Susan Wilson - Author</br></br></br>== See also ==</br>Connecticut State University System</br>WECS</br></br></br>== References ==</br></br></br>== External links ==</br>Official website</div></span>"
      ],
      "text/plain": [
       "<IPython.core.display.HTML object>"
      ]
     },
     "metadata": {},
     "output_type": "display_data"
    }
   ],
   "source": [
    "options = {'ents': ['Date']}\n",
    "displacy.render(doc, style='ent', jupyter=True, options=options)"
   ]
  },
  {
   "cell_type": "code",
   "execution_count": 80,
   "metadata": {},
   "outputs": [
    {
     "data": {
      "text/html": [
       "<div>\n",
       "<style scoped>\n",
       "    .dataframe tbody tr th:only-of-type {\n",
       "        vertical-align: middle;\n",
       "    }\n",
       "\n",
       "    .dataframe tbody tr th {\n",
       "        vertical-align: top;\n",
       "    }\n",
       "\n",
       "    .dataframe thead th {\n",
       "        text-align: right;\n",
       "    }\n",
       "</style>\n",
       "<table border=\"1\" class=\"dataframe\">\n",
       "  <thead>\n",
       "    <tr style=\"text-align: right;\">\n",
       "      <th></th>\n",
       "      <th>Text</th>\n",
       "      <th>Label</th>\n",
       "    </tr>\n",
       "  </thead>\n",
       "  <tbody>\n",
       "    <tr>\n",
       "      <th>0</th>\n",
       "      <td>Eastern Connecticut State University</td>\n",
       "      <td>ORG</td>\n",
       "    </tr>\n",
       "    <tr>\n",
       "      <th>1</th>\n",
       "      <td>Eastern</td>\n",
       "      <td>ORG</td>\n",
       "    </tr>\n",
       "    <tr>\n",
       "      <th>2</th>\n",
       "      <td>Eastern Connecticut</td>\n",
       "      <td>GPE</td>\n",
       "    </tr>\n",
       "    <tr>\n",
       "      <th>3</th>\n",
       "      <td>Eastern Connecticut State</td>\n",
       "      <td>ORG</td>\n",
       "    </tr>\n",
       "    <tr>\n",
       "      <th>4</th>\n",
       "      <td>ECSU</td>\n",
       "      <td>ORG</td>\n",
       "    </tr>\n",
       "    <tr>\n",
       "      <th>...</th>\n",
       "      <td>...</td>\n",
       "      <td>...</td>\n",
       "    </tr>\n",
       "    <tr>\n",
       "      <th>124</th>\n",
       "      <td>the Connecticut National Guard</td>\n",
       "      <td>ORG</td>\n",
       "    </tr>\n",
       "    <tr>\n",
       "      <th>125</th>\n",
       "      <td>Camille Kostek</td>\n",
       "      <td>PERSON</td>\n",
       "    </tr>\n",
       "    <tr>\n",
       "      <th>126</th>\n",
       "      <td>Sports Illustrated Swimsuit</td>\n",
       "      <td>ORG</td>\n",
       "    </tr>\n",
       "    <tr>\n",
       "      <th>127</th>\n",
       "      <td>Victoria Leigh Soto - Sandy Hook Elementary Sc...</td>\n",
       "      <td>PERSON</td>\n",
       "    </tr>\n",
       "    <tr>\n",
       "      <th>128</th>\n",
       "      <td>Susan Wilson - Author</td>\n",
       "      <td>PERSON</td>\n",
       "    </tr>\n",
       "  </tbody>\n",
       "</table>\n",
       "<p>129 rows × 2 columns</p>\n",
       "</div>"
      ],
      "text/plain": [
       "                                                  Text   Label\n",
       "0                 Eastern Connecticut State University     ORG\n",
       "1                                              Eastern     ORG\n",
       "2                                  Eastern Connecticut     GPE\n",
       "3                            Eastern Connecticut State     ORG\n",
       "4                                                 ECSU     ORG\n",
       "..                                                 ...     ...\n",
       "124                     the Connecticut National Guard     ORG\n",
       "125                                     Camille Kostek  PERSON\n",
       "126                        Sports Illustrated Swimsuit     ORG\n",
       "127  Victoria Leigh Soto - Sandy Hook Elementary Sc...  PERSON\n",
       "128                              Susan Wilson - Author  PERSON\n",
       "\n",
       "[129 rows x 2 columns]"
      ]
     },
     "execution_count": 80,
     "metadata": {},
     "output_type": "execute_result"
    }
   ],
   "source": [
    "entities = [ (ent.text, ent.label_) for ent in doc.ents]\n",
    "pd.DataFrame(entities, columns = ['Text','Label'])"
   ]
  },
  {
   "cell_type": "markdown",
   "metadata": {
    "deletable": false,
    "editable": false
   },
   "source": [
    "(b) In *spacy*, the sentences are stored in *doc.sents*. For a sentence *s*, we can also get its named entities by using *s.ent*. The code below uses *nested* for loops to iterate through each named entity of each sentence, and prints out the sentence if it contains a date. Copy this code, but modify the *if* statement condition and *print* statement to print out each sentence if it contains a date. Note that *break* is used to break out of the inner loop (otherwise you would print a sentence multiple times if it contained  multiple dates).\n",
    "\n",
    "```python\n",
    "# for each setence in the document\n",
    "for s in doc.sents :\n",
    "    # for each entity in the sentence\n",
    "    for ent in s.ents :        \n",
    "        # if the entity is a date\n",
    "        if the entity is a date :\n",
    "            # print out the sentence\n",
    "            print out the sentence\n",
    "            break\n",
    "```"
   ]
  },
  {
   "cell_type": "code",
   "execution_count": null,
   "metadata": {},
   "outputs": [],
   "source": []
  }
 ],
 "metadata": {
  "kernelspec": {
   "display_name": "Python 3 (ipykernel)",
   "language": "python",
   "name": "python3"
  },
  "language_info": {
   "codemirror_mode": {
    "name": "ipython",
    "version": 3
   },
   "file_extension": ".py",
   "mimetype": "text/x-python",
   "name": "python",
   "nbconvert_exporter": "python",
   "pygments_lexer": "ipython3",
   "version": "3.9.7"
  }
 },
 "nbformat": 4,
 "nbformat_minor": 2
}
