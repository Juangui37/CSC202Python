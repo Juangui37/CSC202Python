{
 "cells": [
  {
   "cell_type": "code",
   "execution_count": 1,
   "id": "38667f39",
   "metadata": {},
   "outputs": [],
   "source": [
    "import tweepy\n",
    "import credentials\n",
    "\n",
    "client = tweepy.client.Client(bearer_token = credentials.BEARER_TOKEN, consumer_key = credentials.API_KEY, consumer_secret = credentials.API_KEY_SECRET)"
   ]
  },
  {
   "cell_type": "markdown",
   "id": "b0cd4dc9",
   "metadata": {},
   "source": [
    "1. Use the Twitter API to retrieve profile information for Eastern’s twitter account (EasternCTStateU), and answer the questions below. Note that you will need to specify the correct user_fields to get all of the information being asked for. Valid user fields can be found here: https://developer.twitter.com/en/docs/twitter-api/data- dictionary/object-model/user.\n",
    "a. Print out a summary of Eastern’s account using the following format, where the correct information is extracted from the user object. [10 points]\n",
    "Name: (name) Username: (username) Description: (description) Location: (user location)\n",
    "b. Print out the following, where 3732 is the number of followers (stored in followers_count) and 114 is the number of friends (stored in following_count). Note that this information can be found in the public_metrics field. [10 points]\n",
    "Eastern has 3732 followers and 114 friends\n"
   ]
  },
  {
   "cell_type": "code",
   "execution_count": 2,
   "id": "f5733781",
   "metadata": {},
   "outputs": [
    {
     "data": {
      "text/plain": [
       "<User id=226561689 name=Eastern CT State University username=EasternCTStateU>"
      ]
     },
     "execution_count": 2,
     "metadata": {},
     "output_type": "execute_result"
    }
   ],
   "source": [
    "eastern = client.get_user(username='EasternCTStateU',\n",
    "                          user_fields = ['description','location','public_metrics'])\n",
    "eastern.data"
   ]
  },
  {
   "cell_type": "code",
   "execution_count": 3,
   "id": "b008cec6",
   "metadata": {},
   "outputs": [
    {
     "name": "stdout",
     "output_type": "stream",
     "text": [
      "Name: Eastern CT State University\n",
      "User name: EasternCTStateU\n",
      "Description: The official Twitter feed for Eastern Connecticut State University, Connecticut's only designated public liberal arts university.\n",
      "Location: Willimantic, Connecticut\n"
     ]
    }
   ],
   "source": [
    "print('Name:', eastern.data.name)\n",
    "print('User name:', eastern.data.username)\n",
    "print('Description:',eastern.data.description)\n",
    "print('Location:', eastern.data.location)\n",
    "\n"
   ]
  },
  {
   "cell_type": "code",
   "execution_count": 4,
   "id": "141eee41",
   "metadata": {},
   "outputs": [
    {
     "name": "stdout",
     "output_type": "stream",
     "text": [
      "Eastern has 3731 followers and 114 friends\n"
     ]
    }
   ],
   "source": [
    "print('Eastern has',eastern.data.public_metrics['followers_count'],'followers and',eastern.data.public_metrics['following_count'],'friends')"
   ]
  },
  {
   "cell_type": "markdown",
   "id": "47e8604b",
   "metadata": {},
   "source": [
    "2. Use the Twitter API to search for English-language tweets containing 'Daylight Saving Time’ that are retweets. Note that to search specifically for retweets, you should include the following in your search string: filter:retweet. You will also need to use the correct tweet_fields and expansion to get the relevant metrics and user information. As in the class example, you must create a users_dictionary so that you can look up the author of a tweet by the author_id."
   ]
  },
  {
   "cell_type": "code",
   "execution_count": 8,
   "id": "5842ac43",
   "metadata": {},
   "outputs": [
    {
     "name": "stdout",
     "output_type": "stream",
     "text": [
      "RT @CircadianClocks: See Op-Ed by @ErikHerzog and me on DST. @medpagetoday @genevievefri @SRBR_Outreach \n",
      "Opinion | Permanent Daylight Savin… \n",
      "\n",
      "RT @pat_kingsley: Yet another fantastic and well-researched piece. And @CNET is no small media outlet. Well done! @SaveStandard  https://t.… \n",
      "\n",
      "RT @SaveStandard: “Standard Time is better aligned with the position of the sun and human nature.” Thank you, Bloomberg Opinion Editorial B… \n",
      "\n",
      "RT @bopinion: While we can all agree that moving backward and forward in time twice a year is an absolute pain, there’s a dilemma. Which wa… \n",
      "\n",
      "RT @pat_kingsley: Yet another fantastic and well-researched piece. And @CNET is no small media outlet. Well done! @SaveStandard  https://t.… \n",
      "\n",
      "RT @pat_kingsley: Yet another fantastic and well-researched piece. And @CNET is no small media outlet. Well done! @SaveStandard  https://t.… \n",
      "\n",
      "RT @StartSchoolL8r: @drsleepykarin: “People really need morning sunlight to set their clock and keep them aligned... When we aren’t aligned… \n",
      "\n",
      "RT @SaveStandard: “Standard Time is better aligned with the position of the sun and human nature.” Thank you, Bloomberg Opinion Editorial B… \n",
      "\n",
      "RT @pat_kingsley: Yet another fantastic and well-researched piece. And @CNET is no small media outlet. Well done! @SaveStandard  https://t.… \n",
      "\n",
      "RT @CircadianClocks: See Op-Ed by @ErikHerzog and me on DST. @medpagetoday @genevievefri @SRBR_Outreach \n",
      "Opinion | Permanent Daylight Savin… \n",
      "\n"
     ]
    }
   ],
   "source": [
    "results = client.search_recent_tweets('Daylight Saving Time lang:en is:retweet')\n",
    "results\n",
    "\n",
    "for tweet in results.data :\n",
    "    print(tweet.text, '\\n')"
   ]
  },
  {
   "cell_type": "code",
   "execution_count": 10,
   "id": "54ccc8e7",
   "metadata": {},
   "outputs": [
    {
     "data": {
      "text/plain": [
       "10"
      ]
     },
     "execution_count": 10,
     "metadata": {},
     "output_type": "execute_result"
    }
   ],
   "source": [
    "len(results.data)"
   ]
  },
  {
   "cell_type": "code",
   "execution_count": 11,
   "id": "dd2e6680",
   "metadata": {},
   "outputs": [],
   "source": [
    "results = client.search_recent_tweets('spring break lang:en', expansions = 'author_id', tweet_fields = 'public_metrics')\n",
    "users_dictionary = { u.id:u for u in results.includes['users']}"
   ]
  },
  {
   "cell_type": "code",
   "execution_count": 14,
   "id": "1e0f972f",
   "metadata": {},
   "outputs": [
    {
     "data": {
      "text/plain": [
       "[<User id=1413436889093361667 name=Furless Unicorn Alurine Everblue username=maninthearmor>,\n",
       " <User id=599062005 name=Travis username=insanesarcasm>,\n",
       " <User id=3692762234 name=Naoki Ishida username=naokiishidabot>,\n",
       " <User id=311266072 name=capital_morbo username=bsas_pibe>,\n",
       " <User id=16861749 name=Joe Utsler username=crazyunclejoe>,\n",
       " <User id=733410019140476928 name=J-Man username=college_stud_>,\n",
       " <User id=32498024 name=Jon Sutz username=JonSutz>,\n",
       " <User id=18849062 name=🇺🇸 Vote in EVERY election, esp School Board 🇺🇸 username=PeopleDied2Vote>,\n",
       " <User id=14427407 name=#WVTM13 username=WVTM13>,\n",
       " <User id=1102064201764347904 name=Angel username=Angel44782510>]"
      ]
     },
     "execution_count": 14,
     "metadata": {},
     "output_type": "execute_result"
    }
   ],
   "source": [
    "results.includes['users']"
   ]
  },
  {
   "cell_type": "code",
   "execution_count": 30,
   "id": "eb84945b",
   "metadata": {},
   "outputs": [
    {
     "name": "stdout",
     "output_type": "stream",
     "text": [
      "User Name: maninthearmor\n",
      "Tweet: RT @Moekaki69: Android 18. SPRING BREAK! \n",
      "🥂🍻🍾🥃👙🩳 https://t.co/laoq5VBrJZ\n",
      "URL: https://twitter.com/i/web/status/1508572021466320900\n",
      "\n",
      "User Name: insanesarcasm\n",
      "Tweet: RT @jordiecreates: I really wish spring break existed in life after school\n",
      "URL: https://twitter.com/i/web/status/1508572021462122501\n",
      "\n",
      "User Name: naokiishidabot\n",
      "Tweet: whats naoki's favourite vacation time?\n",
      "spring break!\n",
      "URL: https://twitter.com/i/web/status/1508571999500910593\n",
      "\n",
      "User Name: bsas_pibe\n",
      "Tweet: RT @edgingHUNG: Edge35 (vol.2): he came back from spring break with a 4 day load 💦💦 RT if you want to see the vid \n",
      "\n",
      "Tips and tributes appre…\n",
      "URL: https://twitter.com/i/web/status/1508571998787543040\n",
      "\n",
      "User Name: crazyunclejoe\n",
      "Tweet: @mimismartypants yep.  Our spring break was a couple of weeks ago. Stay strong, mama.  Having the kind of kid you miss is worth missing 'em. It doesn't make it easier, though.\n",
      "URL: https://twitter.com/i/web/status/1508571985873293312\n",
      "\n"
     ]
    }
   ],
   "source": [
    "for tweet in results.data[:5]:\n",
    "    print('User Name:',users_dictionary[tweet.author_id])\n",
    "    print('Tweet:',tweet.text)\n",
    "    print('URL: https://twitter.com/i/web/status/', tweet.id, sep = '')\n",
    "    print('')\n",
    "    \n"
   ]
  },
  {
   "cell_type": "code",
   "execution_count": 32,
   "id": "22382749",
   "metadata": {},
   "outputs": [
    {
     "name": "stdout",
     "output_type": "stream",
     "text": [
      "User Name: maninthearmor\n",
      "Likes: 0\n",
      "# of retweets 23\n",
      "\n",
      "User Name: insanesarcasm\n",
      "Likes: 0\n",
      "# of retweets 1\n",
      "\n",
      "User Name: naokiishidabot\n",
      "Likes: 0\n",
      "# of retweets 0\n",
      "\n",
      "User Name: bsas_pibe\n",
      "Likes: 0\n",
      "# of retweets 188\n",
      "\n",
      "User Name: crazyunclejoe\n",
      "Likes: 0\n",
      "# of retweets 0\n",
      "\n",
      "User Name: college_stud_\n",
      "Likes: 0\n",
      "# of retweets 1\n",
      "\n",
      "User Name: JonSutz\n",
      "Likes: 0\n",
      "# of retweets 0\n",
      "\n",
      "User Name: PeopleDied2Vote\n",
      "Likes: 0\n",
      "# of retweets 0\n",
      "\n",
      "User Name: WVTM13\n",
      "Likes: 0\n",
      "# of retweets 0\n",
      "\n",
      "User Name: Angel44782510\n",
      "Likes: 0\n",
      "# of retweets 20\n",
      "\n"
     ]
    }
   ],
   "source": [
    "for tweet in results.data[:]:\n",
    "    print('User Name:',users_dictionary[tweet.author_id])\n",
    "    print('Likes:',tweet.public_metrics['like_count'])\n",
    "    print('# of retweets', tweet.public_metrics['retweet_count'])\n",
    "    print('')\n",
    "    \n",
    "\n"
   ]
  },
  {
   "cell_type": "code",
   "execution_count": 33,
   "id": "e4219bd4",
   "metadata": {},
   "outputs": [],
   "source": [
    "great = 0"
   ]
  },
  {
   "cell_type": "code",
   "execution_count": 35,
   "id": "79b9a60e",
   "metadata": {},
   "outputs": [],
   "source": [
    "for tweet in results.data:\n",
    "    if tweet.public_metrics['retweet_count'] > great:\n",
    "        great = tweet.public_metrics['retweet_count']\n",
    "\n",
    "    "
   ]
  },
  {
   "cell_type": "code",
   "execution_count": 36,
   "id": "f3560ef1",
   "metadata": {},
   "outputs": [
    {
     "name": "stdout",
     "output_type": "stream",
     "text": [
      "Most retweeted: RT @edgingHUNG: Edge35 (vol.2): he came back from spring break with a 4 day load 💦💦 RT if you want to see the vid \n",
      "\n",
      "Tips and tributes appre…\n"
     ]
    }
   ],
   "source": [
    "for tweet in results.data:\n",
    "    if tweet.public_metrics['retweet_count'] == great:\n",
    "        print('Most retweeted:',tweet.text)\n",
    "        \n",
    "        "
   ]
  },
  {
   "cell_type": "code",
   "execution_count": 7,
   "id": "50cdab98",
   "metadata": {},
   "outputs": [
    {
     "data": {
      "text/plain": [
       "1508570874013634562"
      ]
     },
     "execution_count": 7,
     "metadata": {},
     "output_type": "execute_result"
    }
   ],
   "source": [
    "#tweet1.id"
   ]
  },
  {
   "cell_type": "code",
   "execution_count": 17,
   "id": "eb36e634",
   "metadata": {},
   "outputs": [
    {
     "name": "stdout",
     "output_type": "stream",
     "text": [
      "https://twitter.com/i/web/status/1508552390919737355\n"
     ]
    }
   ],
   "source": [
    "#print('https://twitter.com/i/web/status/', tweet1.id, sep = '')"
   ]
  },
  {
   "cell_type": "code",
   "execution_count": 22,
   "id": "8f4dd443",
   "metadata": {},
   "outputs": [],
   "source": [
    "#results = client.search_recent_tweets('spring break lang:en', expansions = 'author_id', user_fields = 'description')\n",
    "#users_dictionary = { u.id:u for u in results.includes['users']}"
   ]
  },
  {
   "cell_type": "code",
   "execution_count": 19,
   "id": "7b95065c",
   "metadata": {},
   "outputs": [
    {
     "name": "stdout",
     "output_type": "stream",
     "text": [
      "User: mjbrimecombe\n",
      "Description: Dr. B. Assistant Professor Sport Management at Mizzou | @Mizzou @mizzousptmgt | Hangs out in the Anheuser-Busch building all day. UMASS, GaSo, FSU Alumni.\n",
      "\n",
      "Tweet: I know it’s spring break and all, but, hey… heads up PRST 2010 &amp; 3185… @mizzousptmgt https://t.co/xDuSdEqTwG\n"
     ]
    }
   ],
   "source": [
    "#tweet1 = results.data[0]\n",
    "#user1 = users_dictionary[tweet1.author_id]\n",
    "\n",
    "#print('User Name:', user1.username)\n",
    "#print('Description:', user1.description)\n",
    "#print()\n",
    "#print('Tweet:', tweet1.text)"
   ]
  },
  {
   "cell_type": "code",
   "execution_count": 23,
   "id": "3bada9c6",
   "metadata": {},
   "outputs": [
    {
     "name": "stdout",
     "output_type": "stream",
     "text": [
      "User Name: jackiebertella\n",
      "\n",
      "Tweet: Spring Break 2022!   @crobjr12 #springbreak https://t.co/YuR9YNDOCS\n"
     ]
    }
   ],
   "source": [
    "#tweet1 = results.data[0]\n",
    "#user1 = users_dictionary[tweet1.author_id]\n",
    "\n",
    "#print('User Name:', user1.username)\n",
    "#print('Description:', user1.description)\n",
    "#print()\n",
    "#print('Tweet:', tweet1.text)"
   ]
  },
  {
   "cell_type": "code",
   "execution_count": 26,
   "id": "f9ffeb36",
   "metadata": {},
   "outputs": [
    {
     "ename": "SyntaxError",
     "evalue": "unexpected EOF while parsing (1749289187.py, line 2)",
     "output_type": "error",
     "traceback": [
      "\u001b[0;36m  File \u001b[0;32m\"/var/folders/4d/q5zngvpn4yd8kq0w166v0b8c0000gn/T/ipykernel_63380/1749289187.py\"\u001b[0;36m, line \u001b[0;32m2\u001b[0m\n\u001b[0;31m    \u001b[0m\n\u001b[0m    ^\u001b[0m\n\u001b[0;31mSyntaxError\u001b[0m\u001b[0;31m:\u001b[0m unexpected EOF while parsing\n"
     ]
    }
   ],
   "source": [
    "#results = client.search_recent_tweets('spring break lang:en', expansions = ['author_id'], user_fields = ['description', 'organic_metrics']\n",
    "#users_dictionary = { u.id:u for u in results.includes['users']}\n"
   ]
  }
 ],
 "metadata": {
  "kernelspec": {
   "display_name": "Python 3 (ipykernel)",
   "language": "python",
   "name": "python3"
  },
  "language_info": {
   "codemirror_mode": {
    "name": "ipython",
    "version": 3
   },
   "file_extension": ".py",
   "mimetype": "text/x-python",
   "name": "python",
   "nbconvert_exporter": "python",
   "pygments_lexer": "ipython3",
   "version": "3.9.7"
  }
 },
 "nbformat": 4,
 "nbformat_minor": 5
}
