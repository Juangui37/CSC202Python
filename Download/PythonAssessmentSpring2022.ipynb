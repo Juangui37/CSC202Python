{
 "cells": [
  {
   "cell_type": "markdown",
   "metadata": {
    "deletable": false,
    "editable": false
   },
   "source": [
    "# Python Assessment, Spring 2022\n",
    "\n",
    "**Note**: If the notebook gets stuck, you should restart the kernel by selecting Kernel -> Restart from the menu above. It is also recommended that you save and checkpoint your notebook as you complete each problem. You can do this by selecting File -> Save and Checkpoint or by using the keyboard shortcut Ctrl + S.\n",
    "\n",
    "Your grade will be calculated based on a total of 55 points."
   ]
  },
  {
   "cell_type": "markdown",
   "metadata": {},
   "source": [
    "### Name: (add name here) [1 point]"
   ]
  },
  {
   "cell_type": "markdown",
   "metadata": {
    "deletable": false,
    "editable": false
   },
   "source": [
    "### Question 1 <span style = 'font-size:80%'>[3 points]</span>\n",
    "\n",
    "Write a Python statement that outputs the text \"Here we go!\""
   ]
  },
  {
   "cell_type": "code",
   "execution_count": 1,
   "metadata": {},
   "outputs": [
    {
     "name": "stdout",
     "output_type": "stream",
     "text": [
      "Here we go!\n"
     ]
    }
   ],
   "source": [
    "print(\"Here we go!\")"
   ]
  },
  {
   "cell_type": "markdown",
   "metadata": {
    "deletable": false,
    "editable": false
   },
   "source": [
    "### Question 2 <span style = 'font-size:80%'>[3 points]</span>\n",
    "\n",
    "Create a variable called *name* that stores your first name"
   ]
  },
  {
   "cell_type": "code",
   "execution_count": 3,
   "metadata": {},
   "outputs": [],
   "source": [
    "name = \"Juan\""
   ]
  },
  {
   "cell_type": "code",
   "execution_count": 4,
   "metadata": {},
   "outputs": [
    {
     "data": {
      "text/plain": [
       "'Juan'"
      ]
     },
     "execution_count": 4,
     "metadata": {},
     "output_type": "execute_result"
    }
   ],
   "source": [
    "name"
   ]
  },
  {
   "cell_type": "markdown",
   "metadata": {
    "deletable": false,
    "editable": false
   },
   "source": [
    "### Question 3 <span style = 'font-size:80%'>[3 points]</span>\n",
    "\n",
    "Complete the code below to output 'This course is: CSC 202', using the value of *course*."
   ]
  },
  {
   "cell_type": "code",
   "execution_count": 5,
   "metadata": {},
   "outputs": [
    {
     "name": "stdout",
     "output_type": "stream",
     "text": [
      "This course is: CSC 202\n"
     ]
    }
   ],
   "source": [
    "course = 'CSC 202'\n",
    "\n",
    "print(\"This course is:\", course)"
   ]
  },
  {
   "cell_type": "markdown",
   "metadata": {
    "deletable": false,
    "editable": false
   },
   "source": [
    "### Question 4 <span style = 'font-size:80%'>[3 points]</span>\n",
    "\n",
    "Complete the code below to output 'This course is CSC 202.', using the value of *course*.\n",
    "Note that there is a period at the end of the sentence."
   ]
  },
  {
   "cell_type": "code",
   "execution_count": 11,
   "metadata": {},
   "outputs": [
    {
     "name": "stdout",
     "output_type": "stream",
     "text": [
      "This course is: CSC 202.\n"
     ]
    }
   ],
   "source": [
    "course = 'CSC 202'\n",
    "print (\"This course is: \" + str(course) + \".\")"
   ]
  },
  {
   "cell_type": "markdown",
   "metadata": {
    "deletable": false,
    "editable": false
   },
   "source": [
    "### Question 5 <span style = 'font-size:80%'>[4 points]</span>\n",
    "The formula for converting a temperature in degrees Fahrenheit to Celsius is $(F - 32)\\times \\frac{5}{9}$.\n",
    "\n",
    "Convert the temperature below from Fahrenheit to Celsius, and output the result. You should only output the temperature in degrees Celsius. For example, for the temperature below (212 degrees Fahrenheit), you just need to output the value 100.0 (Note: do not worry about formatting the decimal)"
   ]
  },
  {
   "cell_type": "code",
   "execution_count": 13,
   "metadata": {},
   "outputs": [
    {
     "name": "stdout",
     "output_type": "stream",
     "text": [
      "212 degrees Fahrenheit --> 100 degrees Celsius\n"
     ]
    }
   ],
   "source": [
    "F = 212\n",
    "Celsius = (F - 32)*(5/9)\n",
    "\n",
    "\n",
    "print(F,\"degrees Fahrenheit -->\", round(Celsius),\"degrees Celsius\")"
   ]
  },
  {
   "cell_type": "markdown",
   "metadata": {
    "deletable": false,
    "editable": false
   },
   "source": [
    "### Question 6 <span style = 'font-size:80%'>[3 points]</span>\n",
    "Create a list called *people* containing the names 'Bob', 'Alice', and 'Mary'"
   ]
  },
  {
   "cell_type": "code",
   "execution_count": 12,
   "metadata": {},
   "outputs": [
    {
     "data": {
      "text/plain": [
       "['Bob', 'Alice', 'Mary']"
      ]
     },
     "execution_count": 12,
     "metadata": {},
     "output_type": "execute_result"
    }
   ],
   "source": [
    "people = ['Bob', 'Alice', 'Mary']\n",
    "people"
   ]
  },
  {
   "cell_type": "markdown",
   "metadata": {
    "deletable": false,
    "editable": false
   },
   "source": [
    "### Question 7 <span style = 'font-size:80%'>[5 points]</span>\n",
    "Answer the questions using the sentence stored in *s* below. Note that your code should display the correct answers for any string stored in *s* (i.e., they should not be specific to 'This is a sentence')."
   ]
  },
  {
   "cell_type": "code",
   "execution_count": 14,
   "metadata": {
    "deletable": false,
    "editable": false
   },
   "outputs": [],
   "source": [
    "s = 'This is a sentence'"
   ]
  },
  {
   "cell_type": "markdown",
   "metadata": {
    "deletable": false,
    "editable": false
   },
   "source": [
    "(a) How many characters are in the string?"
   ]
  },
  {
   "cell_type": "code",
   "execution_count": 15,
   "metadata": {},
   "outputs": [
    {
     "data": {
      "text/plain": [
       "18"
      ]
     },
     "execution_count": 15,
     "metadata": {},
     "output_type": "execute_result"
    }
   ],
   "source": [
    "len(s)"
   ]
  },
  {
   "cell_type": "markdown",
   "metadata": {
    "deletable": false,
    "editable": false
   },
   "source": [
    "(b) Output the first character"
   ]
  },
  {
   "cell_type": "code",
   "execution_count": 16,
   "metadata": {},
   "outputs": [
    {
     "data": {
      "text/plain": [
       "'T'"
      ]
     },
     "execution_count": 16,
     "metadata": {},
     "output_type": "execute_result"
    }
   ],
   "source": [
    "s[0]"
   ]
  },
  {
   "cell_type": "markdown",
   "metadata": {
    "deletable": false,
    "editable": false
   },
   "source": [
    "(c) Output the last character"
   ]
  },
  {
   "cell_type": "code",
   "execution_count": 17,
   "metadata": {},
   "outputs": [
    {
     "data": {
      "text/plain": [
       "'e'"
      ]
     },
     "execution_count": 17,
     "metadata": {},
     "output_type": "execute_result"
    }
   ],
   "source": [
    "s[-1]"
   ]
  },
  {
   "cell_type": "markdown",
   "metadata": {
    "deletable": false,
    "editable": false
   },
   "source": [
    "### Question 8 <span style = 'font-size:80%'>[5 points]</span>\n",
    "\n",
    "Use a *loop* to iterate through each character of *s* from the previous question in order to count the number of times the character 'e' appears in the string."
   ]
  },
  {
   "cell_type": "code",
   "execution_count": 20,
   "metadata": {},
   "outputs": [
    {
     "name": "stdout",
     "output_type": "stream",
     "text": [
      "count =  3\n"
     ]
    }
   ],
   "source": [
    "count = 0\n",
    "\n",
    "for ch in s:\n",
    "    if ch == 'e' :\n",
    "        count = count + 1\n",
    "print('count = ', count)"
   ]
  },
  {
   "cell_type": "markdown",
   "metadata": {
    "deletable": false,
    "editable": false
   },
   "source": [
    "### Question 9 <span style = 'font-size:80%'>[5 points]</span>\n",
    "The *color* variable in the code below stores the value of the color of a traffic light. Output the following, depending on the color:\n",
    "- green: output 'go'\n",
    "- yellow: output 'caution'\n",
    "- red: output 'stop'\n",
    "- anything else: output 'broken'"
   ]
  },
  {
   "cell_type": "code",
   "execution_count": 22,
   "metadata": {},
   "outputs": [
    {
     "name": "stdout",
     "output_type": "stream",
     "text": [
      "go\n"
     ]
    }
   ],
   "source": [
    "color = 'green'\n",
    "\n",
    "if color == 'green' :\n",
    "    print(\"go\")\n",
    "elif color == 'yellow' : \n",
    "    print('slow down (or speed up)')\n",
    "elif color == 'red':\n",
    "    print('stop')\n",
    "else:\n",
    "    print('traffic light is broken')"
   ]
  },
  {
   "cell_type": "code",
   "execution_count": 23,
   "metadata": {},
   "outputs": [
    {
     "name": "stdout",
     "output_type": "stream",
     "text": [
      "Type in a color:green\n",
      "go\n"
     ]
    }
   ],
   "source": [
    "color = input('Type in a color:').lower()\n",
    "\n",
    "if color == 'green' :\n",
    "    print(\"go\")\n",
    "elif color == 'yellow' : \n",
    "    print('slow down (or speed up)')\n",
    "elif color == 'red':\n",
    "    print('stop')\n",
    "else:\n",
    "    print('traffic light is broken')"
   ]
  },
  {
   "cell_type": "markdown",
   "metadata": {
    "deletable": false,
    "editable": false
   },
   "source": [
    "### Question 10 <span style = 'font-size:80%'>[5 points]</span>\n",
    "Use multiple distinct *if...else* statements to output the following:\n",
    "\n",
    "- if *age* is 18 or over, then output 'You can vote.'; otherwise, output 'You cannot vote.'\n",
    "- if *age* is 21 or over, then output 'You can drink.'; otherwise, output 'You cannot drink.'\n",
    "\n",
    "For example, if age was 20, the output would be:\n",
    "\n",
    "```\n",
    "You can vote.\n",
    "You cannot drink.\n",
    "```"
   ]
  },
  {
   "cell_type": "code",
   "execution_count": 30,
   "metadata": {},
   "outputs": [
    {
     "name": "stdout",
     "output_type": "stream",
     "text": [
      "Enter your age: 9\n",
      "you cannot vote\n",
      "You cannot drink\n"
     ]
    }
   ],
   "source": [
    "age = int(input('Enter your age: '))\n",
    "\n",
    "if age >=18:\n",
    "    print(\"You can vote\")\n",
    "else: \n",
    "    print(\"you cannot vote\")\n",
    "    \n",
    "if age >=21 :\n",
    "    print(\"You can drink\")\n",
    "else:\n",
    "    print(\"You cannot drink\")"
   ]
  },
  {
   "cell_type": "markdown",
   "metadata": {
    "deletable": false,
    "editable": false
   },
   "source": [
    "### Question 11 <span style = 'font-size:80%'>[5 points]</span>\n",
    "Use a *for* loop to output the positive numbers in the *nums* list."
   ]
  },
  {
   "cell_type": "code",
   "execution_count": 25,
   "metadata": {
    "deletable": false,
    "editable": false
   },
   "outputs": [],
   "source": [
    "nums = [9,-8,7,-6,3,2,-1,3,10,9]"
   ]
  },
  {
   "cell_type": "code",
   "execution_count": 26,
   "metadata": {},
   "outputs": [
    {
     "name": "stdout",
     "output_type": "stream",
     "text": [
      "9 7 3 2 3 10 9 "
     ]
    }
   ],
   "source": [
    "\n",
    "for num in nums:\n",
    "    if num >= 0:\n",
    "       print(num, end = \" \")"
   ]
  },
  {
   "cell_type": "markdown",
   "metadata": {
    "deletable": false,
    "editable": false
   },
   "source": [
    "### Questions 12 and 13\n",
    "\n",
    "The code below creates *three* lists, which contain the first name, last name, and age of 5 people.\n",
    "Use these lists to answer the next 2 questions."
   ]
  },
  {
   "cell_type": "code",
   "execution_count": 2,
   "metadata": {
    "deletable": false,
    "editable": false
   },
   "outputs": [],
   "source": [
    "fNames = ['Brenda', 'Eddie', 'Jack', 'Diane', 'Zak']\n",
    "lNames = ['Jones', 'Walker', 'Brown', 'Walker', 'Marshall']\n",
    "ages = [57, 62, 21, 34, 41]    "
   ]
  },
  {
   "cell_type": "markdown",
   "metadata": {
    "deletable": false,
    "editable": false
   },
   "source": [
    "### Question 12 <span style = 'font-size:80%'>[5 points]</span>\n",
    "\n",
    "\n",
    "Use *zip* to output the first and last names of each individual. \n",
    "\n",
    "Your output should have the format:\n",
    "    \n",
    "```\n",
    "Brenda Jones\n",
    "Eddie Walker\n",
    "Jack Brown\n",
    "...\n",
    "```"
   ]
  },
  {
   "cell_type": "code",
   "execution_count": 3,
   "metadata": {},
   "outputs": [
    {
     "name": "stdout",
     "output_type": "stream",
     "text": [
      "Brenda Jones\n",
      "Eddie Walker\n",
      "Jack Brown\n",
      "Diane Walker\n",
      "Zak Marshall\n"
     ]
    }
   ],
   "source": [
    "for first, last in zip(fNames, lNames):\n",
    "    print(first, last)"
   ]
  },
  {
   "cell_type": "code",
   "execution_count": 4,
   "metadata": {},
   "outputs": [
    {
     "name": "stdout",
     "output_type": "stream",
     "text": [
      "['Brenda', 'Eddie', 'Jack', 'Diane', 'Zak'] ['Jones', 'Walker', 'Brown', 'Walker', 'Marshall']\n"
     ]
    }
   ],
   "source": [
    "zip(fNames, lNames)\n",
    "print(fNames,lNames)"
   ]
  },
  {
   "cell_type": "markdown",
   "metadata": {
    "deletable": false,
    "editable": false
   },
   "source": [
    "### Question 13 <span style = 'font-size:80%'>[5 points]</span>\n",
    "\n",
    "\n",
    "Output the full name of the oldest individual by completing the two steps below:\n",
    "\n",
    "(a) Use *enumerate* to find the *index* of the age that is the largest. Your code should set the value of *li* (largest index) to this *index*, and this should be the correct index for any list of *ages*. However, if you cannot complete this question, you can use the index provided below.\n",
    "\n",
    "(b) Using the *index* from (a), output the oldest individual, using the following format:\n",
    "\n",
    "```\n",
    "Oldest: Eddie Walker is 62 years old\n",
    "```\n"
   ]
  },
  {
   "cell_type": "code",
   "execution_count": 5,
   "metadata": {},
   "outputs": [],
   "source": [
    "li = 2"
   ]
  },
  {
   "cell_type": "code",
   "execution_count": 11,
   "metadata": {},
   "outputs": [
    {
     "data": {
      "text/plain": [
       "1"
      ]
     },
     "execution_count": 11,
     "metadata": {},
     "output_type": "execute_result"
    }
   ],
   "source": [
    "li = 2\n",
    "for i, val in enumerate(ages):\n",
    "    if val>ages[li]:\n",
    "        li = i\n",
    "li"
   ]
  },
  {
   "cell_type": "code",
   "execution_count": 13,
   "metadata": {},
   "outputs": [
    {
     "name": "stdout",
     "output_type": "stream",
     "text": [
      "Oldest: Eddie Walker is 62 years old\n"
     ]
    }
   ],
   "source": [
    "print('Oldest:',fNames[li],lNames[li],'is',ages[li],'years old')"
   ]
  },
  {
   "cell_type": "code",
   "execution_count": 77,
   "metadata": {},
   "outputs": [
    {
     "data": {
      "text/plain": [
       "[1]"
      ]
     },
     "execution_count": 77,
     "metadata": {},
     "output_type": "execute_result"
    }
   ],
   "source": [
    "max_value = max(ages)\n",
    "li = [index for index, value in enumerate(ages) if value==max_value]\n",
    "li"
   ]
  },
  {
   "cell_type": "code",
   "execution_count": 78,
   "metadata": {},
   "outputs": [
    {
     "name": "stdout",
     "output_type": "stream",
     "text": [
      "Oldest: Brenda Jones is 57 years old.\n",
      "Oldest: Eddie Walker is 62 years old.\n",
      "Oldest: Jack Brown is 21 years old.\n",
      "Oldest: Diane Walker is 34 years old.\n",
      "Oldest: Zak Marshall is 41 years old.\n"
     ]
    }
   ],
   "source": [
    "for first, last, age in zip(fNames, lNames, ages):\n",
    "    print('Oldest:', first, last, 'is', age, 'years old.')"
   ]
  },
  {
   "cell_type": "code",
   "execution_count": 86,
   "metadata": {},
   "outputs": [
    {
     "ename": "TypeError",
     "evalue": "oldest_p() missing 1 required positional argument: 'ages'",
     "output_type": "error",
     "traceback": [
      "\u001b[0;31m---------------------------------------------------------------------------\u001b[0m",
      "\u001b[0;31mTypeError\u001b[0m                                 Traceback (most recent call last)",
      "\u001b[0;32m<ipython-input-86-06e5261d4036>\u001b[0m in \u001b[0;36m<module>\u001b[0;34m\u001b[0m\n\u001b[1;32m      2\u001b[0m         \u001b[0;32mreturn\u001b[0m \u001b[0mmax\u001b[0m\u001b[0;34m(\u001b[0m\u001b[0mages\u001b[0m\u001b[0;34m)\u001b[0m\u001b[0;34m\u001b[0m\u001b[0;34m\u001b[0m\u001b[0m\n\u001b[1;32m      3\u001b[0m \u001b[0;34m\u001b[0m\u001b[0m\n\u001b[0;32m----> 4\u001b[0;31m \u001b[0mprint\u001b[0m\u001b[0;34m(\u001b[0m\u001b[0moldest_p\u001b[0m\u001b[0;34m(\u001b[0m\u001b[0;34m'oldest:'\u001b[0m\u001b[0;34m,\u001b[0m\u001b[0mfNames\u001b[0m\u001b[0;34m)\u001b[0m\u001b[0;34m)\u001b[0m\u001b[0;34m\u001b[0m\u001b[0;34m\u001b[0m\u001b[0m\n\u001b[0m",
      "\u001b[0;31mTypeError\u001b[0m: oldest_p() missing 1 required positional argument: 'ages'"
     ]
    }
   ],
   "source": [
    "def oldest_p(fNames, lNames, ages):\n",
    "\treturn max(ages)\n",
    "\n",
    "print(oldest_p('oldest:',fNames))"
   ]
  },
  {
   "cell_type": "markdown",
   "metadata": {
    "deletable": false,
    "editable": false
   },
   "source": [
    "### Extra Credit  \n",
    "\n",
    "The code below prompts the user to enter their full name, and then converts the name to a list. Complete the code to output the person's initials, for any number of names entered. For example, if the user enters 'Adam Jones', then your code will output 'AJ'. If the user entered 'Adam Daniel Ron Jones', your code will output 'ADRJ'."
   ]
  },
  {
   "cell_type": "code",
   "execution_count": 38,
   "metadata": {
    "deletable": false,
    "editable": false
   },
   "outputs": [
    {
     "name": "stdout",
     "output_type": "stream",
     "text": [
      "Enter your full name: Juan Guillermo Villegas Salas Bryon\n"
     ]
    },
    {
     "data": {
      "text/plain": [
       "['Juan', 'Guillermo', 'Villegas', 'Salas', 'Bryon']"
      ]
     },
     "execution_count": 38,
     "metadata": {},
     "output_type": "execute_result"
    }
   ],
   "source": [
    "name = input('Enter your full name: ')\n",
    "nameList = name.split()\n",
    "nameList"
   ]
  },
  {
   "cell_type": "code",
   "execution_count": 41,
   "metadata": {},
   "outputs": [
    {
     "name": "stdout",
     "output_type": "stream",
     "text": [
      "Enter your full name: Juan Guillermo Villegas Salas Bryon\n",
      "JGVSB\n"
     ]
    }
   ],
   "source": [
    "name = input('Enter your full name: ')\n",
    "nameList = name.split()\n",
    "nameList\n",
    "initials = [x[0] for x in nameList[0:]]\n",
    "print(*initials, sep = '')"
   ]
  }
 ],
 "metadata": {
  "kernelspec": {
   "display_name": "Python 3",
   "language": "python",
   "name": "python3"
  },
  "language_info": {
   "codemirror_mode": {
    "name": "ipython",
    "version": 3
   },
   "file_extension": ".py",
   "mimetype": "text/x-python",
   "name": "python",
   "nbconvert_exporter": "python",
   "pygments_lexer": "ipython3",
   "version": "3.8.8"
  }
 },
 "nbformat": 4,
 "nbformat_minor": 2
}
