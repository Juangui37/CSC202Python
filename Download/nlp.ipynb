{
 "cells": [
  {
   "cell_type": "markdown",
   "metadata": {
    "deletable": false,
    "editable": false
   },
   "source": [
    "# Natural language processing using TextBlob"
   ]
  },
  {
   "cell_type": "markdown",
   "metadata": {
    "deletable": false,
    "editable": false
   },
   "source": [
    "*Natural language processing (NLP)* involves the analysis and extraction of meaningful information from natural language data, such as speech or text. This notebook demonstrates several *NLP* methods using the Python module *TextBlob* (https://textblob.readthedocs.io/en/dev/).\n",
    "\n",
    "We will look at the following analyses:\n",
    "Tokenization, Stemming, Noun phrase extraction, sentiment analysis, word count analysis, and language translation powered by Google Translate.\n",
    "\n",
    "To use TextBlob, you must import it (see below), and then create a *TextBlob* object. By convention the *TextBlob* object is stored in a variable named *blob*, as in the example below:\n",
    "\n",
    "```python\n",
    "blob = TextBlob('text to analyze')\n",
    "```"
   ]
  },
  {
   "cell_type": "code",
   "execution_count": 3,
   "metadata": {
    "deletable": false,
    "editable": false
   },
   "outputs": [
    {
     "name": "stdout",
     "output_type": "stream",
     "text": [
      "All the world's a stage, and every word a note.\n",
      "And every day is filled with songs you never knew you wrote.\n"
     ]
    },
    {
     "data": {
      "text/plain": [
       "\"All the world's a stage, and every word a note.\\nAnd every day is filled with songs you never knew you wrote.\""
      ]
     },
     "execution_count": 3,
     "metadata": {},
     "output_type": "execute_result"
    }
   ],
   "source": [
    "# Triple quotes are used to denote a multi-line string\n",
    "# Quote from Jude Christodal\n",
    "stage = \"\"\"All the world's a stage, and every word a note.\n",
    "And every day is filled with songs you never knew you wrote.\"\"\"\n",
    "\n",
    "# printing stage will output across multiple lines\n",
    "print(stage)\n",
    "\n",
    "# viewing the string we can see the newline ('\\n') characters\n",
    "stage"
   ]
  },
  {
   "cell_type": "code",
   "execution_count": 4,
   "metadata": {},
   "outputs": [],
   "source": [
    "#to install packages on macbook, go to terminal\n",
    "#activate anaconda with\n",
    "#\"conda activate\"\n",
    "#Then install textblob\n",
    "#\"pip install textblob\"\n",
    "#Now you can import it on jupyter notebook\n",
    "import textblob"
   ]
  },
  {
   "cell_type": "code",
   "execution_count": 5,
   "metadata": {
    "deletable": false,
    "editable": false
   },
   "outputs": [
    {
     "data": {
      "text/plain": [
       "TextBlob(\"All the world's a stage, and every word a note.\n",
       "And every day is filled with songs you never knew you wrote.\")"
      ]
     },
     "execution_count": 5,
     "metadata": {},
     "output_type": "execute_result"
    }
   ],
   "source": [
    "# create a TextBlob object\n",
    "from textblob import TextBlob\n",
    "blob = TextBlob(stage)\n",
    "blob"
   ]
  },
  {
   "cell_type": "markdown",
   "metadata": {
    "deletable": false,
    "editable": false
   },
   "source": [
    "## Tokenization\n",
    "\n",
    "*Tokenization* is the process of splitting text into meaningful pieces (sequences of characters), such as words or sentences. In general, these  pieces are referred to as tokens. TextBlob will automatically parse text into words and sentences. \n",
    "\n",
    "*TextBlob* objects contain many properties (or fields) that can be accessed using the dot ('.') operator. \n",
    "\n",
    "In particular for tokenization, for a *TextBlob* object named *blob*,\n",
    "\n",
    "- *blob.words* returns a list of *words*, stored in a WordList object that behaves like an ordinary *list*\n",
    "- *blob.sentences* returns a list of sentences, stored as a list of Sentence objects"
   ]
  },
  {
   "cell_type": "code",
   "execution_count": 6,
   "metadata": {},
   "outputs": [
    {
     "name": "stderr",
     "output_type": "stream",
     "text": [
      "[nltk_data] Downloading package punkt to\n",
      "[nltk_data]     /Users/juanvillegas/nltk_data...\n",
      "[nltk_data]   Package punkt is already up-to-date!\n"
     ]
    },
    {
     "data": {
      "text/plain": [
       "True"
      ]
     },
     "execution_count": 6,
     "metadata": {},
     "output_type": "execute_result"
    }
   ],
   "source": [
    "import nltk\n",
    "nltk.download('punkt')"
   ]
  },
  {
   "cell_type": "code",
   "execution_count": 7,
   "metadata": {
    "deletable": false,
    "editable": false
   },
   "outputs": [
    {
     "data": {
      "text/plain": [
       "WordList(['All', 'the', 'world', \"'s\", 'a', 'stage', 'and', 'every', 'word', 'a', 'note', 'And', 'every', 'day', 'is', 'filled', 'with', 'songs', 'you', 'never', 'knew', 'you', 'wrote'])"
      ]
     },
     "execution_count": 7,
     "metadata": {},
     "output_type": "execute_result"
    }
   ],
   "source": [
    "# get a list of words\n",
    "blob.words"
   ]
  },
  {
   "cell_type": "code",
   "execution_count": 8,
   "metadata": {},
   "outputs": [
    {
     "data": {
      "text/plain": [
       "'All'"
      ]
     },
     "execution_count": 8,
     "metadata": {},
     "output_type": "execute_result"
    }
   ],
   "source": [
    "len(blob.words)\n",
    "blob.words[0]"
   ]
  },
  {
   "cell_type": "markdown",
   "metadata": {
    "deletable": false,
    "editable": false
   },
   "source": [
    "### Exercise\n",
    "How many words are there? What is the first word?"
   ]
  },
  {
   "cell_type": "code",
   "execution_count": 9,
   "metadata": {},
   "outputs": [
    {
     "data": {
      "text/plain": [
       "23"
      ]
     },
     "execution_count": 9,
     "metadata": {},
     "output_type": "execute_result"
    }
   ],
   "source": [
    "len(blob.words)"
   ]
  },
  {
   "cell_type": "code",
   "execution_count": 10,
   "metadata": {},
   "outputs": [
    {
     "data": {
      "text/plain": [
       "'All'"
      ]
     },
     "execution_count": 10,
     "metadata": {},
     "output_type": "execute_result"
    }
   ],
   "source": [
    "blob.words[0]"
   ]
  },
  {
   "cell_type": "code",
   "execution_count": 11,
   "metadata": {
    "deletable": false,
    "editable": false
   },
   "outputs": [
    {
     "data": {
      "text/plain": [
       "[Sentence(\"All the world's a stage, and every word a note.\"),\n",
       " Sentence(\"And every day is filled with songs you never knew you wrote.\")]"
      ]
     },
     "execution_count": 11,
     "metadata": {},
     "output_type": "execute_result"
    }
   ],
   "source": [
    "# get a list of sentences\n",
    "blob.sentences"
   ]
  },
  {
   "cell_type": "markdown",
   "metadata": {
    "deletable": false,
    "editable": false
   },
   "source": [
    "**Note**: Each sentence has all the properties of a *TextBlob* object."
   ]
  },
  {
   "cell_type": "code",
   "execution_count": 12,
   "metadata": {
    "deletable": false,
    "editable": false
   },
   "outputs": [
    {
     "data": {
      "text/plain": [
       "WordList(['All', 'the', 'world', \"'s\", 'a', 'stage', 'and', 'every', 'word', 'a', 'note'])"
      ]
     },
     "execution_count": 12,
     "metadata": {},
     "output_type": "execute_result"
    }
   ],
   "source": [
    "# get first sentence\n",
    "sentence1 = blob.sentences[0]\n",
    "\n",
    "# Since sentence1 is like a TextBlob, we can get its words using the following\n",
    "sentence1.words"
   ]
  },
  {
   "cell_type": "markdown",
   "metadata": {
    "deletable": false,
    "editable": false
   },
   "source": [
    "## Part of speech tagging\n",
    "\n",
    "*TextBlob* automatically carries out part-of-speech tagging, as shown below. The *tags* property includes a list of tuples in the form (word, part of speech). Common tags include *NN* for noun (singular or mass), *NNS* for noun (plural), and *VBN*, *VBZ*, and *VB* which are different types of verbs. For a list of tags, see https://www.ling.upenn.edu/courses/Fall_2003/ling001/penn_treebank_pos.html"
   ]
  },
  {
   "cell_type": "code",
   "execution_count": 13,
   "metadata": {},
   "outputs": [
    {
     "name": "stderr",
     "output_type": "stream",
     "text": [
      "[nltk_data] Downloading package averaged_perceptron_tagger to\n",
      "[nltk_data]     /Users/juanvillegas/nltk_data...\n",
      "[nltk_data]   Package averaged_perceptron_tagger is already up-to-\n",
      "[nltk_data]       date!\n"
     ]
    },
    {
     "data": {
      "text/plain": [
       "True"
      ]
     },
     "execution_count": 13,
     "metadata": {},
     "output_type": "execute_result"
    }
   ],
   "source": [
    "nltk.download('averaged_perceptron_tagger')"
   ]
  },
  {
   "cell_type": "code",
   "execution_count": 14,
   "metadata": {
    "deletable": false,
    "editable": false
   },
   "outputs": [
    {
     "data": {
      "text/plain": [
       "[('All', 'PDT'),\n",
       " ('the', 'DT'),\n",
       " ('world', 'NN'),\n",
       " (\"'s\", 'POS'),\n",
       " ('a', 'DT'),\n",
       " ('stage', 'NN'),\n",
       " ('and', 'CC'),\n",
       " ('every', 'DT'),\n",
       " ('word', 'NN'),\n",
       " ('a', 'DT'),\n",
       " ('note', 'NN'),\n",
       " ('And', 'CC'),\n",
       " ('every', 'DT'),\n",
       " ('day', 'NN'),\n",
       " ('is', 'VBZ'),\n",
       " ('filled', 'VBN'),\n",
       " ('with', 'IN'),\n",
       " ('songs', 'NNS'),\n",
       " ('you', 'PRP'),\n",
       " ('never', 'RB'),\n",
       " ('knew', 'VBD'),\n",
       " ('you', 'PRP'),\n",
       " ('wrote', 'VBD')]"
      ]
     },
     "execution_count": 14,
     "metadata": {},
     "output_type": "execute_result"
    }
   ],
   "source": [
    "blob.tags"
   ]
  },
  {
   "cell_type": "code",
   "execution_count": 15,
   "metadata": {},
   "outputs": [
    {
     "data": {
      "text/plain": [
       "('All', 'PDT')"
      ]
     },
     "execution_count": 15,
     "metadata": {},
     "output_type": "execute_result"
    }
   ],
   "source": [
    "blob.tags[0]"
   ]
  },
  {
   "cell_type": "markdown",
   "metadata": {
    "deletable": false,
    "editable": false
   },
   "source": [
    "### Exercise\n",
    "Print out all of the nouns (which have tags of 'NN', or 'NNS', 'NNP', or 'NNPS'; no other part of speech contains an 'NN')"
   ]
  },
  {
   "cell_type": "code",
   "execution_count": 16,
   "metadata": {},
   "outputs": [
    {
     "name": "stdout",
     "output_type": "stream",
     "text": [
      "world\n",
      "stage\n",
      "word\n",
      "note\n",
      "day\n",
      "songs\n"
     ]
    }
   ],
   "source": [
    "for word, pos in blob.tags:\n",
    "    \n",
    "    #if word is a noun\n",
    "   # if pos == 'nn':\n",
    "    # If a word contains nn\n",
    "    if 'NN' in pos:\n",
    "        print(word)"
   ]
  },
  {
   "cell_type": "markdown",
   "metadata": {},
   "source": [
    "Create a list of all the nouns"
   ]
  },
  {
   "cell_type": "code",
   "execution_count": 17,
   "metadata": {},
   "outputs": [
    {
     "data": {
      "text/plain": [
       "['world', 'stage', 'word', 'note', 'day', 'songs']"
      ]
     },
     "execution_count": 17,
     "metadata": {},
     "output_type": "execute_result"
    }
   ],
   "source": [
    "nouns = []\n",
    "\n",
    "for word, pos in blob.tags:\n",
    "    if 'NN' in pos:\n",
    "        nouns.append(word)\n",
    "nouns"
   ]
  },
  {
   "cell_type": "code",
   "execution_count": 18,
   "metadata": {},
   "outputs": [
    {
     "data": {
      "text/plain": [
       "['world', 'stage', 'word', 'note', 'day', 'songs']"
      ]
     },
     "execution_count": 18,
     "metadata": {},
     "output_type": "execute_result"
    }
   ],
   "source": [
    "nouns = [ word        for word, pos,             in blob.tags        if 'NN' in pos            ]\n",
    "\n",
    "nouns"
   ]
  },
  {
   "cell_type": "markdown",
   "metadata": {
    "deletable": false,
    "editable": false
   },
   "source": [
    "## Noun phrase extraction\n",
    "\n",
    "*Noun phrase extraction* involves the identification of *noun phrases*, which are phrases that include nouns (possibly following one or more adjectives)\n",
    "\n",
    "For a *TextBlob* object named *blob*, a list of noun phrases are returned using *blob.noun_phrases*."
   ]
  },
  {
   "cell_type": "code",
   "execution_count": 19,
   "metadata": {},
   "outputs": [
    {
     "name": "stderr",
     "output_type": "stream",
     "text": [
      "[nltk_data] Downloading package brown to\n",
      "[nltk_data]     /Users/juanvillegas/nltk_data...\n",
      "[nltk_data]   Package brown is already up-to-date!\n"
     ]
    },
    {
     "data": {
      "text/plain": [
       "True"
      ]
     },
     "execution_count": 19,
     "metadata": {},
     "output_type": "execute_result"
    }
   ],
   "source": [
    "nltk.download('brown')"
   ]
  },
  {
   "cell_type": "code",
   "execution_count": 20,
   "metadata": {
    "deletable": false,
    "editable": false
   },
   "outputs": [
    {
     "data": {
      "text/plain": [
       "WordList(['amy', 'new red car'])"
      ]
     },
     "execution_count": 20,
     "metadata": {},
     "output_type": "execute_result"
    }
   ],
   "source": [
    "blob = TextBlob('Amy has a new red car')\n",
    "blob.noun_phrases"
   ]
  },
  {
   "cell_type": "markdown",
   "metadata": {
    "deletable": false,
    "editable": false
   },
   "source": [
    "## Sentiment analysis\n",
    "\n",
    "A *sentiment analysis* measures the emotional content of text. We will use sentiment analysis to identify text as *positive* or *negative*, though other emotions can also be detected.\n",
    "\n",
    "For a *TextBlob* object named *blob*, its sentiment can be found by using *blob.sentiment*, which will give you a Sentiment object (a named tuple) that contains the following:\n",
    "\n",
    "- polarity: a score between -1 (negative sentiment) and +1 (positive sentiment)\n",
    "- subjectivity: a score between 0 (objective) and +1 (subjective)\n",
    "\n"
   ]
  },
  {
   "cell_type": "code",
   "execution_count": 21,
   "metadata": {
    "deletable": false,
    "editable": false
   },
   "outputs": [
    {
     "data": {
      "text/plain": [
       "Sentiment(polarity=0.5, subjectivity=0.6)"
      ]
     },
     "execution_count": 21,
     "metadata": {},
     "output_type": "execute_result"
    }
   ],
   "source": [
    "blob = TextBlob('I love this class')\n",
    "blob.sentiment"
   ]
  },
  {
   "cell_type": "code",
   "execution_count": 22,
   "metadata": {
    "deletable": false,
    "editable": false
   },
   "outputs": [
    {
     "data": {
      "text/plain": [
       "Sentiment(polarity=-0.375, subjectivity=0.3)"
      ]
     },
     "execution_count": 22,
     "metadata": {},
     "output_type": "execute_result"
    }
   ],
   "source": [
    "blob = TextBlob('This class sucks!')\n",
    "blob.sentiment"
   ]
  },
  {
   "cell_type": "code",
   "execution_count": 23,
   "metadata": {
    "deletable": false,
    "editable": false
   },
   "outputs": [
    {
     "data": {
      "text/plain": [
       "Sentiment(polarity=0.2828125, subjectivity=0.57)"
      ]
     },
     "execution_count": 23,
     "metadata": {},
     "output_type": "execute_result"
    }
   ],
   "source": [
    "# the sentiment of a text blob will represent an average sentiment over multiple sentiments\n",
    "blob = TextBlob('This class is great. This class is awesome. This class sucks. This class sucks!!! This class is okay.')\n",
    "blob.sentiment"
   ]
  },
  {
   "cell_type": "code",
   "execution_count": 24,
   "metadata": {
    "deletable": false,
    "editable": false
   },
   "outputs": [
    {
     "name": "stdout",
     "output_type": "stream",
     "text": [
      "\"This class is great.\" has a polarity of 0.8\n",
      "\"This class is awesome.\" has a polarity of 1.0\n",
      "\"This class sucks.\" has a polarity of -0.3\n",
      "\"This class sucks!!!\" has a polarity of -0.5859375\n",
      "\"This class is okay.\" has a polarity of 0.5\n"
     ]
    }
   ],
   "source": [
    "# but we can find the polarity of each sentence\n",
    "for s in blob.sentences:\n",
    "    print('\"', s, '\" has a polarity of ', s.sentiment.polarity, sep = '')\n"
   ]
  },
  {
   "cell_type": "markdown",
   "metadata": {
    "deletable": false,
    "editable": false
   },
   "source": [
    "## Stemming \n",
    "\n",
    "*Stemming* is a normalization method that takes a word and converts it into a *base* form by removing word endings (suffixes) or prefixes.\n",
    "\n",
    "For a *TextBlob* word object, you can get the *stem* by calling *word.stem()*.\n",
    "\n",
    "Lemmatization is a related technique that takes the word's part of speech into account and returns a dictionary form of the word.\n",
    "\n",
    "Stemming and lemmatization are useful for counting words, since different forms of the same word (like 'runs' and 'run' should probably be counted as one word)."
   ]
  },
  {
   "cell_type": "code",
   "execution_count": 25,
   "metadata": {
    "deletable": false,
    "editable": false
   },
   "outputs": [
    {
     "name": "stdout",
     "output_type": "stream",
     "text": [
      "run: run\n",
      "runs: run\n",
      "running: run\n",
      "ran: ran\n"
     ]
    }
   ],
   "source": [
    "blob = TextBlob('run runs running ran')\n",
    "\n",
    "# get word stems\n",
    "for w in blob.words :\n",
    "    print(w, ': ', w.stem(), sep = '')"
   ]
  },
  {
   "cell_type": "markdown",
   "metadata": {
    "deletable": false,
    "editable": false
   },
   "source": [
    "## Word counts\n",
    "\n",
    "Word counts are automatically calculated when a *TextBlob* object is created. The word counts of a *TextBlob* named *blob* are stored in *blob.word_counts*, which is a default dictionary (a dictionary where keys that do not exist have a default value, which in this case is 0)."
   ]
  },
  {
   "cell_type": "code",
   "execution_count": 26,
   "metadata": {
    "deletable": false,
    "editable": false
   },
   "outputs": [
    {
     "data": {
      "text/plain": [
       "defaultdict(int,\n",
       "            {'so': 1,\n",
       "             'get': 2,\n",
       "             'out': 1,\n",
       "             'your': 1,\n",
       "             'seat': 1,\n",
       "             'and': 2,\n",
       "             'jump': 5,\n",
       "             'around': 3,\n",
       "             'up': 2,\n",
       "             'down': 1})"
      ]
     },
     "execution_count": 26,
     "metadata": {},
     "output_type": "execute_result"
    }
   ],
   "source": [
    "# Song lyrics by House of Pain\n",
    "jump = 'So get out your seat and jump around! Jump around! Jump around! Jump up, jump up and get down!'\n",
    "blob = TextBlob(jump)\n",
    "blob.word_counts"
   ]
  },
  {
   "cell_type": "markdown",
   "metadata": {
    "deletable": false,
    "editable": false
   },
   "source": [
    "How many times does 'jump' appear?"
   ]
  },
  {
   "cell_type": "code",
   "execution_count": 27,
   "metadata": {
    "deletable": false,
    "editable": false
   },
   "outputs": [
    {
     "data": {
      "text/plain": [
       "5"
      ]
     },
     "execution_count": 27,
     "metadata": {},
     "output_type": "execute_result"
    }
   ],
   "source": [
    "blob.word_counts['jump']"
   ]
  },
  {
   "cell_type": "markdown",
   "metadata": {
    "deletable": false,
    "editable": false
   },
   "source": [
    "Because word_counts is a default dictionary, looking up a word not in the dictionary will return 0, and also add the word to the dictionary! Note: we could remove a key from a dictionary *d* by using *d.pop(key)*."
   ]
  },
  {
   "cell_type": "code",
   "execution_count": 28,
   "metadata": {
    "deletable": false,
    "editable": false
   },
   "outputs": [
    {
     "data": {
      "text/plain": [
       "0"
      ]
     },
     "execution_count": 28,
     "metadata": {},
     "output_type": "execute_result"
    }
   ],
   "source": [
    "blob.word_counts['cheese']"
   ]
  },
  {
   "cell_type": "markdown",
   "metadata": {
    "deletable": false,
    "editable": false
   },
   "source": [
    "We can iterate through the keys of a dictionary using a for loop (*for keys in dict*). We also can iterate through key,value pairs of a dictionary by using *dictionary.items()*."
   ]
  },
  {
   "cell_type": "code",
   "execution_count": 29,
   "metadata": {
    "deletable": false,
    "editable": false
   },
   "outputs": [
    {
     "name": "stdout",
     "output_type": "stream",
     "text": [
      "so: 1\n",
      "get: 2\n",
      "out: 1\n",
      "your: 1\n",
      "seat: 1\n",
      "and: 2\n",
      "jump: 5\n",
      "around: 3\n",
      "up: 2\n",
      "down: 1\n",
      "cheese: 0\n"
     ]
    }
   ],
   "source": [
    "for word, count in blob.word_counts.items() :\n",
    "    print(word, ': ', count, sep = '')"
   ]
  },
  {
   "cell_type": "markdown",
   "metadata": {
    "deletable": false,
    "editable": false
   },
   "source": [
    "## Stopwords\n",
    "\n",
    "Stopwords are common words (like 'a' and 'the') that should be ignored when analyzing text.\n",
    "\n",
    "We can get a list of stopwords from the *nltk.corpus*, using the function *stopwords.words()*. We convert this list to a *set*, which is a collection of unordered items (i.e., it is *not* a sequence). The advantage of a set is that it has a constant lookup time, meaning that it is faster to test whether an item is in a set than testing when an item is in a list."
   ]
  },
  {
   "cell_type": "code",
   "execution_count": 30,
   "metadata": {},
   "outputs": [
    {
     "name": "stderr",
     "output_type": "stream",
     "text": [
      "[nltk_data] Downloading package stopwords to\n",
      "[nltk_data]     /Users/juanvillegas/nltk_data...\n",
      "[nltk_data]   Package stopwords is already up-to-date!\n"
     ]
    },
    {
     "data": {
      "text/plain": [
       "True"
      ]
     },
     "execution_count": 30,
     "metadata": {},
     "output_type": "execute_result"
    }
   ],
   "source": [
    "nltk.download('stopwords')"
   ]
  },
  {
   "cell_type": "code",
   "execution_count": 31,
   "metadata": {
    "deletable": false,
    "editable": false
   },
   "outputs": [
    {
     "data": {
      "text/plain": [
       "{'a',\n",
       " 'about',\n",
       " 'above',\n",
       " 'after',\n",
       " 'again',\n",
       " 'against',\n",
       " 'ain',\n",
       " 'all',\n",
       " 'am',\n",
       " 'an',\n",
       " 'and',\n",
       " 'any',\n",
       " 'are',\n",
       " 'aren',\n",
       " \"aren't\",\n",
       " 'as',\n",
       " 'at',\n",
       " 'be',\n",
       " 'because',\n",
       " 'been',\n",
       " 'before',\n",
       " 'being',\n",
       " 'below',\n",
       " 'between',\n",
       " 'both',\n",
       " 'but',\n",
       " 'by',\n",
       " 'can',\n",
       " 'couldn',\n",
       " \"couldn't\",\n",
       " 'd',\n",
       " 'did',\n",
       " 'didn',\n",
       " \"didn't\",\n",
       " 'do',\n",
       " 'does',\n",
       " 'doesn',\n",
       " \"doesn't\",\n",
       " 'doing',\n",
       " 'don',\n",
       " \"don't\",\n",
       " 'down',\n",
       " 'during',\n",
       " 'each',\n",
       " 'few',\n",
       " 'for',\n",
       " 'from',\n",
       " 'further',\n",
       " 'had',\n",
       " 'hadn',\n",
       " \"hadn't\",\n",
       " 'has',\n",
       " 'hasn',\n",
       " \"hasn't\",\n",
       " 'have',\n",
       " 'haven',\n",
       " \"haven't\",\n",
       " 'having',\n",
       " 'he',\n",
       " 'her',\n",
       " 'here',\n",
       " 'hers',\n",
       " 'herself',\n",
       " 'him',\n",
       " 'himself',\n",
       " 'his',\n",
       " 'how',\n",
       " 'i',\n",
       " 'if',\n",
       " 'in',\n",
       " 'into',\n",
       " 'is',\n",
       " 'isn',\n",
       " \"isn't\",\n",
       " 'it',\n",
       " \"it's\",\n",
       " 'its',\n",
       " 'itself',\n",
       " 'just',\n",
       " 'll',\n",
       " 'm',\n",
       " 'ma',\n",
       " 'me',\n",
       " 'mightn',\n",
       " \"mightn't\",\n",
       " 'more',\n",
       " 'most',\n",
       " 'mustn',\n",
       " \"mustn't\",\n",
       " 'my',\n",
       " 'myself',\n",
       " 'needn',\n",
       " \"needn't\",\n",
       " 'no',\n",
       " 'nor',\n",
       " 'not',\n",
       " 'now',\n",
       " 'o',\n",
       " 'of',\n",
       " 'off',\n",
       " 'on',\n",
       " 'once',\n",
       " 'only',\n",
       " 'or',\n",
       " 'other',\n",
       " 'our',\n",
       " 'ours',\n",
       " 'ourselves',\n",
       " 'out',\n",
       " 'over',\n",
       " 'own',\n",
       " 're',\n",
       " 's',\n",
       " 'same',\n",
       " 'shan',\n",
       " \"shan't\",\n",
       " 'she',\n",
       " \"she's\",\n",
       " 'should',\n",
       " \"should've\",\n",
       " 'shouldn',\n",
       " \"shouldn't\",\n",
       " 'so',\n",
       " 'some',\n",
       " 'such',\n",
       " 't',\n",
       " 'than',\n",
       " 'that',\n",
       " \"that'll\",\n",
       " 'the',\n",
       " 'their',\n",
       " 'theirs',\n",
       " 'them',\n",
       " 'themselves',\n",
       " 'then',\n",
       " 'there',\n",
       " 'these',\n",
       " 'they',\n",
       " 'this',\n",
       " 'those',\n",
       " 'through',\n",
       " 'to',\n",
       " 'too',\n",
       " 'under',\n",
       " 'until',\n",
       " 'up',\n",
       " 've',\n",
       " 'very',\n",
       " 'was',\n",
       " 'wasn',\n",
       " \"wasn't\",\n",
       " 'we',\n",
       " 'were',\n",
       " 'weren',\n",
       " \"weren't\",\n",
       " 'what',\n",
       " 'when',\n",
       " 'where',\n",
       " 'which',\n",
       " 'while',\n",
       " 'who',\n",
       " 'whom',\n",
       " 'why',\n",
       " 'will',\n",
       " 'with',\n",
       " 'won',\n",
       " \"won't\",\n",
       " 'wouldn',\n",
       " \"wouldn't\",\n",
       " 'y',\n",
       " 'you',\n",
       " \"you'd\",\n",
       " \"you'll\",\n",
       " \"you're\",\n",
       " \"you've\",\n",
       " 'your',\n",
       " 'yours',\n",
       " 'yourself',\n",
       " 'yourselves'}"
      ]
     },
     "execution_count": 31,
     "metadata": {},
     "output_type": "execute_result"
    }
   ],
   "source": [
    "# create a set of stopwords\n",
    "from nltk.corpus import stopwords\n",
    "sw = set(stopwords.words('english'))\n",
    "sw"
   ]
  },
  {
   "cell_type": "markdown",
   "metadata": {
    "deletable": false,
    "editable": false
   },
   "source": [
    "## Removing stop words\n",
    "\n",
    "List comprehension can be used to create a list of (word, frequency) tuples with stop words removed."
   ]
  },
  {
   "cell_type": "code",
   "execution_count": 32,
   "metadata": {
    "deletable": false,
    "editable": false
   },
   "outputs": [
    {
     "data": {
      "text/plain": [
       "[('get', 2), ('seat', 1), ('jump', 5), ('around', 3), ('cheese', 0)]"
      ]
     },
     "execution_count": 32,
     "metadata": {},
     "output_type": "execute_result"
    }
   ],
   "source": [
    "# create a list of (word, frequency) tuples but with stop words removed\n",
    "words = [ (w, f) for w,f in blob.word_counts.items() if w not in sw]\n",
    "words"
   ]
  },
  {
   "cell_type": "markdown",
   "metadata": {
    "deletable": false,
    "editable": false
   },
   "source": [
    "## Sorting by frequency\n",
    "\n",
    "The following code will return a sorted list, where the sorting is based on reading list elements from left to right.\n",
    "```python\n",
    "sorted(listName)\n",
    "```\n",
    "\n",
    "If the lists contains tuples, then sorting will be based on the first element of each tuple. But sometimes we want to sort based on another element. This is accomplished by specifying the *key* argument to the *sorted* function. An *itemgetter* can be used here to specify the *index* to use for sorting."
   ]
  },
  {
   "cell_type": "code",
   "execution_count": 33,
   "metadata": {
    "deletable": false,
    "editable": false
   },
   "outputs": [
    {
     "data": {
      "text/plain": [
       "[('jump', 5), ('around', 3), ('get', 2), ('seat', 1), ('cheese', 0)]"
      ]
     },
     "execution_count": 33,
     "metadata": {},
     "output_type": "execute_result"
    }
   ],
   "source": [
    "# sort the list\n",
    "from operator import itemgetter\n",
    "\n",
    "# sort the word list by frequency (stored in index 1 of each tuple) in reverse order (highest to lowest)\n",
    "words = sorted(words, key = itemgetter(1), reverse=True)\n",
    "words"
   ]
  },
  {
   "cell_type": "markdown",
   "metadata": {
    "deletable": false,
    "editable": false
   },
   "source": [
    "## Generating a bar graph of word frequencies\n",
    "\n",
    "A *bar graph* visualizes word frequencies by using a bar for each word; the height of the bar corresponds to the frequency of the word. \n",
    "\n",
    "In order to create a bar graph, we first create a data frame (a table) of word frequencies. The *pandas* module is used to create the data frame."
   ]
  },
  {
   "cell_type": "code",
   "execution_count": 34,
   "metadata": {
    "deletable": false,
    "editable": false
   },
   "outputs": [
    {
     "data": {
      "text/html": [
       "<div>\n",
       "<style scoped>\n",
       "    .dataframe tbody tr th:only-of-type {\n",
       "        vertical-align: middle;\n",
       "    }\n",
       "\n",
       "    .dataframe tbody tr th {\n",
       "        vertical-align: top;\n",
       "    }\n",
       "\n",
       "    .dataframe thead th {\n",
       "        text-align: right;\n",
       "    }\n",
       "</style>\n",
       "<table border=\"1\" class=\"dataframe\">\n",
       "  <thead>\n",
       "    <tr style=\"text-align: right;\">\n",
       "      <th></th>\n",
       "      <th>word</th>\n",
       "      <th>frequency</th>\n",
       "    </tr>\n",
       "  </thead>\n",
       "  <tbody>\n",
       "    <tr>\n",
       "      <th>0</th>\n",
       "      <td>jump</td>\n",
       "      <td>5</td>\n",
       "    </tr>\n",
       "    <tr>\n",
       "      <th>1</th>\n",
       "      <td>around</td>\n",
       "      <td>3</td>\n",
       "    </tr>\n",
       "    <tr>\n",
       "      <th>2</th>\n",
       "      <td>get</td>\n",
       "      <td>2</td>\n",
       "    </tr>\n",
       "    <tr>\n",
       "      <th>3</th>\n",
       "      <td>seat</td>\n",
       "      <td>1</td>\n",
       "    </tr>\n",
       "    <tr>\n",
       "      <th>4</th>\n",
       "      <td>cheese</td>\n",
       "      <td>0</td>\n",
       "    </tr>\n",
       "  </tbody>\n",
       "</table>\n",
       "</div>"
      ],
      "text/plain": [
       "     word  frequency\n",
       "0    jump          5\n",
       "1  around          3\n",
       "2     get          2\n",
       "3    seat          1\n",
       "4  cheese          0"
      ]
     },
     "execution_count": 34,
     "metadata": {},
     "output_type": "execute_result"
    }
   ],
   "source": [
    "import pandas as pd\n",
    "\n",
    "# create a data frame from a list of tuples (each element will be a column)\n",
    "df = pd.DataFrame(words, columns = ['word', 'frequency'])\n",
    "df"
   ]
  },
  {
   "cell_type": "markdown",
   "metadata": {
    "deletable": false,
    "editable": false
   },
   "source": [
    "We can then create a bar graph directly from the data frame, using pandas *plot.bar* function. Note that a *None* is included at the end the cell to prevent the cell from displaying the value returned by the *ax.set_title* statement."
   ]
  },
  {
   "cell_type": "code",
   "execution_count": 35,
   "metadata": {},
   "outputs": [
    {
     "data": {
      "text/plain": [
       "10"
      ]
     },
     "execution_count": 35,
     "metadata": {},
     "output_type": "execute_result"
    }
   ],
   "source": [
    "3+ 7"
   ]
  },
  {
   "cell_type": "code",
   "execution_count": 36,
   "metadata": {},
   "outputs": [],
   "source": [
    "3+7 \n",
    "None"
   ]
  },
  {
   "cell_type": "code",
   "execution_count": 37,
   "metadata": {
    "deletable": false,
    "editable": false
   },
   "outputs": [
    {
     "data": {
      "image/png": "[encoded data removed]",
      "text/plain": [
       "<Figure size 432x288 with 1 Axes>"
      ]
     },
     "metadata": {
      "needs_background": "light"
     },
     "output_type": "display_data"
    }
   ],
   "source": [
    "# generate a bar graph, where 'x' and 'y' are the data frame columns to use\n",
    "ax = df.plot.bar(x = 'word', y = 'frequency', legend = False, color = 'lightblue')\n",
    "\n",
    "# add y-axis labels and a title\n",
    "ax.set_ylabel('frequency')\n",
    "ax.set_title('Word Counts')\n",
    "None"
   ]
  },
  {
   "cell_type": "markdown",
   "metadata": {
    "deletable": false,
    "editable": false
   },
   "source": [
    "### Exercise\n",
    "\n",
    "Because we looked up 'cheese' previously, this was added to the dictionary. How can we update the words list of tuples to remove (word, frequency) pairs where the frequency was 0?"
   ]
  },
  {
   "cell_type": "code",
   "execution_count": 38,
   "metadata": {},
   "outputs": [
    {
     "data": {
      "text/plain": [
       "[('jump', 5), ('around', 3), ('get', 2), ('seat', 1), ('cheese', 0)]"
      ]
     },
     "execution_count": 38,
     "metadata": {},
     "output_type": "execute_result"
    }
   ],
   "source": [
    "words\n",
    "# w = word\n",
    "# f = frequency"
   ]
  },
  {
   "cell_type": "code",
   "execution_count": 39,
   "metadata": {},
   "outputs": [],
   "source": [
    "words  = [  (w,f)  for w, f in words if f > 0   ]"
   ]
  },
  {
   "cell_type": "code",
   "execution_count": 40,
   "metadata": {},
   "outputs": [
    {
     "data": {
      "text/plain": [
       "[('jump', 5), ('around', 3), ('get', 2), ('seat', 1)]"
      ]
     },
     "execution_count": 40,
     "metadata": {},
     "output_type": "execute_result"
    }
   ],
   "source": [
    "words"
   ]
  },
  {
   "cell_type": "code",
   "execution_count": null,
   "metadata": {},
   "outputs": [],
   "source": []
  },
  {
   "cell_type": "markdown",
   "metadata": {
    "deletable": false,
    "editable": false
   },
   "source": [
    "We can generate a horizontal bar graph using the 'plot.barh' function"
   ]
  },
  {
   "cell_type": "code",
   "execution_count": 41,
   "metadata": {
    "deletable": false,
    "editable": false
   },
   "outputs": [
    {
     "data": {
      "image/png": "[encoded data removed]",
      "text/plain": [
       "<Figure size 432x288 with 1 Axes>"
      ]
     },
     "metadata": {
      "needs_background": "light"
     },
     "output_type": "display_data"
    }
   ],
   "source": [
    "ax = df.plot.barh(x = 'word', y = 'frequency', legend = False)\n",
    "ax.set_xlabel('frequency')\n",
    "ax.set_title('Word Counts')\n",
    "None"
   ]
  },
  {
   "cell_type": "markdown",
   "metadata": {
    "deletable": false,
    "editable": false
   },
   "source": [
    "## Word clouds\n",
    "\n",
    "A *word cloud* is a visualization of words where the size of each word is proportional to its frequency. Word clouds can be generated directly from text or from a dictionary containing words and their corresponding frequencies.\n",
    "\n",
    "The default WordCloud has the following arguments:\n",
    "\n",
    "```python\n",
    "WordCloud(background_color = 'black', stopwords = None, colormap = 'viridis', ...)\n",
    "```\n",
    "\n",
    "The *stopwords* argument can be a set of strings of stop words to remove; the default value of *None* will use a built-in stopwords list.\n",
    "\n",
    "For additional colormaps see https://matplotlib.org/3.1.0/tutorials/colors/colormaps.html\n"
   ]
  },
  {
   "cell_type": "code",
   "execution_count": 42,
   "metadata": {
    "deletable": false,
    "editable": false
   },
   "outputs": [
    {
     "data": {
      "image/png": "[encoded data removed]",
      "text/plain": [
       "<PIL.Image.Image image mode=RGB size=400x200 at 0x7FC180374340>"
      ]
     },
     "execution_count": 42,
     "metadata": {},
     "output_type": "execute_result"
    }
   ],
   "source": [
    "from wordcloud import WordCloud\n",
    "# generate a word cloud from text (stop words will be removed)\n",
    "wordcloud = WordCloud().generate(jump)\n",
    "wordcloud.to_image()"
   ]
  },
  {
   "cell_type": "code",
   "execution_count": 43,
   "metadata": {
    "deletable": false,
    "editable": false
   },
   "outputs": [
    {
     "data": {
      "image/png": "[encoded data removed]",
      "text/plain": [
       "<PIL.Image.Image image mode=RGB size=400x200 at 0x7FBC2C3A6C70>"
      ]
     },
     "execution_count": 43,
     "metadata": {},
     "output_type": "execute_result"
    }
   ],
   "source": [
    "# generate a word cloud from a dictionary of frequencies\n",
    "wordcloud = WordCloud(colormap = 'prism').generate_from_frequencies(blob.word_counts)\n",
    "wordcloud.to_image()"
   ]
  },
  {
   "cell_type": "markdown",
   "metadata": {
    "deletable": false,
    "editable": false
   },
   "source": [
    "## Language translation\n",
    "\n",
    "TextBlob can use Google Translate's API (Application Programming Interface) to detect the language of text and to translate between a variety of languages. \n",
    "\n",
    "The supported languages and abbreviations can be found here: https://cloud.google.com/translate/docs/languages\n",
    "\n",
    "When *TextBlob* is used for language detection or translation, a request is sent to Google Translate, which carries out the task and returns the result (an internet connection is therefore required). "
   ]
  },
  {
   "cell_type": "code",
   "execution_count": 78,
   "metadata": {
    "deletable": false,
    "editable": false
   },
   "outputs": [
    {
     "data": {
      "text/plain": [
       "TextBlob(\"¿Hola como estas?\")"
      ]
     },
     "execution_count": 78,
     "metadata": {},
     "output_type": "execute_result"
    }
   ],
   "source": [
    "# create a new blob and detect the language\n",
    "blob = TextBlob('¿Hola como estas?')\n",
    "blob"
   ]
  },
  {
   "cell_type": "code",
   "execution_count": 79,
   "metadata": {
    "deletable": false,
    "editable": false
   },
   "outputs": [
    {
     "data": {
      "text/plain": [
       "TextBlob(\"Hi, how are you?\")"
      ]
     },
     "execution_count": 79,
     "metadata": {},
     "output_type": "execute_result"
    }
   ],
   "source": [
    "# default translation will be to english (to='en')\n",
    "blob.translate()"
   ]
  },
  {
   "cell_type": "code",
   "execution_count": 80,
   "metadata": {
    "deletable": false,
    "editable": false
   },
   "outputs": [
    {
     "data": {
      "text/plain": [
       "TextBlob(\"你好你好吗？\")"
      ]
     },
     "execution_count": 80,
     "metadata": {},
     "output_type": "execute_result"
    }
   ],
   "source": [
    "# let's translate this to Chinese (simplified)\n",
    "blob.translate(to='zh')"
   ]
  },
  {
   "cell_type": "code",
   "execution_count": null,
   "metadata": {},
   "outputs": [],
   "source": []
  }
 ],
 "metadata": {
  "kernelspec": {
   "display_name": "Python 3 (ipykernel)",
   "language": "python",
   "name": "python3"
  },
  "language_info": {
   "codemirror_mode": {
    "name": "ipython",
    "version": 3
   },
   "file_extension": ".py",
   "mimetype": "text/x-python",
   "name": "python",
   "nbconvert_exporter": "python",
   "pygments_lexer": "ipython3",
   "version": "3.9.7"
  }
 },
 "nbformat": 4,
 "nbformat_minor": 2
}
