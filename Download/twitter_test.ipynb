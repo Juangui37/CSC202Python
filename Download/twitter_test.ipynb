{
 "cells": [
  {
   "cell_type": "markdown",
   "metadata": {
    "deletable": false,
    "editable": false
   },
   "source": [
    "# Twitter Test\n",
    "\n",
    "This Notebook can be used to test whether you have correctly set up your *credentials* file. The file *credentials.py* must be in the same directory as this Notebook."
   ]
  },
  {
   "cell_type": "code",
   "execution_count": 2,
   "metadata": {
    "deletable": false,
    "editable": false
   },
   "outputs": [],
   "source": [
    "import tweepy\n",
    "import credentials\n",
    "\n",
    "client = tweepy.client.Client(bearer_token = credentials.BEARER_TOKEN, consumer_key = credentials.API_KEY, consumer_secret = credentials.API_KEY_SECRET)"
   ]
  },
  {
   "cell_type": "markdown",
   "metadata": {
    "deletable": false,
    "editable": false
   },
   "source": [
    "### Search recent tweets\n",
    "\n",
    "Let's get recent English language tweets mentioning \"spring break\". By default, 10 tweets are returned. Note that you are limited to retreiving 500,000 tweets a month. "
   ]
  },
  {
   "cell_type": "code",
   "execution_count": 3,
   "metadata": {
    "deletable": false,
    "editable": false
   },
   "outputs": [],
   "source": [
    "results = client.search_recent_tweets('spring break lang:en')"
   ]
  },
  {
   "cell_type": "markdown",
   "metadata": {},
   "source": [
    "### View the tweets"
   ]
  },
  {
   "cell_type": "code",
   "execution_count": 4,
   "metadata": {
    "deletable": false,
    "editable": false
   },
   "outputs": [
    {
     "name": "stdout",
     "output_type": "stream",
     "text": [
      "@fleshlightbug Golfing, beaches, local cuisine, and historic River Street—Savannah/Hilton Head (SAV) has all that, and more. Sound like a good change of pace for your spring break getaway? Book today, or tap the ❤ for more ideas. #WannaGetAway \n",
      "\n",
      "@Ldonahuehjelle We have so many college students, it will be interesting so see numbers post Spring break…. \n",
      "\n",
      "RT @BrianEntin: The Miami Beach spring break has gotten so out of control the city is declaring a state of emergency, the mayor says. \n",
      "\n",
      "RT @stakefish: It's spring break and to celebrate we are giving away 200 @RTFKTstudios #CloneX #SpacePod \"Stake &amp; Relax\" neon signs. 🎉🏖️\n",
      "\n",
      "✅… \n",
      "\n",
      "RT @Type1cards: 🚨Spring Break Giveaway🚨\n",
      "🏀Ends 3/25/22🏀\n",
      "\n",
      "1. Follow\n",
      "2. RT\n",
      "3. U.S. only\n",
      "\n",
      "👍If you have cards in your bio, I follow back 👍 https… \n",
      "\n",
      "RT @amaseing: this tramp stamp tattoo from spring break will NOT come off lmao https://t.co/IROR0TRAKV \n",
      "\n",
      "RT @FOS: Florida State football players just returned from Spring Break.\n",
      "\n",
      "Athletic Director Michael Alford surprised the Seminoles by unvei… \n",
      "\n",
      "RT @BrianEntin: The Miami Beach spring break has gotten so out of control the city is declaring a state of emergency, the mayor says. \n",
      "\n",
      "RT @GarrettMGouveia: Time for another #CNFTGiveaway! This time, a break from the last few, with a @discosolaris being given away. To kick o… \n",
      "\n",
      "RT @MediaCrossroads: We're back!  First show to go live after Spring Break is @TakeaSideKU with @Ryan_AtchisonTV filling in as host.  @MrCo… \n",
      "\n"
     ]
    }
   ],
   "source": [
    "for r in results.data :\n",
    "    print(r.text, '\\n')"
   ]
  },
  {
   "cell_type": "markdown",
   "metadata": {
    "deletable": false,
    "editable": false
   },
   "source": [
    "### Don't forget your Monthly Tweet Cap\n",
    "\n",
    "As mentioned above, you are limited to retreiving 500,000 tweets a month. To see this monthly Twitter cap usage, log on to your developer account, at https://developer.twitter.com, and click on the 'Developer Portal' link on the top right. \n",
    "\n",
    "This page will look something like this: https://gdancik.github.io/CSC-202/data/notes/twitter.png."
   ]
  },
  {
   "cell_type": "code",
   "execution_count": null,
   "metadata": {},
   "outputs": [],
   "source": []
  }
 ],
 "metadata": {
  "kernelspec": {
   "display_name": "Python 3 (ipykernel)",
   "language": "python",
   "name": "python3"
  },
  "language_info": {
   "codemirror_mode": {
    "name": "ipython",
    "version": 3
   },
   "file_extension": ".py",
   "mimetype": "text/x-python",
   "name": "python",
   "nbconvert_exporter": "python",
   "pygments_lexer": "ipython3",
   "version": "3.9.7"
  }
 },
 "nbformat": 4,
 "nbformat_minor": 2
}
